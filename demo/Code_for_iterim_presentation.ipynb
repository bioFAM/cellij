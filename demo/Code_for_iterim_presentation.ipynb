{
 "cells": [
  {
   "cell_type": "code",
   "execution_count": 1,
   "metadata": {},
   "outputs": [],
   "source": [
    "import pyro\n",
    "import mfmf\n",
    "import torch\n",
    "import mofax as mfx\n",
    "import matplotlib.pyplot as plt\n",
    "import seaborn as sns\n",
    "\n",
    "from mofapy2.run.entry_point import entry_point\n",
    "import pandas as pd\n",
    "import numpy as np\n",
    "\n",
    "N_FACTORS = 6"
   ]
  },
  {
   "cell_type": "code",
   "execution_count": 2,
   "metadata": {},
   "outputs": [
    {
     "ename": "ValueError",
     "evalue": "Error while computing log_prob at site 'y_mrna_all_features_all_observations':\nValue is not broadcastable with batch_shape+event_shape: torch.Size([136, 5000]) vs torch.Size([136, 5, 5000]).\n                            Trace Shapes:               \n                             Param Sites:               \n                            Sample Sites:               \n            hs_tau_mrna_all_features dist            1 |\n                                    value            1 |\n                                 log_prob            1 |\n         hs_lambda_mrna_all_features dist       5 5000 |\n                                    value       5 5000 |\n                                 log_prob       5 5000 |\n                 w_mrna_all_features dist       5 5000 |\n                                    value       5 5000 |\n                                 log_prob       5 5000 |\n                                 tau dist            1 |\n                                    value            1 |\n                                 log_prob            1 |\n                  z_all_observations dist 136   5    5 |\n                                    value 136   5    5 |\n                                 log_prob 136   5    5 |\ny_mrna_all_features_all_observations dist 136   5 5000 |\n                                    value     136 5000 |",
     "output_type": "error",
     "traceback": [
      "\u001b[0;31m---------------------------------------------------------------------------\u001b[0m",
      "\u001b[0;31mValueError\u001b[0m                                Traceback (most recent call last)",
      "File \u001b[0;32m/data/treis/envs/mfmf/lib/python3.9/site-packages/pyro/poutine/trace_struct.py:230\u001b[0m, in \u001b[0;36mTrace.compute_log_prob\u001b[0;34m(self, site_filter)\u001b[0m\n\u001b[1;32m    229\u001b[0m \u001b[39mtry\u001b[39;00m:\n\u001b[0;32m--> 230\u001b[0m     log_p \u001b[39m=\u001b[39m site[\u001b[39m\"\u001b[39;49m\u001b[39mfn\u001b[39;49m\u001b[39m\"\u001b[39;49m]\u001b[39m.\u001b[39;49mlog_prob(\n\u001b[1;32m    231\u001b[0m         site[\u001b[39m\"\u001b[39;49m\u001b[39mvalue\u001b[39;49m\u001b[39m\"\u001b[39;49m], \u001b[39m*\u001b[39;49msite[\u001b[39m\"\u001b[39;49m\u001b[39margs\u001b[39;49m\u001b[39m\"\u001b[39;49m], \u001b[39m*\u001b[39;49m\u001b[39m*\u001b[39;49msite[\u001b[39m\"\u001b[39;49m\u001b[39mkwargs\u001b[39;49m\u001b[39m\"\u001b[39;49m]\n\u001b[1;32m    232\u001b[0m     )\n\u001b[1;32m    233\u001b[0m \u001b[39mexcept\u001b[39;00m \u001b[39mValueError\u001b[39;00m \u001b[39mas\u001b[39;00m e:\n",
      "File \u001b[0;32m/data/treis/envs/mfmf/lib/python3.9/site-packages/torch/distributions/normal.py:73\u001b[0m, in \u001b[0;36mNormal.log_prob\u001b[0;34m(self, value)\u001b[0m\n\u001b[1;32m     72\u001b[0m \u001b[39mif\u001b[39;00m \u001b[39mself\u001b[39m\u001b[39m.\u001b[39m_validate_args:\n\u001b[0;32m---> 73\u001b[0m     \u001b[39mself\u001b[39;49m\u001b[39m.\u001b[39;49m_validate_sample(value)\n\u001b[1;32m     74\u001b[0m \u001b[39m# compute the variance\u001b[39;00m\n",
      "File \u001b[0;32m/data/treis/envs/mfmf/lib/python3.9/site-packages/torch/distributions/distribution.py:276\u001b[0m, in \u001b[0;36mDistribution._validate_sample\u001b[0;34m(self, value)\u001b[0m\n\u001b[1;32m    275\u001b[0m     \u001b[39mif\u001b[39;00m i \u001b[39m!=\u001b[39m \u001b[39m1\u001b[39m \u001b[39mand\u001b[39;00m j \u001b[39m!=\u001b[39m \u001b[39m1\u001b[39m \u001b[39mand\u001b[39;00m i \u001b[39m!=\u001b[39m j:\n\u001b[0;32m--> 276\u001b[0m         \u001b[39mraise\u001b[39;00m \u001b[39mValueError\u001b[39;00m(\u001b[39m'\u001b[39m\u001b[39mValue is not broadcastable with batch_shape+event_shape: \u001b[39m\u001b[39m{}\u001b[39;00m\u001b[39m vs \u001b[39m\u001b[39m{}\u001b[39;00m\u001b[39m.\u001b[39m\u001b[39m'\u001b[39m\u001b[39m.\u001b[39m\n\u001b[1;32m    277\u001b[0m                          \u001b[39mformat\u001b[39m(actual_shape, expected_shape))\n\u001b[1;32m    278\u001b[0m \u001b[39mtry\u001b[39;00m:\n",
      "\u001b[0;31mValueError\u001b[0m: Value is not broadcastable with batch_shape+event_shape: torch.Size([136, 5000]) vs torch.Size([136, 5, 5000]).",
      "\nThe above exception was the direct cause of the following exception:\n",
      "\u001b[0;31mValueError\u001b[0m                                Traceback (most recent call last)",
      "\u001b[1;32m/home/treis/T2022B_MSc_thesis/demo/Code_for_iterim_presentation.ipynb Zelle 2\u001b[0m in \u001b[0;36m<cell line: 22>\u001b[0;34m()\u001b[0m\n\u001b[1;32m     <a href='vscode-notebook-cell://ssh-remote%2Bb260-pc02.inet.dkfz-heidelberg.de/home/treis/T2022B_MSc_thesis/demo/Code_for_iterim_presentation.ipynb#W1sdnNjb2RlLXJlbW90ZQ%3D%3D?line=18'>19</a>\u001b[0m fm\u001b[39m.\u001b[39madd_View(\u001b[39m\"\u001b[39m\u001b[39mmrna\u001b[39m\u001b[39m\"\u001b[39m, cll_data[\u001b[39m\"\u001b[39m\u001b[39mmrna\u001b[39m\u001b[39m\"\u001b[39m])\n\u001b[1;32m     <a href='vscode-notebook-cell://ssh-remote%2Bb260-pc02.inet.dkfz-heidelberg.de/home/treis/T2022B_MSc_thesis/demo/Code_for_iterim_presentation.ipynb#W1sdnNjb2RlLXJlbW90ZQ%3D%3D?line=19'>20</a>\u001b[0m \u001b[39m# fm.add_View(\"mutations\", cll_data[\"mutations\"])\u001b[39;00m\n\u001b[0;32m---> <a href='vscode-notebook-cell://ssh-remote%2Bb260-pc02.inet.dkfz-heidelberg.de/home/treis/T2022B_MSc_thesis/demo/Code_for_iterim_presentation.ipynb#W1sdnNjb2RlLXJlbW90ZQ%3D%3D?line=21'>22</a>\u001b[0m fm\u001b[39m.\u001b[39;49mfit(n_factors\u001b[39m=\u001b[39;49m\u001b[39m5\u001b[39;49m, feature_reg\u001b[39m=\u001b[39;49m\u001b[39m\"\u001b[39;49m\u001b[39mhorseshoe\u001b[39;49m\u001b[39m\"\u001b[39;49m, dry_run\u001b[39m=\u001b[39;49m\u001b[39mFalse\u001b[39;49;00m)\n",
      "File \u001b[0;32m~/T2022B_MSc_thesis/mfmf/modules/model.py:812\u001b[0m, in \u001b[0;36mFactorModel.fit\u001b[0;34m(self, n_factors, likelihood, feature_reg, sample_reg, store_params, dry_run)\u001b[0m\n\u001b[1;32m    810\u001b[0m stop_counter \u001b[39m=\u001b[39m \u001b[39m0\u001b[39m\n\u001b[1;32m    811\u001b[0m \u001b[39mfor\u001b[39;00m epoch \u001b[39min\u001b[39;00m \u001b[39mrange\u001b[39m(\u001b[39mself\u001b[39m\u001b[39m.\u001b[39mloss\u001b[39m.\u001b[39mepochs \u001b[39m+\u001b[39m \u001b[39m1\u001b[39m):\n\u001b[0;32m--> 812\u001b[0m     cur_loss \u001b[39m=\u001b[39m \u001b[39mself\u001b[39;49m\u001b[39m.\u001b[39;49msvi\u001b[39m.\u001b[39;49mstep()\n\u001b[1;32m    813\u001b[0m     \u001b[39mself\u001b[39m\u001b[39m.\u001b[39mloss_during_training \u001b[39m=\u001b[39m pd\u001b[39m.\u001b[39mconcat(\n\u001b[1;32m    814\u001b[0m         [\n\u001b[1;32m    815\u001b[0m             \u001b[39mself\u001b[39m\u001b[39m.\u001b[39mloss_during_training,\n\u001b[0;32m   (...)\u001b[0m\n\u001b[1;32m    823\u001b[0m         axis\u001b[39m=\u001b[39m\u001b[39m0\u001b[39m,\n\u001b[1;32m    824\u001b[0m     )\n\u001b[1;32m    825\u001b[0m     \u001b[39mif\u001b[39;00m epoch \u001b[39m%\u001b[39m \u001b[39mself\u001b[39m\u001b[39m.\u001b[39mloss\u001b[39m.\u001b[39mreport_after_n_epochs \u001b[39m==\u001b[39m \u001b[39m0\u001b[39m:\n",
      "File \u001b[0;32m/data/treis/envs/mfmf/lib/python3.9/site-packages/pyro/infer/svi.py:145\u001b[0m, in \u001b[0;36mSVI.step\u001b[0;34m(self, *args, **kwargs)\u001b[0m\n\u001b[1;32m    143\u001b[0m \u001b[39m# get loss and compute gradients\u001b[39;00m\n\u001b[1;32m    144\u001b[0m \u001b[39mwith\u001b[39;00m poutine\u001b[39m.\u001b[39mtrace(param_only\u001b[39m=\u001b[39m\u001b[39mTrue\u001b[39;00m) \u001b[39mas\u001b[39;00m param_capture:\n\u001b[0;32m--> 145\u001b[0m     loss \u001b[39m=\u001b[39m \u001b[39mself\u001b[39;49m\u001b[39m.\u001b[39;49mloss_and_grads(\u001b[39mself\u001b[39;49m\u001b[39m.\u001b[39;49mmodel, \u001b[39mself\u001b[39;49m\u001b[39m.\u001b[39;49mguide, \u001b[39m*\u001b[39;49margs, \u001b[39m*\u001b[39;49m\u001b[39m*\u001b[39;49mkwargs)\n\u001b[1;32m    147\u001b[0m params \u001b[39m=\u001b[39m \u001b[39mset\u001b[39m(\n\u001b[1;32m    148\u001b[0m     site[\u001b[39m\"\u001b[39m\u001b[39mvalue\u001b[39m\u001b[39m\"\u001b[39m]\u001b[39m.\u001b[39munconstrained() \u001b[39mfor\u001b[39;00m site \u001b[39min\u001b[39;00m param_capture\u001b[39m.\u001b[39mtrace\u001b[39m.\u001b[39mnodes\u001b[39m.\u001b[39mvalues()\n\u001b[1;32m    149\u001b[0m )\n\u001b[1;32m    151\u001b[0m \u001b[39m# actually perform gradient steps\u001b[39;00m\n\u001b[1;32m    152\u001b[0m \u001b[39m# torch.optim objects gets instantiated for any params that haven't been seen yet\u001b[39;00m\n",
      "File \u001b[0;32m/data/treis/envs/mfmf/lib/python3.9/site-packages/pyro/infer/trace_elbo.py:140\u001b[0m, in \u001b[0;36mTrace_ELBO.loss_and_grads\u001b[0;34m(self, model, guide, *args, **kwargs)\u001b[0m\n\u001b[1;32m    138\u001b[0m loss \u001b[39m=\u001b[39m \u001b[39m0.0\u001b[39m\n\u001b[1;32m    139\u001b[0m \u001b[39m# grab a trace from the generator\u001b[39;00m\n\u001b[0;32m--> 140\u001b[0m \u001b[39mfor\u001b[39;00m model_trace, guide_trace \u001b[39min\u001b[39;00m \u001b[39mself\u001b[39m\u001b[39m.\u001b[39m_get_traces(model, guide, args, kwargs):\n\u001b[1;32m    141\u001b[0m     loss_particle, surrogate_loss_particle \u001b[39m=\u001b[39m \u001b[39mself\u001b[39m\u001b[39m.\u001b[39m_differentiable_loss_particle(\n\u001b[1;32m    142\u001b[0m         model_trace, guide_trace\n\u001b[1;32m    143\u001b[0m     )\n\u001b[1;32m    144\u001b[0m     loss \u001b[39m+\u001b[39m\u001b[39m=\u001b[39m loss_particle \u001b[39m/\u001b[39m \u001b[39mself\u001b[39m\u001b[39m.\u001b[39mnum_particles\n",
      "File \u001b[0;32m/data/treis/envs/mfmf/lib/python3.9/site-packages/pyro/infer/elbo.py:178\u001b[0m, in \u001b[0;36mELBO._get_traces\u001b[0;34m(self, model, guide, args, kwargs)\u001b[0m\n\u001b[1;32m    176\u001b[0m \u001b[39mif\u001b[39;00m \u001b[39mself\u001b[39m\u001b[39m.\u001b[39mvectorize_particles:\n\u001b[1;32m    177\u001b[0m     \u001b[39mif\u001b[39;00m \u001b[39mself\u001b[39m\u001b[39m.\u001b[39mmax_plate_nesting \u001b[39m==\u001b[39m \u001b[39mfloat\u001b[39m(\u001b[39m\"\u001b[39m\u001b[39minf\u001b[39m\u001b[39m\"\u001b[39m):\n\u001b[0;32m--> 178\u001b[0m         \u001b[39mself\u001b[39;49m\u001b[39m.\u001b[39;49m_guess_max_plate_nesting(model, guide, args, kwargs)\n\u001b[1;32m    179\u001b[0m     \u001b[39myield\u001b[39;00m \u001b[39mself\u001b[39m\u001b[39m.\u001b[39m_get_vectorized_trace(model, guide, args, kwargs)\n\u001b[1;32m    180\u001b[0m \u001b[39melse\u001b[39;00m:\n",
      "File \u001b[0;32m/data/treis/envs/mfmf/lib/python3.9/site-packages/pyro/infer/elbo.py:116\u001b[0m, in \u001b[0;36mELBO._guess_max_plate_nesting\u001b[0;34m(self, model, guide, args, kwargs)\u001b[0m\n\u001b[1;32m    114\u001b[0m \u001b[39mif\u001b[39;00m is_validation_enabled():\n\u001b[1;32m    115\u001b[0m     guide_trace\u001b[39m.\u001b[39mcompute_log_prob()\n\u001b[0;32m--> 116\u001b[0m     model_trace\u001b[39m.\u001b[39;49mcompute_log_prob()\n\u001b[1;32m    117\u001b[0m     \u001b[39mfor\u001b[39;00m site \u001b[39min\u001b[39;00m sites:\n\u001b[1;32m    118\u001b[0m         check_site_shape(site, max_plate_nesting\u001b[39m=\u001b[39m\u001b[39mfloat\u001b[39m(\u001b[39m\"\u001b[39m\u001b[39minf\u001b[39m\u001b[39m\"\u001b[39m))\n",
      "File \u001b[0;32m/data/treis/envs/mfmf/lib/python3.9/site-packages/pyro/poutine/trace_struct.py:236\u001b[0m, in \u001b[0;36mTrace.compute_log_prob\u001b[0;34m(self, site_filter)\u001b[0m\n\u001b[1;32m    234\u001b[0m     _, exc_value, traceback \u001b[39m=\u001b[39m sys\u001b[39m.\u001b[39mexc_info()\n\u001b[1;32m    235\u001b[0m     shapes \u001b[39m=\u001b[39m \u001b[39mself\u001b[39m\u001b[39m.\u001b[39mformat_shapes(last_site\u001b[39m=\u001b[39msite[\u001b[39m\"\u001b[39m\u001b[39mname\u001b[39m\u001b[39m\"\u001b[39m])\n\u001b[0;32m--> 236\u001b[0m     \u001b[39mraise\u001b[39;00m \u001b[39mValueError\u001b[39;00m(\n\u001b[1;32m    237\u001b[0m         \u001b[39m\"\u001b[39m\u001b[39mError while computing log_prob at site \u001b[39m\u001b[39m'\u001b[39m\u001b[39m{}\u001b[39;00m\u001b[39m'\u001b[39m\u001b[39m:\u001b[39m\u001b[39m\\n\u001b[39;00m\u001b[39m{}\u001b[39;00m\u001b[39m\\n\u001b[39;00m\u001b[39m{}\u001b[39;00m\u001b[39m\"\u001b[39m\u001b[39m.\u001b[39mformat(\n\u001b[1;32m    238\u001b[0m             name, exc_value, shapes\n\u001b[1;32m    239\u001b[0m         )\n\u001b[1;32m    240\u001b[0m     )\u001b[39m.\u001b[39mwith_traceback(traceback) \u001b[39mfrom\u001b[39;00m \u001b[39me\u001b[39;00m\n\u001b[1;32m    241\u001b[0m site[\u001b[39m\"\u001b[39m\u001b[39munscaled_log_prob\u001b[39m\u001b[39m\"\u001b[39m] \u001b[39m=\u001b[39m log_p\n\u001b[1;32m    242\u001b[0m log_p \u001b[39m=\u001b[39m scale_and_mask(log_p, site[\u001b[39m\"\u001b[39m\u001b[39mscale\u001b[39m\u001b[39m\"\u001b[39m], site[\u001b[39m\"\u001b[39m\u001b[39mmask\u001b[39m\u001b[39m\"\u001b[39m])\n",
      "File \u001b[0;32m/data/treis/envs/mfmf/lib/python3.9/site-packages/pyro/poutine/trace_struct.py:230\u001b[0m, in \u001b[0;36mTrace.compute_log_prob\u001b[0;34m(self, site_filter)\u001b[0m\n\u001b[1;32m    228\u001b[0m \u001b[39mif\u001b[39;00m \u001b[39m\"\u001b[39m\u001b[39mlog_prob\u001b[39m\u001b[39m\"\u001b[39m \u001b[39mnot\u001b[39;00m \u001b[39min\u001b[39;00m site:\n\u001b[1;32m    229\u001b[0m     \u001b[39mtry\u001b[39;00m:\n\u001b[0;32m--> 230\u001b[0m         log_p \u001b[39m=\u001b[39m site[\u001b[39m\"\u001b[39;49m\u001b[39mfn\u001b[39;49m\u001b[39m\"\u001b[39;49m]\u001b[39m.\u001b[39;49mlog_prob(\n\u001b[1;32m    231\u001b[0m             site[\u001b[39m\"\u001b[39;49m\u001b[39mvalue\u001b[39;49m\u001b[39m\"\u001b[39;49m], \u001b[39m*\u001b[39;49msite[\u001b[39m\"\u001b[39;49m\u001b[39margs\u001b[39;49m\u001b[39m\"\u001b[39;49m], \u001b[39m*\u001b[39;49m\u001b[39m*\u001b[39;49msite[\u001b[39m\"\u001b[39;49m\u001b[39mkwargs\u001b[39;49m\u001b[39m\"\u001b[39;49m]\n\u001b[1;32m    232\u001b[0m         )\n\u001b[1;32m    233\u001b[0m     \u001b[39mexcept\u001b[39;00m \u001b[39mValueError\u001b[39;00m \u001b[39mas\u001b[39;00m e:\n\u001b[1;32m    234\u001b[0m         _, exc_value, traceback \u001b[39m=\u001b[39m sys\u001b[39m.\u001b[39mexc_info()\n",
      "File \u001b[0;32m/data/treis/envs/mfmf/lib/python3.9/site-packages/torch/distributions/normal.py:73\u001b[0m, in \u001b[0;36mNormal.log_prob\u001b[0;34m(self, value)\u001b[0m\n\u001b[1;32m     71\u001b[0m \u001b[39mdef\u001b[39;00m \u001b[39mlog_prob\u001b[39m(\u001b[39mself\u001b[39m, value):\n\u001b[1;32m     72\u001b[0m     \u001b[39mif\u001b[39;00m \u001b[39mself\u001b[39m\u001b[39m.\u001b[39m_validate_args:\n\u001b[0;32m---> 73\u001b[0m         \u001b[39mself\u001b[39;49m\u001b[39m.\u001b[39;49m_validate_sample(value)\n\u001b[1;32m     74\u001b[0m     \u001b[39m# compute the variance\u001b[39;00m\n\u001b[1;32m     75\u001b[0m     var \u001b[39m=\u001b[39m (\u001b[39mself\u001b[39m\u001b[39m.\u001b[39mscale \u001b[39m*\u001b[39m\u001b[39m*\u001b[39m \u001b[39m2\u001b[39m)\n",
      "File \u001b[0;32m/data/treis/envs/mfmf/lib/python3.9/site-packages/torch/distributions/distribution.py:276\u001b[0m, in \u001b[0;36mDistribution._validate_sample\u001b[0;34m(self, value)\u001b[0m\n\u001b[1;32m    274\u001b[0m \u001b[39mfor\u001b[39;00m i, j \u001b[39min\u001b[39;00m \u001b[39mzip\u001b[39m(\u001b[39mreversed\u001b[39m(actual_shape), \u001b[39mreversed\u001b[39m(expected_shape)):\n\u001b[1;32m    275\u001b[0m     \u001b[39mif\u001b[39;00m i \u001b[39m!=\u001b[39m \u001b[39m1\u001b[39m \u001b[39mand\u001b[39;00m j \u001b[39m!=\u001b[39m \u001b[39m1\u001b[39m \u001b[39mand\u001b[39;00m i \u001b[39m!=\u001b[39m j:\n\u001b[0;32m--> 276\u001b[0m         \u001b[39mraise\u001b[39;00m \u001b[39mValueError\u001b[39;00m(\u001b[39m'\u001b[39m\u001b[39mValue is not broadcastable with batch_shape+event_shape: \u001b[39m\u001b[39m{}\u001b[39;00m\u001b[39m vs \u001b[39m\u001b[39m{}\u001b[39;00m\u001b[39m.\u001b[39m\u001b[39m'\u001b[39m\u001b[39m.\u001b[39m\n\u001b[1;32m    277\u001b[0m                          \u001b[39mformat\u001b[39m(actual_shape, expected_shape))\n\u001b[1;32m    278\u001b[0m \u001b[39mtry\u001b[39;00m:\n\u001b[1;32m    279\u001b[0m     support \u001b[39m=\u001b[39m \u001b[39mself\u001b[39m\u001b[39m.\u001b[39msupport\n",
      "\u001b[0;31mValueError\u001b[0m: Error while computing log_prob at site 'y_mrna_all_features_all_observations':\nValue is not broadcastable with batch_shape+event_shape: torch.Size([136, 5000]) vs torch.Size([136, 5, 5000]).\n                            Trace Shapes:               \n                             Param Sites:               \n                            Sample Sites:               \n            hs_tau_mrna_all_features dist            1 |\n                                    value            1 |\n                                 log_prob            1 |\n         hs_lambda_mrna_all_features dist       5 5000 |\n                                    value       5 5000 |\n                                 log_prob       5 5000 |\n                 w_mrna_all_features dist       5 5000 |\n                                    value       5 5000 |\n                                 log_prob       5 5000 |\n                                 tau dist            1 |\n                                    value            1 |\n                                 log_prob            1 |\n                  z_all_observations dist 136   5    5 |\n                                    value 136   5    5 |\n                                 log_prob 136   5    5 |\ny_mrna_all_features_all_observations dist 136   5 5000 |\n                                    value     136 5000 |"
     ]
    }
   ],
   "source": [
    "optimizer = pyro.optim.Adam({\"lr\": 0.2, \"betas\": (0.90, 0.999)})\n",
    "loss = mfmf.loss.EarlyStoppingLoss(\n",
    "    loss_fn=pyro.infer.Trace_ELBO(num_particles=1, vectorize_particles=True),\n",
    "    epochs=1200,\n",
    "    report_after_n_epochs=100,\n",
    "    min_decrease=0.001,\n",
    "    max_flat_intervals=3,\n",
    ")\n",
    "\n",
    "fm = mfmf.model.FactorModel(\n",
    "    optimizer=optimizer,\n",
    "    loss=loss,\n",
    "    device=\"cuda\",\n",
    ")\n",
    "\n",
    "imp = mfmf.importer.Importer()\n",
    "cll_data = imp.load_CLL()\n",
    "# fm.add_MultiView(cll_data)\n",
    "fm.add_View(\"mrna\", cll_data[\"mrna\"])\n",
    "# fm.add_View(\"mutations\", cll_data[\"mutations\"])\n",
    "\n",
    "fm.fit(n_factors=5, feature_reg=\"horseshoe\", dry_run=False)\n"
   ]
  },
  {
   "cell_type": "code",
   "execution_count": null,
   "metadata": {},
   "outputs": [
    {
     "data": {
      "text/plain": [
       "<AxesSubplot:>"
      ]
     },
     "execution_count": 3,
     "metadata": {},
     "output_type": "execute_result"
    },
    {
     "data": {
      "image/png": "[encoded data removed]",
      "text/plain": [
       "<Figure size 432x288 with 2 Axes>"
      ]
     },
     "metadata": {
      "needs_background": "light"
     },
     "output_type": "display_data"
    }
   ],
   "source": [
    "sns.heatmap(cll_data[\"mutations\"].X)"
   ]
  },
  {
   "cell_type": "code",
   "execution_count": null,
   "metadata": {},
   "outputs": [
    {
     "data": {
      "text/plain": [
       "<AxesSubplot:>"
      ]
     },
     "execution_count": 4,
     "metadata": {},
     "output_type": "execute_result"
    },
    {
     "data": {
      "image/png": "[encoded data removed]",
      "text/plain": [
       "<Figure size 432x288 with 2 Axes>"
      ]
     },
     "metadata": {
      "needs_background": "light"
     },
     "output_type": "display_data"
    }
   ],
   "source": [
    "sns.heatmap(fm.data[\"mrna_all_features\"][\"w\"].cpu().detach().numpy(), cmap=\"seismic\", center=0)"
   ]
  },
  {
   "cell_type": "code",
   "execution_count": null,
   "metadata": {},
   "outputs": [
    {
     "name": "stdout",
     "output_type": "stream",
     "text": [
      "╒════════════════════════════════════╤════════════════════════════╤═════════════════════════════════╕\n",
      "│                                    │ ('mrna', 'all_features')   │ ('mutations', 'all_features')   │\n",
      "╞════════════════════════════════════╪════════════════════════════╪═════════════════════════════════╡\n",
      "│ ('all_observations', 'likelihood') │ Normal                     │ Bernoulli                       │\n",
      "╘════════════════════════════════════╧════════════════════════════╧═════════════════════════════════╛\n"
     ]
    }
   ],
   "source": [
    "fm = mfmf.model.FactorModel(\n",
    "    optimizer=optimizer,\n",
    "    loss=loss,\n",
    "    device=\"cuda\",\n",
    ")\n",
    "\n",
    "imp = mfmf.importer.Importer()\n",
    "cll_data = imp.load_CLL()\n",
    "fm.add_View(\"mrna\", cll_data[\"mrna\"])\n",
    "fm.add_View(\"mutations\", cll_data[\"mutations\"])\n",
    "\n",
    "fm.fit(\n",
    "    n_factors=5, \n",
    "    likelihood={\n",
    "        \"mrna\": pyro.distributions.Normal, \n",
    "        \"mutations\": pyro.distributions.Bernoulli\n",
    "    },\n",
    "    dry_run=True\n",
    ")\n"
   ]
  },
  {
   "cell_type": "code",
   "execution_count": null,
   "metadata": {},
   "outputs": [
    {
     "name": "stdout",
     "output_type": "stream",
     "text": [
      "╒═════════════════════════════════════╤════════════════════════════╤═════════════════════════════════╕\n",
      "│                                     │ ('mrna', 'all_features')   │ ('mutations', 'all_features')   │\n",
      "╞═════════════════════════════════════╪════════════════════════════╪═════════════════════════════════╡\n",
      "│ ('all_observations', 'likelihood')  │ Normal                     │ Bernoulli                       │\n",
      "├─────────────────────────────────────┼────────────────────────────┼─────────────────────────────────┤\n",
      "│ ('all_observations', 'feature_reg') │ horseshoe                  │ spike-n-slab                    │\n",
      "├─────────────────────────────────────┼────────────────────────────┼─────────────────────────────────┤\n",
      "│ ('all_observations', 'sample_reg')  │ finnish_horseshoe          │ finnish_horseshoe               │\n",
      "╘═════════════════════════════════════╧════════════════════════════╧═════════════════════════════════╛\n"
     ]
    }
   ],
   "source": [
    "fm = mfmf.model.FactorModel(\n",
    "    optimizer=optimizer,\n",
    "    loss=loss,\n",
    "    device=\"cuda\",\n",
    ")\n",
    "\n",
    "imp = mfmf.importer.Importer()\n",
    "cll_data = imp.load_CLL()\n",
    "fm.add_View(\"mrna\", cll_data[\"mrna\"])\n",
    "fm.add_View(\"mutations\", cll_data[\"mutations\"])\n",
    "\n",
    "fm.fit(\n",
    "    n_factors=5, \n",
    "    likelihood={\n",
    "        \"mrna\": pyro.distributions.Normal, \n",
    "        \"mutations\": pyro.distributions.Bernoulli\n",
    "    },\n",
    "    feature_reg={\n",
    "        \"mrna\": \"horseshoe\", \n",
    "        \"mutations\": \"spike-n-slab\"\n",
    "    },\n",
    "    sample_reg={\n",
    "        \"mrna\": \"finnish_horseshoe\", \n",
    "        \"mutations\": \"finnish_horseshoe\"\n",
    "    },\n",
    "    dry_run=True\n",
    ")\n"
   ]
  },
  {
   "cell_type": "code",
   "execution_count": null,
   "metadata": {},
   "outputs": [
    {
     "name": "stdout",
     "output_type": "stream",
     "text": [
      "╒══════════════════════════════╤════════════════════════════╤═════════════════════════════════╕\n",
      "│                              │ ('mrna', 'all_features')   │ ('mutations', 'all_features')   │\n",
      "╞══════════════════════════════╪════════════════════════════╪═════════════════════════════════╡\n",
      "│ ('control', 'likelihood')    │ Normal                     │ Bernoulli                       │\n",
      "├──────────────────────────────┼────────────────────────────┼─────────────────────────────────┤\n",
      "│ ('control', 'feature_reg')   │ horseshoe                  │ spike-n-slab                    │\n",
      "├──────────────────────────────┼────────────────────────────┼─────────────────────────────────┤\n",
      "│ ('control', 'sample_reg')    │ finnish_horseshoe          │ finnish_horseshoe               │\n",
      "├──────────────────────────────┼────────────────────────────┼─────────────────────────────────┤\n",
      "│ ('treatment', 'likelihood')  │ Normal                     │ Bernoulli                       │\n",
      "├──────────────────────────────┼────────────────────────────┼─────────────────────────────────┤\n",
      "│ ('treatment', 'feature_reg') │ horseshoe                  │ spike-n-slab                    │\n",
      "├──────────────────────────────┼────────────────────────────┼─────────────────────────────────┤\n",
      "│ ('treatment', 'sample_reg')  │ finnish_horseshoe          │ finnish_horseshoe               │\n",
      "╘══════════════════════════════╧════════════════════════════╧═════════════════════════════════╛\n"
     ]
    }
   ],
   "source": [
    "fm = mfmf.model.FactorModel(\n",
    "    optimizer=optimizer,\n",
    "    loss=loss,\n",
    "    device=\"cuda\",\n",
    ")\n",
    "\n",
    "imp = mfmf.importer.Importer()\n",
    "cll_data = imp.load_CLL()\n",
    "fm.add_View(\"mrna\", cll_data[\"mrna\"])\n",
    "fm.add_View(\"mutations\", cll_data[\"mutations\"])\n",
    "\n",
    "fm.add_covariates(\n",
    "    level=\"obs\", \n",
    "    flavour=\"unordered\", \n",
    "    covariates={\n",
    "        \"control\": fm.obs_names[:50], \n",
    "        \"treatment\": fm.obs_names[50:]\n",
    "    }\n",
    ")\n",
    "\n",
    "fm.fit(\n",
    "    n_factors=5, \n",
    "    likelihood={\n",
    "        \"mrna\": pyro.distributions.Normal, \n",
    "        \"mutations\": pyro.distributions.Bernoulli\n",
    "    },\n",
    "    feature_reg={\n",
    "        \"mrna\": \"horseshoe\", \n",
    "        \"mutations\": \"spike-n-slab\"\n",
    "    },\n",
    "    sample_reg={\n",
    "        \"mrna\": \"finnish_horseshoe\", \n",
    "        \"mutations\": \"finnish_horseshoe\"\n",
    "    },\n",
    "    dry_run=True\n",
    ")\n"
   ]
  },
  {
   "cell_type": "code",
   "execution_count": null,
   "metadata": {},
   "outputs": [
    {
     "name": "stdout",
     "output_type": "stream",
     "text": [
      "╒══════════════════════════════╤══════════════════════════╤════════════════════╤═════════════════════════════════╕\n",
      "│                              │ ('mrna', 'my_pathway')   │ ('mrna', 'rest')   │ ('mutations', 'all_features')   │\n",
      "╞══════════════════════════════╪══════════════════════════╪════════════════════╪═════════════════════════════════╡\n",
      "│ ('control', 'likelihood')    │ Normal                   │ Normal             │ Bernoulli                       │\n",
      "├──────────────────────────────┼──────────────────────────┼────────────────────┼─────────────────────────────────┤\n",
      "│ ('control', 'feature_reg')   │ horseshoe                │ horseshoe          │ spike-n-slab                    │\n",
      "├──────────────────────────────┼──────────────────────────┼────────────────────┼─────────────────────────────────┤\n",
      "│ ('control', 'sample_reg')    │ horseshoe                │ horseshoe          │ finnish_horseshoe               │\n",
      "├──────────────────────────────┼──────────────────────────┼────────────────────┼─────────────────────────────────┤\n",
      "│ ('treatment', 'likelihood')  │ Normal                   │ Normal             │ Bernoulli                       │\n",
      "├──────────────────────────────┼──────────────────────────┼────────────────────┼─────────────────────────────────┤\n",
      "│ ('treatment', 'feature_reg') │ horseshoe                │ horseshoe          │ spike-n-slab                    │\n",
      "├──────────────────────────────┼──────────────────────────┼────────────────────┼─────────────────────────────────┤\n",
      "│ ('treatment', 'sample_reg')  │ finnish_horseshoe        │ finnish_horseshoe  │ horseshoe                       │\n",
      "╘══════════════════════════════╧══════════════════════════╧════════════════════╧═════════════════════════════════╛\n"
     ]
    }
   ],
   "source": [
    "fm = mfmf.model.FactorModel(\n",
    "    optimizer=optimizer,\n",
    "    loss=loss,\n",
    "    device=\"cuda\",\n",
    ")\n",
    "\n",
    "imp = mfmf.importer.Importer()\n",
    "cll_data = imp.load_CLL()\n",
    "fm.add_View(\"mrna\", cll_data[\"mrna\"])\n",
    "fm.add_View(\"mutations\", cll_data[\"mutations\"])\n",
    "\n",
    "fm.add_covariates(\n",
    "    level=\"obs\", \n",
    "    flavour=\"unordered\", \n",
    "    covariates={\n",
    "        \"control\": fm.obs_names[:50], \n",
    "        \"treatment\": fm.obs_names[50:]\n",
    "    }\n",
    ")\n",
    "\n",
    "fm.add_covariates(\n",
    "    level=\"features\", \n",
    "    flavour=\"unordered\", \n",
    "    view=\"mrna\",\n",
    "    covariates={\n",
    "        \"my_pathway\": fm.views[\"mrna\"].feature_names[:50], \n",
    "        \"rest\": fm.views[\"mrna\"].feature_names[50:]\n",
    "    }\n",
    ")\n",
    "\n",
    "fm.fit(\n",
    "    n_factors=5, \n",
    "    likelihood={\n",
    "        \"mrna\": pyro.distributions.Normal, \n",
    "        \"mutations\": pyro.distributions.Bernoulli\n",
    "    },\n",
    "    feature_reg={\n",
    "        \"mrna\": \"horseshoe\", \n",
    "        \"mutations\": \"spike-n-slab\"\n",
    "    },\n",
    "    sample_reg={\n",
    "        \"control\": {\n",
    "            \"mrna\": \"horseshoe\", \n",
    "            \"mutations\": \"finnish_horseshoe\"\n",
    "        },\n",
    "        \"treatment\": {\n",
    "            \"mrna\": \"finnish_horseshoe\", \n",
    "            \"mutations\": \"horseshoe\"\n",
    "        }\n",
    "    },\n",
    "    dry_run=True\n",
    ")\n"
   ]
  }
 ],
 "metadata": {
  "kernelspec": {
   "display_name": "Python 3.9.13",
   "language": "python",
   "name": "python3"
  },
  "language_info": {
   "codemirror_mode": {
    "name": "ipython",
    "version": 3
   },
   "file_extension": ".py",
   "mimetype": "text/x-python",
   "name": "python",
   "nbconvert_exporter": "python",
   "pygments_lexer": "ipython3",
   "version": "3.9.13"
  },
  "orig_nbformat": 4,
  "vscode": {
   "interpreter": {
    "hash": "93df109809fd51af6248d290bec7a42055d3f079e0eb9eee9f3f27226cf79213"
   }
  }
 },
 "nbformat": 4,
 "nbformat_minor": 2
}
