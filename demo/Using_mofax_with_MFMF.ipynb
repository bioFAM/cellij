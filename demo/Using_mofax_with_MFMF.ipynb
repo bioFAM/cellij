{
 "cells": [
  {
   "cell_type": "markdown",
   "metadata": {},
   "source": [
    "# Using `mofax` with `MFMF`"
   ]
  },
  {
   "cell_type": "code",
   "execution_count": 1,
   "metadata": {},
   "outputs": [],
   "source": [
    "import pyro\n",
    "import mfmf\n",
    "import torch\n",
    "import mofax as mfx\n",
    "import matplotlib.pyplot as plt\n",
    "import seaborn as sns\n",
    "# import pandas as pd\n",
    "# import numpy as np\n",
    "# import anndata\n",
    "# from sklearn.decomposition import FactorAnalysis\n",
    "# import math\n",
    "# import os\n",
    "# os.environ[\"CUDA_VISIBLE_DEVICES\"]=\"1\"\n",
    "\n",
    "from mofapy2.run.entry_point import entry_point\n",
    "import pandas as pd\n",
    "import numpy as np\n",
    "\n",
    "N_FACTORS = 6"
   ]
  },
  {
   "cell_type": "markdown",
   "metadata": {},
   "source": [
    "### Train the `MFMF` model"
   ]
  },
  {
   "cell_type": "code",
   "execution_count": 7,
   "metadata": {},
   "outputs": [
    {
     "name": "stdout",
     "output_type": "stream",
     "text": [
      "[iteration   1] last ELBO in interval: 155.331  |  -1.11 %  |    \n",
      "[iteration   2] last ELBO in interval: 151.736  |  -3.40 %  |  - 2.31 %  \n",
      "[iteration   3] last ELBO in interval: 151.670  |  -3.44 %  |  - 0.04 %  |  FLAT INTERVAL\n",
      "[iteration   4] last ELBO in interval: 148.660  |  -5.36 %  |  - 1.98 %  \n",
      "[iteration   5] last ELBO in interval: 141.381  |  -9.99 %  |  - 4.90 %  \n",
      "[iteration   6] last ELBO in interval: 134.049  |  -14.66 %  |  - 5.19 %  \n",
      "[iteration   7] last ELBO in interval: 128.118  |  -18.43 %  |  - 4.42 %  \n",
      "[iteration   8] last ELBO in interval: 115.908  |  -26.21 %  |  - 9.53 %  \n",
      "[iteration   9] last ELBO in interval: 108.114  |  -31.17 %  |  - 6.72 %  \n",
      "[iteration  10] last ELBO in interval:  96.448  |  -38.60 %  |  -10.79 %  \n",
      "[iteration  11] last ELBO in interval:  95.967  |  -38.90 %  |  - 0.50 %  |  FLAT INTERVAL\n",
      "[iteration  12] last ELBO in interval:  82.465  |  -47.50 %  |  -14.07 %  \n",
      "[iteration  13] last ELBO in interval:  86.270  |  -45.08 %  |  + 4.61 %  |  FLAT INTERVAL\n",
      "[iteration  14] last ELBO in interval:  88.105  |  -43.91 %  |  + 2.13 %  |  FLAT INTERVAL\n",
      "[iteration  15] last ELBO in interval:  78.848  |  -49.80 %  |  -10.51 %  \n",
      "[iteration  16] last ELBO in interval:  78.310  |  -50.14 %  |  - 0.68 %  |  FLAT INTERVAL\n",
      "[iteration  17] last ELBO in interval:  71.334  |  -54.59 %  |  - 8.91 %  \n",
      "[iteration  18] last ELBO in interval:  70.818  |  -54.91 %  |  - 0.72 %  |  FLAT INTERVAL\n",
      "[iteration  19] last ELBO in interval:  59.505  |  -62.12 %  |  -15.97 %  \n",
      "[iteration  20] last ELBO in interval:  56.169  |  -64.24 %  |  - 5.61 %  \n",
      "[iteration  21] last ELBO in interval:  51.754  |  -67.05 %  |  - 7.86 %  \n",
      "[iteration  22] last ELBO in interval:  54.638  |  -65.21 %  |  + 5.57 %  |  FLAT INTERVAL\n",
      "[iteration  23] last ELBO in interval:  54.474  |  -65.32 %  |  - 0.30 %  |  FLAT INTERVAL\n",
      "[iteration  24] last ELBO in interval:  51.489  |  -67.22 %  |  - 5.48 %  \n",
      "[iteration  25] last ELBO in interval:  44.411  |  -71.73 %  |  -13.75 %  \n",
      "[iteration  26] last ELBO in interval:  40.545  |  -74.19 %  |  - 8.71 %  \n",
      "[iteration  27] last ELBO in interval:  30.232  |  -80.75 %  |  -25.44 %  \n",
      "[iteration  28] last ELBO in interval:  30.887  |  -80.34 %  |  + 2.17 %  |  FLAT INTERVAL\n",
      "[iteration  29] last ELBO in interval:  31.474  |  -79.96 %  |  + 1.90 %  |  FLAT INTERVAL\n",
      "[iteration  30] last ELBO in interval:  31.917  |  -79.68 %  |  + 1.40 %  |  FLAT INTERVAL\n",
      "BREAK - Early stopping criteria reached.\n"
     ]
    }
   ],
   "source": [
    "# Initialize the model\n",
    "optimizer = pyro.optim.Adam({\"lr\": 0.05, \"betas\": (0.90, 0.999)})\n",
    "early = mfmf.loss.EarlyStoppingLoss(\n",
    "    loss_fn=pyro.infer.Trace_ELBO(num_particles=1, vectorize_particles=True),\n",
    "    epochs=100,\n",
    "    report_after_n_epochs=1,\n",
    "    min_decrease=0.01,\n",
    "    max_flat_intervals=3,\n",
    ")\n",
    "\n",
    "fmh = mfmf.model.FactorModel(\n",
    "    optimizer=optimizer,\n",
    "    loss=early,\n",
    "    device=\"cuda\",\n",
    "    dtype=torch.float32,\n",
    ")\n",
    "\n",
    "# Add the included CLL data containing 4 views to the model\n",
    "imp = mfmf.importer.Importer()\n",
    "cll_data = imp.load_CLL()\n",
    "# fmh.add_MultiView(cll_data)\n",
    "fmh.add_View(\"drugs\", cll_data[\"drugs\"])\n",
    "\n",
    "# Artificially define two covariate groups\n",
    "fmh.add_covariates(\n",
    "    level=\"obs\", \n",
    "    flavour=\"unordered\", \n",
    "    covariates={\n",
    "        \"control\": fmh.views[\"drugs\"].obs_names[:50], \n",
    "        \"treatment\": fmh.views[\"drugs\"].obs_names[:50]\n",
    "    }\n",
    ")\n",
    "\n",
    "# Preview the model\n",
    "# fmh.fit(\n",
    "#     n_factors=N_FACTORS, \n",
    "#     likelihood=pyro.distributions.Normal,\n",
    "#     feature_reg=\"spike-and-slab\",\n",
    "#     dry_run=True\n",
    "# )\n",
    "\n",
    "# Train the model\n",
    "fmh.fit(\n",
    "    n_factors=N_FACTORS, \n",
    "    likelihood=pyro.distributions.Normal,\n",
    "    feature_reg=\"spike-and-slab\",\n",
    "    dry_run=False\n",
    ")"
   ]
  },
  {
   "cell_type": "markdown",
   "metadata": {},
   "source": [
    "### Train the `MOFA` model\n",
    "Conventiently, we can use the previously trained model to export the provided CLL data in a tidy format which can be ingested by `MOFA`."
   ]
  },
  {
   "cell_type": "code",
   "execution_count": 3,
   "metadata": {},
   "outputs": [
    {
     "data": {
      "text/html": [
       "<div>\n",
       "<style scoped>\n",
       "    .dataframe tbody tr th:only-of-type {\n",
       "        vertical-align: middle;\n",
       "    }\n",
       "\n",
       "    .dataframe tbody tr th {\n",
       "        vertical-align: top;\n",
       "    }\n",
       "\n",
       "    .dataframe thead th {\n",
       "        text-align: right;\n",
       "    }\n",
       "</style>\n",
       "<table border=\"1\" class=\"dataframe\">\n",
       "  <thead>\n",
       "    <tr style=\"text-align: right;\">\n",
       "      <th></th>\n",
       "      <th>sample</th>\n",
       "      <th>view</th>\n",
       "      <th>feature</th>\n",
       "      <th>value</th>\n",
       "      <th>group</th>\n",
       "    </tr>\n",
       "  </thead>\n",
       "  <tbody>\n",
       "    <tr>\n",
       "      <th>0</th>\n",
       "      <td>H107</td>\n",
       "      <td>drugs</td>\n",
       "      <td>D_172_4</td>\n",
       "      <td>0.023639</td>\n",
       "      <td>control</td>\n",
       "    </tr>\n",
       "    <tr>\n",
       "      <th>1</th>\n",
       "      <td>H270</td>\n",
       "      <td>drugs</td>\n",
       "      <td>D_172_4</td>\n",
       "      <td>0.073599</td>\n",
       "      <td>control</td>\n",
       "    </tr>\n",
       "    <tr>\n",
       "      <th>2</th>\n",
       "      <td>H218</td>\n",
       "      <td>drugs</td>\n",
       "      <td>D_172_4</td>\n",
       "      <td>NaN</td>\n",
       "      <td>control</td>\n",
       "    </tr>\n",
       "  </tbody>\n",
       "</table>\n",
       "</div>"
      ],
      "text/plain": [
       "  sample   view  feature     value    group\n",
       "0   H107  drugs  D_172_4  0.023639  control\n",
       "1   H270  drugs  D_172_4  0.073599  control\n",
       "2   H218  drugs  D_172_4       NaN  control"
      ]
     },
     "execution_count": 3,
     "metadata": {},
     "output_type": "execute_result"
    }
   ],
   "source": [
    "data_for_mofa = fmh.get_data(format=\"tidy\")\n",
    "data_for_mofa.head(3)\n"
   ]
  },
  {
   "cell_type": "code",
   "execution_count": 4,
   "metadata": {},
   "outputs": [
    {
     "name": "stdout",
     "output_type": "stream",
     "text": [
      "\n",
      "        #########################################################\n",
      "        ###           __  __  ____  ______                    ### \n",
      "        ###          |  \\/  |/ __ \\|  ____/\\    _             ### \n",
      "        ###          | \\  / | |  | | |__ /  \\ _| |_           ### \n",
      "        ###          | |\\/| | |  | |  __/ /\\ \\_   _|          ###\n",
      "        ###          | |  | | |__| | | / ____ \\|_|            ###\n",
      "        ###          |_|  |_|\\____/|_|/_/    \\_\\              ###\n",
      "        ###                                                   ### \n",
      "        ######################################################### \n",
      "       \n",
      " \n",
      "        \n",
      "\n",
      "\n",
      "Loaded group='control' view='drugs' with N=50 samples and D=310 features...\n",
      "Loaded group='treatment' view='drugs' with N=150 samples and D=310 features...\n",
      "\n",
      "\n",
      "Model options:\n",
      "- Automatic Relevance Determination prior on the factors: True\n",
      "- Automatic Relevance Determination prior on the weights: True\n",
      "- Spike-and-slab prior on the factors: False\n",
      "- Spike-and-slab prior on the weights: True\n",
      "Likelihoods:\n",
      "- View 0 (drugs): gaussian\n",
      "\n",
      "\n",
      "\n",
      "GPU mode is activated, but GPU not found... switching to CPU mode\n",
      "For GPU mode, you need:\n",
      "1 - Make sure that you are running MOFA+ on a machine with an NVIDIA GPU\n",
      "2 - Install CUPY following instructions on https://docs-cupy.chainer.org/en/stable/install.html\n",
      "\n",
      "\n",
      "\n",
      "######################################\n",
      "## Training the model with seed 1 ##\n",
      "######################################\n",
      "\n",
      "\n",
      "ELBO before training: -275703.69 \n",
      "\n",
      "Iteration 1: time=0.01, ELBO=38314.17, deltaELBO=314017.864 (113.89686634%), Factors=6\n",
      "Iteration 2: time=0.01, ELBO=48780.69, deltaELBO=10466.521 (3.79629328%), Factors=6\n",
      "Iteration 3: time=0.01, ELBO=48785.03, deltaELBO=4.341 (0.00157441%), Factors=6\n",
      "Iteration 4: time=0.01, ELBO=48785.16, deltaELBO=0.123 (0.00004461%), Factors=6\n",
      "Iteration 5: time=0.01, ELBO=48785.28, deltaELBO=0.122 (0.00004417%), Factors=6\n",
      "\n",
      "Converged!\n",
      "\n",
      "\n",
      "\n",
      "#######################\n",
      "## Training finished ##\n",
      "#######################\n",
      "\n",
      "\n",
      "Warning: Output file ./Using_mofax_with_MFMF.hdf5 already exists, it will be replaced\n",
      "Saving model in ./Using_mofax_with_MFMF.hdf5...\n"
     ]
    }
   ],
   "source": [
    "# initialise the entry point\n",
    "ent = entry_point()\n",
    "\n",
    "# add the prepared tidy data to the model\n",
    "ent.set_data_df(data_for_mofa)\n",
    "\n",
    "# set the same options as for the MFMF model\n",
    "ent.set_model_options(\n",
    "    factors = N_FACTORS, \n",
    "    spikeslab_weights = True, \n",
    "    ard_factors = True,\n",
    "    ard_weights = True\n",
    ")\n",
    "\n",
    "ent.set_train_options(\n",
    "    iter = 1000, \n",
    "    convergence_mode = \"fast\", \n",
    "    startELBO = 1, \n",
    "    freqELBO = 1, \n",
    "    gpu_mode = True, \n",
    "    verbose = False, \n",
    "    seed = 1\n",
    ")\n",
    "\n",
    "ent.build()\n",
    "\n",
    "ent.run()\n",
    "\n",
    "ent.save(outfile=\"./Using_mofax_with_MFMF.hdf5\")\n"
   ]
  },
  {
   "cell_type": "markdown",
   "metadata": {},
   "source": [
    "### Visualising both models using `mofax`"
   ]
  },
  {
   "cell_type": "code",
   "execution_count": 5,
   "metadata": {},
   "outputs": [
    {
     "name": "stdout",
     "output_type": "stream",
     "text": [
      "    Cells: 200\n",
      "    Features: 310\n",
      "    Groups of cells: control, treatment\n",
      "    Views: drugs\n",
      "    \n"
     ]
    },
    {
     "ename": "AttributeError",
     "evalue": "'View' object has no attribute 'shape'",
     "output_type": "error",
     "traceback": [
      "\u001b[0;31m---------------------------------------------------------------------------\u001b[0m",
      "\u001b[0;31mAttributeError\u001b[0m                            Traceback (most recent call last)",
      "\u001b[1;32m/home/treis/T2022B_MSc_thesis/demo/Using_mofax_with_MFMF.ipynb Zelle 9\u001b[0m in \u001b[0;36m<cell line: 4>\u001b[0;34m()\u001b[0m\n\u001b[1;32m      <a href='vscode-notebook-cell://ssh-remote%2Bb260-pc02.inet.dkfz-heidelberg.de/home/treis/T2022B_MSc_thesis/demo/Using_mofax_with_MFMF.ipynb#X12sdnNjb2RlLXJlbW90ZQ%3D%3D?line=1'>2</a>\u001b[0m mfmf_model \u001b[39m=\u001b[39m fmh\n\u001b[1;32m      <a href='vscode-notebook-cell://ssh-remote%2Bb260-pc02.inet.dkfz-heidelberg.de/home/treis/T2022B_MSc_thesis/demo/Using_mofax_with_MFMF.ipynb#X12sdnNjb2RlLXJlbW90ZQ%3D%3D?line=3'>4</a>\u001b[0m \u001b[39mfor\u001b[39;00m m \u001b[39min\u001b[39;00m [mofa_model, mfmf_model]:\n\u001b[1;32m      <a href='vscode-notebook-cell://ssh-remote%2Bb260-pc02.inet.dkfz-heidelberg.de/home/treis/T2022B_MSc_thesis/demo/Using_mofax_with_MFMF.ipynb#X12sdnNjb2RlLXJlbW90ZQ%3D%3D?line=5'>6</a>\u001b[0m     \u001b[39mprint\u001b[39m(\u001b[39mf\u001b[39m\u001b[39m\"\"\"\u001b[39m\u001b[39m\\\u001b[39;00m\n\u001b[0;32m----> <a href='vscode-notebook-cell://ssh-remote%2Bb260-pc02.inet.dkfz-heidelberg.de/home/treis/T2022B_MSc_thesis/demo/Using_mofax_with_MFMF.ipynb#X12sdnNjb2RlLXJlbW90ZQ%3D%3D?line=6'>7</a>\u001b[0m \u001b[39m    Cells: \u001b[39m\u001b[39m{\u001b[39;00mm\u001b[39m.\u001b[39mshape[\u001b[39m0\u001b[39m]\u001b[39m}\u001b[39;00m\n\u001b[1;32m      <a href='vscode-notebook-cell://ssh-remote%2Bb260-pc02.inet.dkfz-heidelberg.de/home/treis/T2022B_MSc_thesis/demo/Using_mofax_with_MFMF.ipynb#X12sdnNjb2RlLXJlbW90ZQ%3D%3D?line=7'>8</a>\u001b[0m \u001b[39m    Features: \u001b[39m\u001b[39m{\u001b[39;00mm\u001b[39m.\u001b[39mshape[\u001b[39m1\u001b[39m]\u001b[39m}\u001b[39;00m\n\u001b[1;32m      <a href='vscode-notebook-cell://ssh-remote%2Bb260-pc02.inet.dkfz-heidelberg.de/home/treis/T2022B_MSc_thesis/demo/Using_mofax_with_MFMF.ipynb#X12sdnNjb2RlLXJlbW90ZQ%3D%3D?line=8'>9</a>\u001b[0m \u001b[39m    Groups of cells: \u001b[39m\u001b[39m{\u001b[39;00m\u001b[39m'\u001b[39m\u001b[39m, \u001b[39m\u001b[39m'\u001b[39m\u001b[39m.\u001b[39mjoin(m\u001b[39m.\u001b[39mgroups)\u001b[39m}\u001b[39;00m\n\u001b[1;32m     <a href='vscode-notebook-cell://ssh-remote%2Bb260-pc02.inet.dkfz-heidelberg.de/home/treis/T2022B_MSc_thesis/demo/Using_mofax_with_MFMF.ipynb#X12sdnNjb2RlLXJlbW90ZQ%3D%3D?line=9'>10</a>\u001b[0m \u001b[39m    Views: \u001b[39m\u001b[39m{\u001b[39;00m\u001b[39m'\u001b[39m\u001b[39m, \u001b[39m\u001b[39m'\u001b[39m\u001b[39m.\u001b[39mjoin(m\u001b[39m.\u001b[39mviews)\u001b[39m}\u001b[39;00m\n\u001b[1;32m     <a href='vscode-notebook-cell://ssh-remote%2Bb260-pc02.inet.dkfz-heidelberg.de/home/treis/T2022B_MSc_thesis/demo/Using_mofax_with_MFMF.ipynb#X12sdnNjb2RlLXJlbW90ZQ%3D%3D?line=10'>11</a>\u001b[0m \u001b[39m    \u001b[39m\u001b[39m\"\"\"\u001b[39m)\n",
      "File \u001b[0;32m~/T2022B_MSc_thesis/mfmf/modules/model.py:300\u001b[0m, in \u001b[0;36mFactorModel.shape\u001b[0;34m(self)\u001b[0m\n\u001b[1;32m    298\u001b[0m     \u001b[39mreturn\u001b[39;00m (\u001b[39m0\u001b[39m, \u001b[39m0\u001b[39m)\n\u001b[1;32m    299\u001b[0m \u001b[39melif\u001b[39;00m \u001b[39mlen\u001b[39m(\u001b[39mself\u001b[39m\u001b[39m.\u001b[39mviews\u001b[39m.\u001b[39mkeys()) \u001b[39m==\u001b[39m \u001b[39m1\u001b[39m:\n\u001b[0;32m--> 300\u001b[0m     \u001b[39mreturn\u001b[39;00m \u001b[39mself\u001b[39;49m\u001b[39m.\u001b[39;49mviews[\u001b[39mlist\u001b[39;49m(\u001b[39mself\u001b[39;49m\u001b[39m.\u001b[39;49mviews\u001b[39m.\u001b[39;49mkeys())[\u001b[39m0\u001b[39;49m]]\u001b[39m.\u001b[39;49mshape\n\u001b[1;32m    301\u001b[0m \u001b[39melse\u001b[39;00m:\n\u001b[1;32m    302\u001b[0m     \u001b[39mreturn\u001b[39;00m (\u001b[39mself\u001b[39m\u001b[39m.\u001b[39mn_obs, \u001b[39mself\u001b[39m\u001b[39m.\u001b[39mn_features)\n",
      "\u001b[0;31mAttributeError\u001b[0m: 'View' object has no attribute 'shape'"
     ]
    }
   ],
   "source": [
    "mofa_model = mfx.mofa_model(\"./Using_mofax_with_MFMF.hdf5\", mode=\"r\")\n",
    "mfmf_model = fmh\n",
    "\n",
    "for m in [mofa_model, mfmf_model]:\n",
    "    \n",
    "    print(f\"\"\"\\\n",
    "    Cells: {m.shape[0]}\n",
    "    Features: {m.shape[1]}\n",
    "    Groups of cells: {', '.join(m.groups)}\n",
    "    Views: {', '.join(m.views)}\n",
    "    \"\"\")\n"
   ]
  },
  {
   "cell_type": "code",
   "execution_count": null,
   "metadata": {},
   "outputs": [
    {
     "name": "stdout",
     "output_type": "stream",
     "text": [
      "         Factor1   Factor2   Factor3   Factor4   Factor5\n",
      "ABI3BP -0.267245  0.022538 -0.006052  0.015696 -0.017918\n",
      "ACTN2  -0.011973  0.333679 -0.005463  0.019517  0.042556\n",
      "ANK2    0.634001 -0.020961 -0.006360 -0.112291 -0.531666\n",
      "         Factor1   Factor2   Factor3   Factor4   Factor5\n",
      "ABI3BP  0.093858 -0.000073  0.223261 -0.406886  0.305330\n",
      "ACTN2   0.122497  0.000696  0.302662 -0.392817  0.219149\n",
      "ANK2    0.113812  0.001687  0.253315 -0.396557  0.288116\n"
     ]
    }
   ],
   "source": [
    "# Works but has different order\n",
    "for m in [mofa_model, mfmf_model]:\n",
    "    \n",
    "    print(m.get_weights(df=True).sort_index().iloc[:3,:5])"
   ]
  },
  {
   "cell_type": "code",
   "execution_count": null,
   "metadata": {},
   "outputs": [
    {
     "data": {
      "text/plain": [
       "<AxesSubplot:xlabel='Feature rank', ylabel='Factor1 weight'>"
      ]
     },
     "execution_count": 7,
     "metadata": {},
     "output_type": "execute_result"
    },
    {
     "data": {
      "image/png": "[encoded data removed]",
      "text/plain": [
       "<Figure size 432x288 with 1 Axes>"
      ]
     },
     "metadata": {
      "needs_background": "light"
     },
     "output_type": "display_data"
    }
   ],
   "source": [
    "mfx.plot_weights_ranked(\n",
    "    mofa_model, \n",
    "    factor=0, \n",
    "    n_features=3,\n",
    ")"
   ]
  },
  {
   "cell_type": "code",
   "execution_count": null,
   "metadata": {},
   "outputs": [
    {
     "data": {
      "text/plain": [
       "<AxesSubplot:xlabel='Feature rank', ylabel='Factor1 weight'>"
      ]
     },
     "execution_count": 8,
     "metadata": {},
     "output_type": "execute_result"
    },
    {
     "data": {
      "image/png": "[encoded data removed]",
      "text/plain": [
       "<Figure size 432x288 with 1 Axes>"
      ]
     },
     "metadata": {
      "needs_background": "light"
     },
     "output_type": "display_data"
    }
   ],
   "source": [
    "mfx.plot_weights_ranked(\n",
    "    mfmf_model, \n",
    "    factor=0, \n",
    "    n_features=3,\n",
    ")"
   ]
  },
  {
   "cell_type": "code",
   "execution_count": null,
   "metadata": {},
   "outputs": [
    {
     "data": {
      "text/plain": [
       "<seaborn.matrix.ClusterGrid at 0x7fa3d0598550>"
      ]
     },
     "execution_count": 9,
     "metadata": {},
     "output_type": "execute_result"
    },
    {
     "data": {
      "image/png": "[encoded data removed]",
      "text/plain": [
       "<Figure size 720x720 with 4 Axes>"
      ]
     },
     "metadata": {
      "needs_background": "light"
     },
     "output_type": "display_data"
    },
    {
     "data": {
      "image/png": "[encoded data removed]",
      "text/plain": [
       "<Figure size 720x720 with 4 Axes>"
      ]
     },
     "metadata": {
      "needs_background": "light"
     },
     "output_type": "display_data"
    }
   ],
   "source": [
    "mfx.plot_weights_heatmap(\n",
    "    mofa_model, \n",
    "    n_features=5, \n",
    "    factors=range(0, N_FACTORS), \n",
    "    cmap=\"viridis\", \n",
    "    cluster_factors=True\n",
    ")\n",
    "\n",
    "mfx.plot_weights_heatmap(\n",
    "    mfmf_model, \n",
    "    n_features=5, \n",
    "    factors=range(0, N_FACTORS), \n",
    "    cmap=\"viridis\", \n",
    "    cluster_factors=True\n",
    ")"
   ]
  },
  {
   "cell_type": "code",
   "execution_count": null,
   "metadata": {},
   "outputs": [
    {
     "ename": "KeyError",
     "evalue": "'drugs_all_features'",
     "output_type": "error",
     "traceback": [
      "\u001b[0;31m---------------------------------------------------------------------------\u001b[0m",
      "\u001b[0;31mKeyError\u001b[0m                                  Traceback (most recent call last)",
      "\u001b[1;32m/home/treis/T2022B_MSc_thesis/demo/Using_mofax_with_MFMF.ipynb Zelle 14\u001b[0m in \u001b[0;36m<cell line: 1>\u001b[0;34m()\u001b[0m\n\u001b[0;32m----> <a href='vscode-notebook-cell://ssh-remote%2Bb260-pc02.inet.dkfz-heidelberg.de/home/treis/T2022B_MSc_thesis/demo/Using_mofax_with_MFMF.ipynb#X34sdnNjb2RlLXJlbW90ZQ%3D%3D?line=0'>1</a>\u001b[0m fmh\u001b[39m.\u001b[39;49mrender_model()\n",
      "File \u001b[0;32m~/T2022B_MSc_thesis/mfmf/modules/model.py:1537\u001b[0m, in \u001b[0;36mFactorModel.render_model\u001b[0;34m(self, render_params, render_distributions)\u001b[0m\n\u001b[1;32m   1531\u001b[0m \u001b[39mdef\u001b[39;00m \u001b[39mrender_model\u001b[39m(\n\u001b[1;32m   1532\u001b[0m     \u001b[39mself\u001b[39m,\n\u001b[1;32m   1533\u001b[0m     render_params: \u001b[39mbool\u001b[39m \u001b[39m=\u001b[39m \u001b[39mTrue\u001b[39;00m,\n\u001b[1;32m   1534\u001b[0m     render_distributions: \u001b[39mbool\u001b[39m \u001b[39m=\u001b[39m \u001b[39mTrue\u001b[39;00m,\n\u001b[1;32m   1535\u001b[0m ):\n\u001b[0;32m-> 1537\u001b[0m     \u001b[39mself\u001b[39m\u001b[39m.\u001b[39mmodel_rendering \u001b[39m=\u001b[39m mfmf\u001b[39m.\u001b[39;49mmetrics\u001b[39m.\u001b[39;49mrender_model(\n\u001b[1;32m   1538\u001b[0m         model\u001b[39m=\u001b[39;49m\u001b[39mself\u001b[39;49m,\n\u001b[1;32m   1539\u001b[0m         render_params\u001b[39m=\u001b[39;49mrender_params,\n\u001b[1;32m   1540\u001b[0m         render_distributions\u001b[39m=\u001b[39;49mrender_distributions,\n\u001b[1;32m   1541\u001b[0m     )\n\u001b[1;32m   1543\u001b[0m     \u001b[39mreturn\u001b[39;00m \u001b[39mself\u001b[39m\u001b[39m.\u001b[39mmodel_rendering\n",
      "File \u001b[0;32m~/T2022B_MSc_thesis/mfmf/modules/metrics.py:131\u001b[0m, in \u001b[0;36mrender_model\u001b[0;34m(model, render_params, render_distributions)\u001b[0m\n\u001b[1;32m    128\u001b[0m \u001b[39mif\u001b[39;00m \u001b[39mnot\u001b[39;00m \u001b[39misinstance\u001b[39m(render_distributions, \u001b[39mbool\u001b[39m):\n\u001b[1;32m    129\u001b[0m     \u001b[39mraise\u001b[39;00m \u001b[39mTypeError\u001b[39;00m(\u001b[39m\"\u001b[39m\u001b[39mParameter \u001b[39m\u001b[39m'\u001b[39m\u001b[39mrender_distributions\u001b[39m\u001b[39m'\u001b[39m\u001b[39m must be True or False.\u001b[39m\u001b[39m\"\u001b[39m)\n\u001b[0;32m--> 131\u001b[0m model_rendering \u001b[39m=\u001b[39m pyro\u001b[39m.\u001b[39;49mrender_model(\n\u001b[1;32m    132\u001b[0m     model\u001b[39m.\u001b[39;49mmodel,\n\u001b[1;32m    133\u001b[0m     \u001b[39m# temporarily disabled\u001b[39;49;00m\n\u001b[1;32m    134\u001b[0m     \u001b[39m#  render_params=render_params,\u001b[39;49;00m\n\u001b[1;32m    135\u001b[0m     \u001b[39m#  render_distributions=render_distributions,\u001b[39;49;00m\n\u001b[1;32m    136\u001b[0m )\n\u001b[1;32m    138\u001b[0m \u001b[39mreturn\u001b[39;00m model_rendering\n",
      "File \u001b[0;32m/data/treis/envs/mfmf/lib/python3.9/site-packages/pyro/infer/inspect.py:494\u001b[0m, in \u001b[0;36mrender_model\u001b[0;34m(model, model_args, model_kwargs, filename, render_distributions)\u001b[0m\n\u001b[1;32m    471\u001b[0m \u001b[39mdef\u001b[39;00m \u001b[39mrender_model\u001b[39m(\n\u001b[1;32m    472\u001b[0m     model: Callable,\n\u001b[1;32m    473\u001b[0m     model_args: Optional[\u001b[39mtuple\u001b[39m] \u001b[39m=\u001b[39m \u001b[39mNone\u001b[39;00m,\n\u001b[0;32m   (...)\u001b[0m\n\u001b[1;32m    476\u001b[0m     render_distributions: \u001b[39mbool\u001b[39m \u001b[39m=\u001b[39m \u001b[39mFalse\u001b[39;00m,\n\u001b[1;32m    477\u001b[0m ) \u001b[39m-\u001b[39m\u001b[39m>\u001b[39m \u001b[39m\"\u001b[39m\u001b[39mgraphviz.Digraph\u001b[39m\u001b[39m\"\u001b[39m:\n\u001b[1;32m    478\u001b[0m     \u001b[39m\"\"\"\u001b[39;00m\n\u001b[1;32m    479\u001b[0m \u001b[39m    Renders a model using `graphviz <https://graphviz.org>`_ .\u001b[39;00m\n\u001b[1;32m    480\u001b[0m \n\u001b[0;32m   (...)\u001b[0m\n\u001b[1;32m    492\u001b[0m \u001b[39m    :rtype: graphviz.Digraph\u001b[39;00m\n\u001b[1;32m    493\u001b[0m \u001b[39m    \"\"\"\u001b[39;00m\n\u001b[0;32m--> 494\u001b[0m     relations \u001b[39m=\u001b[39m get_model_relations(model, model_args, model_kwargs)\n\u001b[1;32m    495\u001b[0m     graph_spec \u001b[39m=\u001b[39m generate_graph_specification(relations)\n\u001b[1;32m    496\u001b[0m     graph \u001b[39m=\u001b[39m render_graph(graph_spec, render_distributions\u001b[39m=\u001b[39mrender_distributions)\n",
      "File \u001b[0;32m/data/treis/envs/mfmf/lib/python3.9/site-packages/pyro/infer/inspect.py:276\u001b[0m, in \u001b[0;36mget_model_relations\u001b[0;34m(model, model_args, model_kwargs)\u001b[0m\n\u001b[1;32m    274\u001b[0m \u001b[39mwith\u001b[39;00m torch\u001b[39m.\u001b[39mrandom\u001b[39m.\u001b[39mfork_rng(), torch\u001b[39m.\u001b[39mno_grad(), pyro\u001b[39m.\u001b[39mvalidation_enabled(\u001b[39mFalse\u001b[39;00m):\n\u001b[1;32m    275\u001b[0m     \u001b[39mwith\u001b[39;00m TrackProvenance():\n\u001b[0;32m--> 276\u001b[0m         trace \u001b[39m=\u001b[39m poutine\u001b[39m.\u001b[39;49mtrace(model)\u001b[39m.\u001b[39;49mget_trace(\u001b[39m*\u001b[39;49mmodel_args, \u001b[39m*\u001b[39;49m\u001b[39m*\u001b[39;49mmodel_kwargs)\n\u001b[1;32m    278\u001b[0m sample_sample \u001b[39m=\u001b[39m {}\n\u001b[1;32m    279\u001b[0m sample_dist \u001b[39m=\u001b[39m {}\n",
      "File \u001b[0;32m/data/treis/envs/mfmf/lib/python3.9/site-packages/pyro/poutine/trace_messenger.py:198\u001b[0m, in \u001b[0;36mTraceHandler.get_trace\u001b[0;34m(self, *args, **kwargs)\u001b[0m\n\u001b[1;32m    190\u001b[0m \u001b[39mdef\u001b[39;00m \u001b[39mget_trace\u001b[39m(\u001b[39mself\u001b[39m, \u001b[39m*\u001b[39margs, \u001b[39m*\u001b[39m\u001b[39m*\u001b[39mkwargs):\n\u001b[1;32m    191\u001b[0m     \u001b[39m\"\"\"\u001b[39;00m\n\u001b[1;32m    192\u001b[0m \u001b[39m    :returns: data structure\u001b[39;00m\n\u001b[1;32m    193\u001b[0m \u001b[39m    :rtype: pyro.poutine.Trace\u001b[39;00m\n\u001b[0;32m   (...)\u001b[0m\n\u001b[1;32m    196\u001b[0m \u001b[39m    Calls this poutine and returns its trace instead of the function's return value.\u001b[39;00m\n\u001b[1;32m    197\u001b[0m \u001b[39m    \"\"\"\u001b[39;00m\n\u001b[0;32m--> 198\u001b[0m     \u001b[39mself\u001b[39;49m(\u001b[39m*\u001b[39;49margs, \u001b[39m*\u001b[39;49m\u001b[39m*\u001b[39;49mkwargs)\n\u001b[1;32m    199\u001b[0m     \u001b[39mreturn\u001b[39;00m \u001b[39mself\u001b[39m\u001b[39m.\u001b[39mmsngr\u001b[39m.\u001b[39mget_trace()\n",
      "File \u001b[0;32m/data/treis/envs/mfmf/lib/python3.9/site-packages/pyro/poutine/trace_messenger.py:174\u001b[0m, in \u001b[0;36mTraceHandler.__call__\u001b[0;34m(self, *args, **kwargs)\u001b[0m\n\u001b[1;32m    170\u001b[0m \u001b[39mself\u001b[39m\u001b[39m.\u001b[39mmsngr\u001b[39m.\u001b[39mtrace\u001b[39m.\u001b[39madd_node(\n\u001b[1;32m    171\u001b[0m     \u001b[39m\"\u001b[39m\u001b[39m_INPUT\u001b[39m\u001b[39m\"\u001b[39m, name\u001b[39m=\u001b[39m\u001b[39m\"\u001b[39m\u001b[39m_INPUT\u001b[39m\u001b[39m\"\u001b[39m, \u001b[39mtype\u001b[39m\u001b[39m=\u001b[39m\u001b[39m\"\u001b[39m\u001b[39margs\u001b[39m\u001b[39m\"\u001b[39m, args\u001b[39m=\u001b[39margs, kwargs\u001b[39m=\u001b[39mkwargs\n\u001b[1;32m    172\u001b[0m )\n\u001b[1;32m    173\u001b[0m \u001b[39mtry\u001b[39;00m:\n\u001b[0;32m--> 174\u001b[0m     ret \u001b[39m=\u001b[39m \u001b[39mself\u001b[39;49m\u001b[39m.\u001b[39;49mfn(\u001b[39m*\u001b[39;49margs, \u001b[39m*\u001b[39;49m\u001b[39m*\u001b[39;49mkwargs)\n\u001b[1;32m    175\u001b[0m \u001b[39mexcept\u001b[39;00m (\u001b[39mValueError\u001b[39;00m, \u001b[39mRuntimeError\u001b[39;00m) \u001b[39mas\u001b[39;00m e:\n\u001b[1;32m    176\u001b[0m     exc_type, exc_value, traceback \u001b[39m=\u001b[39m sys\u001b[39m.\u001b[39mexc_info()\n",
      "File \u001b[0;32m~/T2022B_MSc_thesis/mfmf/modules/model.py:1003\u001b[0m, in \u001b[0;36mFactorModel.model\u001b[0;34m(self, sampling_params)\u001b[0m\n\u001b[1;32m    992\u001b[0m     \u001b[39mself\u001b[39m\u001b[39m.\u001b[39mdata[fg[\u001b[39m\"\u001b[39m\u001b[39mid\u001b[39m\u001b[39m\"\u001b[39m]]\u001b[39m.\u001b[39mupdate(\n\u001b[1;32m    993\u001b[0m         mfmf\u001b[39m.\u001b[39mutils\u001b[39m.\u001b[39mget_sparse_matrix(\n\u001b[1;32m    994\u001b[0m             \u001b[39mid\u001b[39m\u001b[39m=\u001b[39mfg[\u001b[39m\"\u001b[39m\u001b[39mid\u001b[39m\u001b[39m\"\u001b[39m],\n\u001b[0;32m   (...)\u001b[0m\n\u001b[1;32m    998\u001b[0m         )\n\u001b[1;32m    999\u001b[0m     )\n\u001b[1;32m   1001\u001b[0m \u001b[39melif\u001b[39;00m \u001b[39mself\u001b[39m\u001b[39m.\u001b[39mfeature_reg \u001b[39m==\u001b[39m \u001b[39m\"\u001b[39m\u001b[39mspike-and-slab\u001b[39m\u001b[39m\"\u001b[39m:\n\u001b[0;32m-> 1003\u001b[0m     \u001b[39mself\u001b[39;49m\u001b[39m.\u001b[39;49mdata[fg[\u001b[39m\"\u001b[39;49m\u001b[39mid\u001b[39;49m\u001b[39m\"\u001b[39;49m]]\u001b[39m.\u001b[39mupdate(\n\u001b[1;32m   1004\u001b[0m         mfmf\u001b[39m.\u001b[39mutils\u001b[39m.\u001b[39mget_sparse_matrix(\n\u001b[1;32m   1005\u001b[0m             \u001b[39mid\u001b[39m\u001b[39m=\u001b[39mfg[\u001b[39m\"\u001b[39m\u001b[39mid\u001b[39m\u001b[39m\"\u001b[39m],\n\u001b[1;32m   1006\u001b[0m             \u001b[39mtype\u001b[39m\u001b[39m=\u001b[39m\u001b[39m\"\u001b[39m\u001b[39mspike-and-slab\u001b[39m\u001b[39m\"\u001b[39m,\n\u001b[1;32m   1007\u001b[0m             feature_plate\u001b[39m=\u001b[39m\u001b[39mself\u001b[39m\u001b[39m.\u001b[39mdata[\u001b[39m\"\u001b[39m\u001b[39mfeature_plates\u001b[39m\u001b[39m\"\u001b[39m][fg[\u001b[39m\"\u001b[39m\u001b[39mid\u001b[39m\u001b[39m\"\u001b[39m]],\n\u001b[1;32m   1008\u001b[0m             factor_plate\u001b[39m=\u001b[39m\u001b[39mself\u001b[39m\u001b[39m.\u001b[39mfactor_plate,\n\u001b[1;32m   1009\u001b[0m         )\n\u001b[1;32m   1010\u001b[0m     )\n\u001b[1;32m   1012\u001b[0m \u001b[39melse\u001b[39;00m:\n\u001b[1;32m   1014\u001b[0m     \u001b[39mwith\u001b[39;00m \u001b[39mself\u001b[39m\u001b[39m.\u001b[39mdata[\u001b[39m\"\u001b[39m\u001b[39mfeature_plates\u001b[39m\u001b[39m\"\u001b[39m][fg[\u001b[39m\"\u001b[39m\u001b[39mid\u001b[39m\u001b[39m\"\u001b[39m]]:\n",
      "\u001b[0;31mKeyError\u001b[0m: 'drugs_all_features'"
     ]
    }
   ],
   "source": [
    "fmh.render_model()"
   ]
  }
 ],
 "metadata": {
  "kernelspec": {
   "display_name": "Python 3.9.13",
   "language": "python",
   "name": "python3"
  },
  "language_info": {
   "codemirror_mode": {
    "name": "ipython",
    "version": 3
   },
   "file_extension": ".py",
   "mimetype": "text/x-python",
   "name": "python",
   "nbconvert_exporter": "python",
   "pygments_lexer": "ipython3",
   "version": "3.9.13"
  },
  "orig_nbformat": 4,
  "vscode": {
   "interpreter": {
    "hash": "93df109809fd51af6248d290bec7a42055d3f079e0eb9eee9f3f27226cf79213"
   }
  }
 },
 "nbformat": 4,
 "nbformat_minor": 2
}
