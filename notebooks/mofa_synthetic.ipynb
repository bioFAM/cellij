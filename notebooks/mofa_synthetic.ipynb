{
 "cells": [
  {
   "cell_type": "code",
   "execution_count": 1,
   "metadata": {},
   "outputs": [],
   "source": [
    "# %load_ext nb_black\n",
    "%load_ext autoreload\n",
    "%autoreload 2"
   ]
  },
  {
   "cell_type": "code",
   "execution_count": 2,
   "metadata": {},
   "outputs": [
    {
     "name": "stderr",
     "output_type": "stream",
     "text": [
      "/Users/martin/miniconda3/envs/cellij/lib/python3.8/site-packages/tqdm/auto.py:22: TqdmWarning: IProgress not found. Please update jupyter and ipywidgets. See https://ipywidgets.readthedocs.io/en/stable/user_install.html\n",
      "  from .autonotebook import tqdm as notebook_tqdm\n"
     ]
    }
   ],
   "source": [
    "import numpy as np\n",
    "import anndata as ad\n",
    "import muon as mu\n",
    "import scanpy as sc\n",
    "\n",
    "import cellij\n",
    "\n",
    "import torch\n",
    "\n",
    "if torch.cuda.is_available():\n",
    "    torch.set_default_tensor_type(\"torch.cuda.FloatTensor\")\n",
    "\n",
    "# random seed to use throughout the notebook\n",
    "seed = 123\n"
   ]
  },
  {
   "cell_type": "code",
   "execution_count": 3,
   "metadata": {},
   "outputs": [],
   "source": [
    "mdata = cellij._data.Importer().load_CLL()"
   ]
  },
  {
   "cell_type": "code",
   "execution_count": 4,
   "metadata": {},
   "outputs": [],
   "source": [
    "mutations = mdata[\"mutations\"].X\n",
    "mutations = np.nan_to_num(mutations, 0)\n",
    "mutations = ad.AnnData(\n",
    "    X=mutations, obs=mdata[\"mutations\"].obs, var=mdata[\"mutations\"].var\n",
    ")\n"
   ]
  },
  {
   "cell_type": "code",
   "execution_count": 5,
   "metadata": {},
   "outputs": [],
   "source": [
    "methylation = mdata[\"methylation\"].X\n",
    "methylation = np.nan_to_num(methylation, 0)\n",
    "methylation = ad.AnnData(\n",
    "    X=methylation, obs=mdata[\"methylation\"].obs, var=mdata[\"methylation\"].var\n",
    ")\n"
   ]
  },
  {
   "cell_type": "code",
   "execution_count": 6,
   "metadata": {},
   "outputs": [],
   "source": [
    "drugs = mdata[\"drugs\"].X\n",
    "drugs = np.nan_to_num(drugs, np.nanmean(drugs))\n",
    "drugs = np.clip(drugs, 0, 1)\n",
    "drugs = ad.AnnData(X=drugs, obs=mdata[\"drugs\"].obs, var=mdata[\"drugs\"].var)\n"
   ]
  },
  {
   "cell_type": "code",
   "execution_count": 7,
   "metadata": {},
   "outputs": [],
   "source": [
    "mrna = mdata[\"mrna\"]\n",
    "sc.pp.highly_variable_genes(\n",
    "    mrna,\n",
    "    min_mean=0.01,\n",
    "    max_mean=8,\n",
    "    min_disp=1,\n",
    "    n_top_genes=2000,\n",
    "    flavor=\"cell_ranger\",\n",
    "    n_bins=20,\n",
    ")\n",
    "mrna = mrna[:, mrna.var.highly_variable]\n",
    "mrna = ad.AnnData(\n",
    "    X=np.nan_to_num(mrna.X, np.nanmean(mrna.X)), obs=mrna.obs, var=mrna.var\n",
    ")\n"
   ]
  },
  {
   "cell_type": "code",
   "execution_count": 8,
   "metadata": {},
   "outputs": [
    {
     "data": {
      "text/html": [
       "<pre>MuData object with n_obs × n_vars = 200 × 6627\n",
       "  4 modalities\n",
       "    mrna:\t136 x 2000\n",
       "      var:\t&#x27;highly_variable&#x27;, &#x27;means&#x27;, &#x27;dispersions&#x27;, &#x27;dispersions_norm&#x27;\n",
       "    mutations:\t200 x 69\n",
       "    drugs:\t200 x 310\n",
       "    methylation:\t200 x 4248</pre>"
      ],
      "text/plain": [
       "MuData object with n_obs × n_vars = 200 × 6627\n",
       "  4 modalities\n",
       "    mrna:\t136 x 2000\n",
       "      var:\t'highly_variable', 'means', 'dispersions', 'dispersions_norm'\n",
       "    mutations:\t200 x 69\n",
       "    drugs:\t200 x 310\n",
       "    methylation:\t200 x 4248"
      ]
     },
     "execution_count": 8,
     "metadata": {},
     "output_type": "execute_result"
    }
   ],
   "source": [
    "mdata = mu.MuData(\n",
    "    {\"mrna\": mrna, \"mutations\": mutations, \"drugs\": drugs, \"methylation\": methylation}\n",
    ")\n",
    "mdata\n"
   ]
  },
  {
   "cell_type": "code",
   "execution_count": 9,
   "metadata": {},
   "outputs": [
    {
     "name": "stdout",
     "output_type": "stream",
     "text": [
      "Epoch      0:      370206.64 \t | \n",
      "Epoch     10:      335939.48 \t |    9.26%\n",
      "Epoch     20:      268389.52 \t |   20.11%\n",
      "Epoch     30:      198950.69 \t |   25.87%\n",
      "Epoch     40:      150553.72 \t |   24.33%\n",
      "Epoch     50:      126494.70 \t |   15.98%\n",
      "Training finished.\n"
     ]
    }
   ],
   "source": [
    "model1 = cellij.core.models.MOFA(n_factors=40, sparsity_prior=None)\n",
    "model1.add_data(data=mdata, na_strategy=\"knn_by_obs\")\n",
    "\n",
    "model1.fit(\n",
    "    likelihoods={\n",
    "        \"mrna\": \"Normal\",\n",
    "        \"mutations\": \"Bernoulli\",\n",
    "        \"drugs\": \"Normal\",\n",
    "        \"methylation\": \"Normal\",\n",
    "    },\n",
    "    epochs=50,\n",
    "    verbose_epochs=10,\n",
    "    learning_rate=0.01,\n",
    ")\n"
   ]
  },
  {
   "cell_type": "code",
   "execution_count": null,
   "metadata": {},
   "outputs": [],
   "source": []
  },
  {
   "cell_type": "code",
   "execution_count": null,
   "metadata": {},
   "outputs": [],
   "source": []
  }
 ],
 "metadata": {
  "kernelspec": {
   "display_name": "cellij",
   "language": "python",
   "name": "python3"
  },
  "language_info": {
   "codemirror_mode": {
    "name": "ipython",
    "version": 3
   },
   "file_extension": ".py",
   "mimetype": "text/x-python",
   "name": "python",
   "nbconvert_exporter": "python",
   "pygments_lexer": "ipython3",
   "version": "3.8.16"
  },
  "orig_nbformat": 4,
  "vscode": {
   "interpreter": {
    "hash": "274c2137ae10d64059d3c1f64686a799efc57415fad2ba2d522bc89475aeae04"
   }
  }
 },
 "nbformat": 4,
 "nbformat_minor": 2
}
