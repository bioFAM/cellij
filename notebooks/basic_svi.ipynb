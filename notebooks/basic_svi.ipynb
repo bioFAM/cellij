{
 "cells": [
  {
   "cell_type": "code",
   "execution_count": null,
   "id": "62c240e1",
   "metadata": {},
   "outputs": [],
   "source": [
    "%load_ext autoreload\n",
    "%autoreload 2"
   ]
  },
  {
   "cell_type": "code",
   "execution_count": null,
   "id": "c09db83d-6ec2-442c-945a-392aa9eccd9d",
   "metadata": {},
   "outputs": [],
   "source": [
    "import numpy as np\n",
    "import pandas as pd"
   ]
  },
  {
   "cell_type": "code",
   "execution_count": null,
   "id": "b60dd376",
   "metadata": {},
   "outputs": [],
   "source": [
    "import torch\n",
    "\n",
    "import pyro\n",
    "import pyro.distributions as dist\n",
    "from pyro.distributions import constraints\n",
    "from pyro.infer.autoguide.guides import AutoNormal, AutoDelta\n",
    "\n",
    "from pyro.optim import Adam\n",
    "from pyro.infer import SVI"
   ]
  },
  {
   "cell_type": "code",
   "execution_count": null,
   "id": "9da8e8ef",
   "metadata": {},
   "outputs": [],
   "source": [
    "import cellij"
   ]
  },
  {
   "cell_type": "code",
   "execution_count": null,
   "id": "9c0d7e53",
   "metadata": {},
   "outputs": [],
   "source": [
    "pyro.enable_validation(True)"
   ]
  },
  {
   "cell_type": "code",
   "execution_count": null,
   "id": "8231a669",
   "metadata": {},
   "outputs": [],
   "source": [
    "from tqdm import tqdm"
   ]
  },
  {
   "cell_type": "code",
   "execution_count": null,
   "id": "c4ee6656",
   "metadata": {},
   "outputs": [],
   "source": [
    "%matplotlib\n",
    "%matplotlib inline\n",
    "import matplotlib.pyplot as plt"
   ]
  },
  {
   "cell_type": "code",
   "execution_count": null,
   "id": "ed18cabe",
   "metadata": {},
   "outputs": [],
   "source": [
    "import seaborn as sns\n",
    "\n",
    "sns.set_theme()\n",
    "sns.set_style(\"whitegrid\")\n",
    "sns.set_context(\n",
    "    \"notebook\",\n",
    "    font_scale=1.0,\n",
    "    rc={\"lines.linewidth\": 5},\n",
    ")"
   ]
  },
  {
   "cell_type": "code",
   "execution_count": null,
   "id": "50a6aedd",
   "metadata": {},
   "outputs": [],
   "source": [
    "from cellij.core.synthetic import DataGenerator"
   ]
  },
  {
   "cell_type": "code",
   "execution_count": null,
   "id": "c358fb50",
   "metadata": {},
   "outputs": [],
   "source": [
    "n_samples = [101, 102, 103, 104]\n",
    "n_features = [201, 202, 203, 204]\n",
    "dg = DataGenerator(n_samples, n_features)\n",
    "rng = dg.generate(all_combs=True)"
   ]
  },
  {
   "cell_type": "code",
   "execution_count": null,
   "id": "f959cefd",
   "metadata": {},
   "outputs": [],
   "source": [
    "sns.heatmap(dg.z, center=0, cmap=\"vlag\")"
   ]
  },
  {
   "cell_type": "code",
   "execution_count": null,
   "id": "636ef22f",
   "metadata": {},
   "outputs": [],
   "source": [
    "sns.heatmap(dg.w, center=0, cmap=\"vlag\")"
   ]
  },
  {
   "cell_type": "code",
   "execution_count": null,
   "id": "ae4b513a",
   "metadata": {},
   "outputs": [],
   "source": [
    "model = cellij.core._pyro_models.Generative(\n",
    "        n_factors=dg.n_factors,\n",
    "        obs_dict={f\"group_{g}\": dg.n_samples[g] for g in range(dg.n_sample_groups)},\n",
    "        feature_dict={f\"view_{m}\": dg.n_features[m] for m in range(dg.n_feature_groups)},\n",
    "        likelihoods={f\"view_{m}\": \"Normal\" for m in range(dg.n_feature_groups)},\n",
    "        factor_priors={\n",
    "            \"group_0\": \"Normal\",\n",
    "            \"group_1\": \"Laplace\",\n",
    "            \"group_2\": \"Horseshoe\",\n",
    "            \"group_3\": \"Horseshoe\",\n",
    "        },\n",
    "        weight_priors={\n",
    "            \"view_0\": \"Normal\",\n",
    "            \"view_1\": \"Laplace\",\n",
    "            \"view_2\": \"Horseshoe\",\n",
    "            \"view_3\": \"Horseshoe\",\n",
    "        },\n",
    "        device=torch.device(\"cpu\"),\n",
    "    )\n",
    "\n",
    "autonormal_guide = AutoNormal(model)\n",
    "guide = cellij.core._pyro_guides.Guide(model)"
   ]
  },
  {
   "cell_type": "code",
   "execution_count": null,
   "id": "9894a205",
   "metadata": {},
   "outputs": [],
   "source": [
    "for k, v in model().items():\n",
    "    print(k, v.shape)\n",
    "    \n",
    "for k, v in guide().items():\n",
    "    print(k, v.shape)\n",
    "    \n",
    "for k, v in autonormal_guide().items():\n",
    "    print(k, v.shape)\n",
    "    \n",
    "for k, v in guide.sample_dict.items():\n",
    "    print(v.shape == model.sample_dict[k].shape)"
   ]
  },
  {
   "cell_type": "code",
   "execution_count": null,
   "id": "e4bc2038",
   "metadata": {},
   "outputs": [],
   "source": [
    "for k, v in guide().items():\n",
    "    print(k, v.shape)\n",
    "    print(v.shape == autonormal_guide()[k].shape)"
   ]
  },
  {
   "cell_type": "code",
   "execution_count": null,
   "id": "4f3b345e",
   "metadata": {},
   "outputs": [],
   "source": [
    "data = {f\"group_{g}\": {f\"view_{m}\": torch.Tensor(dg.ys[g][m]) for m in range(dg.n_feature_groups)} for g in range(dg.n_sample_groups)}"
   ]
  },
  {
   "cell_type": "code",
   "execution_count": null,
   "id": "f4e0a829",
   "metadata": {},
   "outputs": [],
   "source": [
    "# clean start\n",
    "print(\"Cleaning parameter store\")\n",
    "pyro.clear_param_store()\n",
    "\n",
    "scale = 1.0 / len(dg.n_samples)\n",
    "model=pyro.poutine.scale(model, scale=scale)\n",
    "guide=pyro.poutine.scale(guide, scale=scale)\n",
    "\n",
    "svi = SVI(model, guide, Adam({\"lr\": 0.005, \"betas\": (0.95, 0.999)}), loss=pyro.infer.Trace_ELBO(num_particles=1))"
   ]
  },
  {
   "cell_type": "code",
   "execution_count": null,
   "id": "81d10881",
   "metadata": {},
   "outputs": [],
   "source": [
    "elbo_history = []\n",
    "pbar = tqdm(range(1000))\n",
    "for iteration_idx in pbar:\n",
    "    elbo = svi.step(data)\n",
    "    elbo_history.append(elbo)\n",
    "    if iteration_idx % 5 == 0:\n",
    "        pbar.set_postfix({\"ELBO\": elbo})\n",
    "\n",
    "plt.plot(elbo_history)"
   ]
  },
  {
   "cell_type": "code",
   "execution_count": null,
   "id": "cdc7251f",
   "metadata": {},
   "outputs": [],
   "source": [
    "{k: v.shape for k, v in model.factor_priors['group_2'].sample_dict.items()}"
   ]
  },
  {
   "cell_type": "code",
   "execution_count": null,
   "id": "ea86ff16",
   "metadata": {},
   "outputs": [],
   "source": [
    "{k: v.shape for k, v in model.weight_priors['view_2'].sample_dict.items()}"
   ]
  },
  {
   "cell_type": "code",
   "execution_count": null,
   "id": "38b3243f",
   "metadata": {},
   "outputs": [],
   "source": [
    "pyro.get_param_store().get_all_param_names()"
   ]
  },
  {
   "cell_type": "code",
   "execution_count": null,
   "id": "7e2db29a",
   "metadata": {},
   "outputs": [],
   "source": [
    "pyro.get_param_store().get_param(\"AutoNormal.locs.z_group_2_caux\").shape"
   ]
  },
  {
   "cell_type": "code",
   "execution_count": null,
   "id": "f79075ef",
   "metadata": {},
   "outputs": [],
   "source": [
    "pyro.get_param_store().get_param(\"AutoNormal.locs.w_view_2_caux\").shape"
   ]
  },
  {
   "cell_type": "code",
   "execution_count": null,
   "id": "93c2ff5e",
   "metadata": {},
   "outputs": [],
   "source": [
    "z_hat = pyro.get_param_store().get_param(\"AutoNormal.locs.z_group_0\").squeeze().detach().numpy()\n",
    "ws_hat = []\n",
    "ws_hat.append(pyro.get_param_store().get_param(\"AutoNormal.locs.w_view_0\").squeeze().detach().numpy())\n",
    "ws_hat.append(pyro.get_param_store().get_param(\"AutoNormal.locs.w_view_1\").squeeze().detach().numpy())\n",
    "ws_hat.append(pyro.get_param_store().get_param(\"AutoNormal.locs.w_view_2_unconstrained\").squeeze().detach().numpy() * pyro.get_param_store().get_param(\"AutoNormal.locs.w_view_2_lambdas\").squeeze().detach().numpy())"
   ]
  },
  {
   "cell_type": "code",
   "execution_count": null,
   "id": "de11f782",
   "metadata": {},
   "outputs": [],
   "source": [
    "sns.heatmap(dg.z, center=0, cmap=\"vlag\")"
   ]
  },
  {
   "cell_type": "code",
   "execution_count": null,
   "id": "cca5b22d",
   "metadata": {},
   "outputs": [],
   "source": [
    "sns.heatmap(z_hat, center=0, cmap=\"vlag\")"
   ]
  },
  {
   "cell_type": "code",
   "execution_count": null,
   "id": "5215cb44",
   "metadata": {},
   "outputs": [],
   "source": [
    "for m in range(dg.n_feature_groups):\n",
    "    sns.heatmap(dg.ws[m], center=0, cmap=\"vlag\")\n",
    "    plt.show()\n",
    "    sns.heatmap(ws_hat[m], center=0, cmap=\"vlag\")\n",
    "    plt.show()"
   ]
  },
  {
   "cell_type": "code",
   "execution_count": null,
   "id": "f082bd7d",
   "metadata": {},
   "outputs": [],
   "source": []
  }
 ],
 "metadata": {
  "kernelspec": {
   "display_name": "Python 3 (ipykernel)",
   "language": "python",
   "name": "python3"
  },
  "language_info": {
   "codemirror_mode": {
    "name": "ipython",
    "version": 3
   },
   "file_extension": ".py",
   "mimetype": "text/x-python",
   "name": "python",
   "nbconvert_exporter": "python",
   "pygments_lexer": "ipython3",
   "version": "3.9.16"
  }
 },
 "nbformat": 4,
 "nbformat_minor": 5
}
