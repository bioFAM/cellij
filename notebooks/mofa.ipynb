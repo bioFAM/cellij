{
 "cells": [
  {
   "cell_type": "code",
   "execution_count": null,
   "metadata": {},
   "outputs": [],
   "source": [
    "%load_ext autoreload\n",
    "%autoreload 2"
   ]
  },
  {
   "cell_type": "code",
   "execution_count": null,
   "metadata": {},
   "outputs": [],
   "source": [
    "import numpy as np\n",
    "import torch\n",
    "import pyro"
   ]
  },
  {
   "cell_type": "code",
   "execution_count": null,
   "metadata": {},
   "outputs": [],
   "source": [
    "# torch.set_default_tensor_type(\"torch.cuda.FloatTensor\")"
   ]
  },
  {
   "cell_type": "code",
   "execution_count": null,
   "metadata": {},
   "outputs": [],
   "source": [
    "from cellij.core.synthetic import DataGenerator\n",
    "from cellij.core.models import MOFA"
   ]
  },
  {
   "cell_type": "code",
   "execution_count": null,
   "metadata": {},
   "outputs": [],
   "source": [
    "%matplotlib\n",
    "%matplotlib inline\n",
    "import matplotlib.pyplot as plt\n",
    "import seaborn as sns"
   ]
  },
  {
   "cell_type": "code",
   "execution_count": null,
   "metadata": {},
   "outputs": [],
   "source": [
    "# plotting functions\n",
    "def _lines(ax, positions, ymin, ymax, horizontal=False, **kwargs):\n",
    "    if horizontal:\n",
    "        ax.hlines(positions, ymin, ymax, **kwargs)\n",
    "    else:\n",
    "        ax.vlines(positions, ymin, ymax, **kwargs)\n",
    "    return ax\n",
    "\n",
    "\n",
    "def lined_heatmap(data, figsize=None, hlines=None, vlines=None, **kwargs):\n",
    "    \"\"\"Plot heatmap with horizontal or vertical lines.\"\"\"\n",
    "    if figsize is None:\n",
    "        figsize = (20, 2)\n",
    "    fig, g = plt.subplots(figsize=figsize)\n",
    "    g = sns.heatmap(data, ax=g, **kwargs)\n",
    "    if hlines is not None:\n",
    "        _lines(\n",
    "            g,\n",
    "            hlines,\n",
    "            *sorted(g.get_xlim()),\n",
    "            horizontal=True,\n",
    "            lw=1.0,\n",
    "            linestyles=\"dashed\",\n",
    "        )\n",
    "    if vlines is not None:\n",
    "        _lines(\n",
    "            g,\n",
    "            vlines,\n",
    "            *sorted(g.get_ylim()),\n",
    "            horizontal=False,\n",
    "            lw=1.0,\n",
    "            linestyles=\"dashed\",\n",
    "        )\n",
    "    return g"
   ]
  },
  {
   "cell_type": "code",
   "execution_count": null,
   "metadata": {},
   "outputs": [],
   "source": [
    "# random seed to use throughout the notebook\n",
    "seed = 123\n",
    "\n",
    "# basic parameters\n",
    "n_samples = 200\n",
    "n_features = [10, 10, 10]\n",
    "n_views = len(n_features)\n",
    "likelihoods = [\"Normal\" for _ in range(n_views)]\n",
    "\n",
    "# more specific parameters to the structure of the latent factors\n",
    "n_fully_shared_factors = 3\n",
    "n_partially_shared_factors = 0\n",
    "n_private_factors = 0\n",
    "\n",
    "# optional: number of covariates to generate\n",
    "n_covariates = 0"
   ]
  },
  {
   "cell_type": "code",
   "execution_count": null,
   "metadata": {},
   "outputs": [],
   "source": [
    "dg = DataGenerator(\n",
    "    n_samples,\n",
    "    n_features,\n",
    "    likelihoods,\n",
    "    n_fully_shared_factors,\n",
    "    n_partially_shared_factors,\n",
    "    n_private_factors,\n",
    "    n_covariates=n_covariates,\n",
    ")\n",
    "\n",
    "rng = dg.generate(seed=seed)\n",
    "\n",
    "# center data\n",
    "dg.normalize(with_std=False)"
   ]
  },
  {
   "cell_type": "code",
   "execution_count": null,
   "metadata": {},
   "outputs": [],
   "source": [
    "feature_offsets = [0] + np.cumsum(n_features).tolist()\n",
    "vlines = feature_offsets[1:-1]"
   ]
  },
  {
   "cell_type": "code",
   "execution_count": null,
   "metadata": {},
   "outputs": [],
   "source": [
    "# factor loadings should be fairly sparse\n",
    "lined_heatmap(dg.w, vlines=vlines, center=0)\n",
    "lined_heatmap(dg.y, vlines=vlines, center=0)"
   ]
  },
  {
   "cell_type": "code",
   "execution_count": null,
   "metadata": {},
   "outputs": [],
   "source": [
    "mdata = dg.to_mdata()\n",
    "mdata"
   ]
  },
  {
   "cell_type": "code",
   "execution_count": null,
   "metadata": {},
   "outputs": [],
   "source": [
    "model = MOFA(n_factors=dg.n_factors, sparsity_prior=\"HorseshoeStandalone\", device=\"cuda\")\n",
    "model.add_data(data=mdata, na_strategy=None)\n",
    "# model._model.relaxed_bernoulli"
   ]
  },
  {
   "cell_type": "code",
   "execution_count": null,
   "metadata": {},
   "outputs": [],
   "source": []
  },
  {
   "cell_type": "code",
   "execution_count": null,
   "metadata": {},
   "outputs": [],
   "source": [
    "_ = model.fit(likelihoods=mdata.uns['likelihoods'],  epochs=5000, num_particles=20, learning_rate=0.01, optimizer='Clipped', verbose_epochs=500, min_delta=0.01)"
   ]
  },
  {
   "cell_type": "code",
   "execution_count": null,
   "metadata": {},
   "outputs": [],
   "source": [
    "# model._guide.mode('z').shape"
   ]
  },
  {
   "cell_type": "code",
   "execution_count": null,
   "metadata": {},
   "outputs": [],
   "source": [
    "# z_hat = model._guide.median()['z']\n",
    "# w_hat = model._guide.median()['unscaled_w'] * model._guide.median()['w_scale']\n",
    "\n",
    "# z_hat = pyro.get_param_store().get_param('FactorModel._guide.locs.z')\n",
    "# w_hat = pyro.get_param_store().get_param('FactorModel._guide.locs.w')\n",
    "# sigma_hat = pyro.get_param_store().get_param('FactorModel._guide.locs.sigma')\n",
    "\n",
    "z_hat = model._guide.mode()['z']\n",
    "# w_hat = model._guide.median()['w']\n",
    "w_hat = torch.cat([model._guide.mode()[f'w_feature_group_{m}'].squeeze() for m in range(n_views)], dim=1)\n",
    "# z_hat = model._guide.mode('z')\n",
    "# w_hat = torch.cat([model._guide.mode(f'w_view_{m}').squeeze() for m in range(n_views)], dim=1)\n",
    "# sigma_hat = model._guide.median()['sigma']\n",
    "\n",
    "z_hat = z_hat.detach().cpu().numpy().squeeze()\n",
    "w_hat = w_hat.detach().cpu().numpy().squeeze()\n",
    "\n",
    "# z_hat = model.get_factor_scores()\n",
    "# w_hat = np.concatenate([model.get_factor_loadings()[vn] for vn in model.view_names], axis=1)\n",
    "\n",
    "x_hat = np.matmul(z_hat, w_hat)\n",
    "\n",
    "# sigma_hat = sigma_hat.detach().cpu().numpy().squeeze()\n",
    "print(z_hat.shape, w_hat.shape, x_hat.shape)\n"
   ]
  },
  {
   "cell_type": "code",
   "execution_count": null,
   "metadata": {},
   "outputs": [],
   "source": [
    "\n",
    "lined_heatmap(z_hat, vlines=vlines, center=0)\n",
    "lined_heatmap(w_hat, vlines=vlines, center=0)\n",
    "lined_heatmap(x_hat, vlines=vlines, center=0)\n",
    "# lined_heatmap(sigma_hat[np.newaxis, :], vlines=vlines, center=0)"
   ]
  },
  {
   "cell_type": "code",
   "execution_count": null,
   "metadata": {},
   "outputs": [],
   "source": [
    "\n",
    "lined_heatmap(dg.w, vlines=vlines, center=0)\n",
    "lined_heatmap(w_hat, vlines=vlines, center=0)"
   ]
  },
  {
   "cell_type": "code",
   "execution_count": null,
   "metadata": {},
   "outputs": [],
   "source": [
    "from scipy.optimize import linear_sum_assignment\n",
    "from scipy.stats import pearsonr\n",
    "\n",
    "from sklearn.metrics import pairwise_distances, mean_squared_error, r2_score\n",
    "from sklearn.metrics import precision_recall_fscore_support, PrecisionRecallDisplay\n",
    "from sklearn.metrics.pairwise import cosine_similarity"
   ]
  },
  {
   "cell_type": "code",
   "execution_count": null,
   "metadata": {},
   "outputs": [],
   "source": [
    "r2_score(dg.y, x_hat)"
   ]
  },
  {
   "cell_type": "code",
   "execution_count": null,
   "metadata": {},
   "outputs": [],
   "source": [
    "def get_opt_thresh(X, Y, thresh_min=0, thresh_max=1, n_thresh=101):\n",
    "    thresh_max = min(thresh_max, Y.max())\n",
    "    print(thresh_max)\n",
    "    thresholds = np.linspace(thresh_min, thresh_max, n_thresh)\n",
    "    f1s = []\n",
    "    for threshold in thresholds:\n",
    "        prec, rec, f1, _ = precision_recall_fscore_support(\n",
    "            X.flatten(), (Y > threshold).flatten(), average=\"binary\"\n",
    "        )\n",
    "        f1s.append(f1)\n",
    "\n",
    "    return thresholds[np.argmax(f1s)]"
   ]
  },
  {
   "cell_type": "code",
   "execution_count": null,
   "metadata": {},
   "outputs": [],
   "source": [
    "opt_order = linear_sum_assignment(-np.abs(pairwise_distances(\n",
    "    dg.w,\n",
    "        w_hat,\n",
    "        metric=lambda a, b: pearsonr(a, b)[0],\n",
    "        force_all_finite=False,\n",
    "    )))[-1]\n",
    "opt_order"
   ]
  },
  {
   "cell_type": "code",
   "execution_count": null,
   "metadata": {},
   "outputs": [],
   "source": [
    "# threshold = 0.1\n",
    "# opt_order = muvi.tl.optim_perm(cosine_similarity(dg.w_mask, np.abs(w_hat) > threshold)).argmax(axis=0)\n",
    "# opt_order"
   ]
  },
  {
   "cell_type": "code",
   "execution_count": null,
   "metadata": {},
   "outputs": [],
   "source": [
    "w_hat = w_hat[opt_order, :]\n",
    "z_hat = z_hat[:, opt_order]"
   ]
  },
  {
   "cell_type": "code",
   "execution_count": null,
   "metadata": {},
   "outputs": [],
   "source": [
    "PrecisionRecallDisplay.from_predictions(dg.w_mask.flatten(), np.abs(w_hat).flatten())"
   ]
  },
  {
   "cell_type": "code",
   "execution_count": null,
   "metadata": {},
   "outputs": [],
   "source": [
    "threshold = get_opt_thresh(\n",
    "    dg.w_mask,\n",
    "    w_hat,\n",
    "    0,\n",
    "    5,\n",
    ")\n",
    "threshold"
   ]
  },
  {
   "cell_type": "code",
   "execution_count": null,
   "metadata": {},
   "outputs": [],
   "source": [
    "lined_heatmap(dg.w_mask, vlines=vlines, center=0)\n",
    "lined_heatmap(np.abs(w_hat) > threshold, vlines=vlines, center=0)"
   ]
  },
  {
   "cell_type": "code",
   "execution_count": null,
   "metadata": {},
   "outputs": [],
   "source": [
    "precision_recall_fscore_support((dg.w_mask).flatten(), (np.abs(w_hat) > threshold).flatten(), average=\"binary\")"
   ]
  },
  {
   "cell_type": "code",
   "execution_count": null,
   "metadata": {},
   "outputs": [],
   "source": [
    "pyro.get_param_store().keys()"
   ]
  },
  {
   "cell_type": "code",
   "execution_count": null,
   "metadata": {},
   "outputs": [],
   "source": [
    "# model._guide.median()['pscale_0'].shape"
   ]
  },
  {
   "cell_type": "code",
   "execution_count": null,
   "metadata": {},
   "outputs": [],
   "source": []
  },
  {
   "cell_type": "code",
   "execution_count": null,
   "metadata": {},
   "outputs": [],
   "source": []
  }
 ],
 "metadata": {
  "kernelspec": {
   "display_name": "Python 3 (ipykernel)",
   "language": "python",
   "name": "python3"
  },
  "language_info": {
   "codemirror_mode": {
    "name": "ipython",
    "version": 3
   },
   "file_extension": ".py",
   "mimetype": "text/x-python",
   "name": "python",
   "nbconvert_exporter": "python",
   "pygments_lexer": "ipython3",
   "version": "3.8.16"
  },
  "vscode": {
   "interpreter": {
    "hash": "274c2137ae10d64059d3c1f64686a799efc57415fad2ba2d522bc89475aeae04"
   }
  }
 },
 "nbformat": 4,
 "nbformat_minor": 2
}
