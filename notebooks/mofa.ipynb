{
 "cells": [
  {
   "cell_type": "code",
   "execution_count": 1,
   "metadata": {},
   "outputs": [],
   "source": [
    "%load_ext autoreload\n",
    "%autoreload 2"
   ]
  },
  {
   "cell_type": "code",
   "execution_count": 2,
   "metadata": {},
   "outputs": [
    {
     "name": "stderr",
     "output_type": "stream",
     "text": [
      "/Users/tim.treis/anaconda3/envs/spatialdata/envs/cellij/lib/python3.9/site-packages/tqdm/auto.py:22: TqdmWarning: IProgress not found. Please update jupyter and ipywidgets. See https://ipywidgets.readthedocs.io/en/stable/user_install.html\n",
      "  from .autonotebook import tqdm as notebook_tqdm\n"
     ]
    }
   ],
   "source": [
    "import pyro\n",
    "import torch\n",
    "import cellij\n",
    "from pyro.nn import PyroModule\n",
    "import pyro.distributions as dist\n",
    "from cellij.core.models import MOFA\n"
   ]
  },
  {
   "cell_type": "code",
   "execution_count": 3,
   "metadata": {},
   "outputs": [
    {
     "data": {
      "text/plain": [
       "AnnData object with n_obs × n_vars = 136 × 5000"
      ]
     },
     "execution_count": 3,
     "metadata": {},
     "output_type": "execute_result"
    }
   ],
   "source": [
    "# Create data\n",
    "import os\n",
    "import cellij\n",
    "import anndata\n",
    "import muon as mu\n",
    "import numpy as np\n",
    "import pandas as pd\n",
    "\n",
    "from importlib import resources\n",
    "from collections import UserDict\n",
    "\n",
    "\n",
    "mdata = cellij._data.Importer().load_CLL()\n",
    "mdata[\"mrna\"]"
   ]
  },
  {
   "cell_type": "code",
   "execution_count": 4,
   "metadata": {},
   "outputs": [],
   "source": [
    "model = cellij.models.MOFA(n_factors=50)\n",
    "model.add_data(data=mdata, na_stategy=\"knn_by_obs\")"
   ]
  },
  {
   "cell_type": "code",
   "execution_count": 5,
   "metadata": {},
   "outputs": [
    {
     "ename": "ValueError",
     "evalue": "at site \"data\", invalid log_prob shape\n  Expected [200, -1, -1], actual [0, 200, 1, 9627]\n  Try one of the following fixes:\n  - enclose the batched tensor in a with pyro.plate(...): context\n  - .to_event(...) the distribution being sampled\n  - .permute() data dimensions",
     "output_type": "error",
     "traceback": [
      "\u001b[0;31m---------------------------------------------------------------------------\u001b[0m",
      "\u001b[0;31mValueError\u001b[0m                                Traceback (most recent call last)",
      "\u001b[1;32m/Users/tim.treis/Documents/GitHub/cellij/notebooks/mofa.ipynb Cell 5\u001b[0m in \u001b[0;36m<cell line: 1>\u001b[0;34m()\u001b[0m\n\u001b[0;32m----> <a href='vscode-notebook-cell:/Users/tim.treis/Documents/GitHub/cellij/notebooks/mofa.ipynb#W6sZmlsZQ%3D%3D?line=0'>1</a>\u001b[0m model\u001b[39m.\u001b[39;49mfit(likelihood\u001b[39m=\u001b[39;49m\u001b[39m\"\u001b[39;49m\u001b[39mNormal\u001b[39;49m\u001b[39m\"\u001b[39;49m,  epochs\u001b[39m=\u001b[39;49m\u001b[39m1000\u001b[39;49m, verbose_epochs\u001b[39m=\u001b[39;49m\u001b[39m50\u001b[39;49m)\n",
      "File \u001b[0;32m~/Documents/GitHub/cellij/cellij/core/_factormodel.py:330\u001b[0m, in \u001b[0;36mFactorModel.fit\u001b[0;34m(self, likelihood, epochs, verbose_epochs)\u001b[0m\n\u001b[1;32m    326\u001b[0m \u001b[39m# Impute missing values\u001b[39;00m\n\u001b[1;32m    327\u001b[0m \u001b[39m# cat_data = cat_data.fill_(0)\u001b[39;00m\n\u001b[1;32m    329\u001b[0m \u001b[39mfor\u001b[39;00m i \u001b[39min\u001b[39;00m \u001b[39mrange\u001b[39m(epochs \u001b[39m+\u001b[39m \u001b[39m1\u001b[39m):\n\u001b[0;32m--> 330\u001b[0m     loss \u001b[39m=\u001b[39m svi\u001b[39m.\u001b[39;49mstep(X\u001b[39m=\u001b[39;49mdata)\n\u001b[1;32m    332\u001b[0m     \u001b[39mif\u001b[39;00m i \u001b[39m%\u001b[39m verbose_epochs \u001b[39m==\u001b[39m \u001b[39m0\u001b[39m:\n\u001b[1;32m    333\u001b[0m         \u001b[39mprint\u001b[39m(\u001b[39mf\u001b[39m\u001b[39m\"\u001b[39m\u001b[39mEpoch \u001b[39m\u001b[39m{\u001b[39;00mi\u001b[39m:\u001b[39;00m\u001b[39m>6\u001b[39m\u001b[39m}\u001b[39;00m\u001b[39m: \u001b[39m\u001b[39m{\u001b[39;00mloss\u001b[39m:\u001b[39;00m\u001b[39m>14.2f\u001b[39m\u001b[39m}\u001b[39;00m\u001b[39m\"\u001b[39m)\n",
      "File \u001b[0;32m~/anaconda3/envs/spatialdata/envs/cellij/lib/python3.9/site-packages/pyro/infer/svi.py:145\u001b[0m, in \u001b[0;36mSVI.step\u001b[0;34m(self, *args, **kwargs)\u001b[0m\n\u001b[1;32m    143\u001b[0m \u001b[39m# get loss and compute gradients\u001b[39;00m\n\u001b[1;32m    144\u001b[0m \u001b[39mwith\u001b[39;00m poutine\u001b[39m.\u001b[39mtrace(param_only\u001b[39m=\u001b[39m\u001b[39mTrue\u001b[39;00m) \u001b[39mas\u001b[39;00m param_capture:\n\u001b[0;32m--> 145\u001b[0m     loss \u001b[39m=\u001b[39m \u001b[39mself\u001b[39;49m\u001b[39m.\u001b[39;49mloss_and_grads(\u001b[39mself\u001b[39;49m\u001b[39m.\u001b[39;49mmodel, \u001b[39mself\u001b[39;49m\u001b[39m.\u001b[39;49mguide, \u001b[39m*\u001b[39;49margs, \u001b[39m*\u001b[39;49m\u001b[39m*\u001b[39;49mkwargs)\n\u001b[1;32m    147\u001b[0m params \u001b[39m=\u001b[39m \u001b[39mset\u001b[39m(\n\u001b[1;32m    148\u001b[0m     site[\u001b[39m\"\u001b[39m\u001b[39mvalue\u001b[39m\u001b[39m\"\u001b[39m]\u001b[39m.\u001b[39munconstrained() \u001b[39mfor\u001b[39;00m site \u001b[39min\u001b[39;00m param_capture\u001b[39m.\u001b[39mtrace\u001b[39m.\u001b[39mnodes\u001b[39m.\u001b[39mvalues()\n\u001b[1;32m    149\u001b[0m )\n\u001b[1;32m    151\u001b[0m \u001b[39m# actually perform gradient steps\u001b[39;00m\n\u001b[1;32m    152\u001b[0m \u001b[39m# torch.optim objects gets instantiated for any params that haven't been seen yet\u001b[39;00m\n",
      "File \u001b[0;32m~/anaconda3/envs/spatialdata/envs/cellij/lib/python3.9/site-packages/pyro/infer/trace_elbo.py:140\u001b[0m, in \u001b[0;36mTrace_ELBO.loss_and_grads\u001b[0;34m(self, model, guide, *args, **kwargs)\u001b[0m\n\u001b[1;32m    138\u001b[0m loss \u001b[39m=\u001b[39m \u001b[39m0.0\u001b[39m\n\u001b[1;32m    139\u001b[0m \u001b[39m# grab a trace from the generator\u001b[39;00m\n\u001b[0;32m--> 140\u001b[0m \u001b[39mfor\u001b[39;00m model_trace, guide_trace \u001b[39min\u001b[39;00m \u001b[39mself\u001b[39m\u001b[39m.\u001b[39m_get_traces(model, guide, args, kwargs):\n\u001b[1;32m    141\u001b[0m     loss_particle, surrogate_loss_particle \u001b[39m=\u001b[39m \u001b[39mself\u001b[39m\u001b[39m.\u001b[39m_differentiable_loss_particle(\n\u001b[1;32m    142\u001b[0m         model_trace, guide_trace\n\u001b[1;32m    143\u001b[0m     )\n\u001b[1;32m    144\u001b[0m     loss \u001b[39m+\u001b[39m\u001b[39m=\u001b[39m loss_particle \u001b[39m/\u001b[39m \u001b[39mself\u001b[39m\u001b[39m.\u001b[39mnum_particles\n",
      "File \u001b[0;32m~/anaconda3/envs/spatialdata/envs/cellij/lib/python3.9/site-packages/pyro/infer/elbo.py:182\u001b[0m, in \u001b[0;36mELBO._get_traces\u001b[0;34m(self, model, guide, args, kwargs)\u001b[0m\n\u001b[1;32m    180\u001b[0m \u001b[39melse\u001b[39;00m:\n\u001b[1;32m    181\u001b[0m     \u001b[39mfor\u001b[39;00m i \u001b[39min\u001b[39;00m \u001b[39mrange\u001b[39m(\u001b[39mself\u001b[39m\u001b[39m.\u001b[39mnum_particles):\n\u001b[0;32m--> 182\u001b[0m         \u001b[39myield\u001b[39;00m \u001b[39mself\u001b[39;49m\u001b[39m.\u001b[39;49m_get_trace(model, guide, args, kwargs)\n",
      "File \u001b[0;32m~/anaconda3/envs/spatialdata/envs/cellij/lib/python3.9/site-packages/pyro/infer/trace_elbo.py:57\u001b[0m, in \u001b[0;36mTrace_ELBO._get_trace\u001b[0;34m(self, model, guide, args, kwargs)\u001b[0m\n\u001b[1;32m     52\u001b[0m \u001b[39mdef\u001b[39;00m \u001b[39m_get_trace\u001b[39m(\u001b[39mself\u001b[39m, model, guide, args, kwargs):\n\u001b[1;32m     53\u001b[0m     \u001b[39m\"\"\"\u001b[39;00m\n\u001b[1;32m     54\u001b[0m \u001b[39m    Returns a single trace from the guide, and the model that is run\u001b[39;00m\n\u001b[1;32m     55\u001b[0m \u001b[39m    against it.\u001b[39;00m\n\u001b[1;32m     56\u001b[0m \u001b[39m    \"\"\"\u001b[39;00m\n\u001b[0;32m---> 57\u001b[0m     model_trace, guide_trace \u001b[39m=\u001b[39m get_importance_trace(\n\u001b[1;32m     58\u001b[0m         \u001b[39m\"\u001b[39;49m\u001b[39mflat\u001b[39;49m\u001b[39m\"\u001b[39;49m, \u001b[39mself\u001b[39;49m\u001b[39m.\u001b[39;49mmax_plate_nesting, model, guide, args, kwargs\n\u001b[1;32m     59\u001b[0m     )\n\u001b[1;32m     60\u001b[0m     \u001b[39mif\u001b[39;00m is_validation_enabled():\n\u001b[1;32m     61\u001b[0m         check_if_enumerated(guide_trace)\n",
      "File \u001b[0;32m~/anaconda3/envs/spatialdata/envs/cellij/lib/python3.9/site-packages/pyro/infer/enum.py:80\u001b[0m, in \u001b[0;36mget_importance_trace\u001b[0;34m(graph_type, max_plate_nesting, model, guide, args, kwargs, detach)\u001b[0m\n\u001b[1;32m     78\u001b[0m \u001b[39mfor\u001b[39;00m site \u001b[39min\u001b[39;00m model_trace\u001b[39m.\u001b[39mnodes\u001b[39m.\u001b[39mvalues():\n\u001b[1;32m     79\u001b[0m     \u001b[39mif\u001b[39;00m site[\u001b[39m\"\u001b[39m\u001b[39mtype\u001b[39m\u001b[39m\"\u001b[39m] \u001b[39m==\u001b[39m \u001b[39m\"\u001b[39m\u001b[39msample\u001b[39m\u001b[39m\"\u001b[39m:\n\u001b[0;32m---> 80\u001b[0m         check_site_shape(site, max_plate_nesting)\n\u001b[1;32m     81\u001b[0m \u001b[39mfor\u001b[39;00m site \u001b[39min\u001b[39;00m guide_trace\u001b[39m.\u001b[39mnodes\u001b[39m.\u001b[39mvalues():\n\u001b[1;32m     82\u001b[0m     \u001b[39mif\u001b[39;00m site[\u001b[39m\"\u001b[39m\u001b[39mtype\u001b[39m\u001b[39m\"\u001b[39m] \u001b[39m==\u001b[39m \u001b[39m\"\u001b[39m\u001b[39msample\u001b[39m\u001b[39m\"\u001b[39m:\n",
      "File \u001b[0;32m~/anaconda3/envs/spatialdata/envs/cellij/lib/python3.9/site-packages/pyro/util.py:437\u001b[0m, in \u001b[0;36mcheck_site_shape\u001b[0;34m(site, max_plate_nesting)\u001b[0m\n\u001b[1;32m    433\u001b[0m \u001b[39mfor\u001b[39;00m actual_size, expected_size \u001b[39min\u001b[39;00m zip_longest(\n\u001b[1;32m    434\u001b[0m     \u001b[39mreversed\u001b[39m(actual_shape), \u001b[39mreversed\u001b[39m(expected_shape), fillvalue\u001b[39m=\u001b[39m\u001b[39m1\u001b[39m\n\u001b[1;32m    435\u001b[0m ):\n\u001b[1;32m    436\u001b[0m     \u001b[39mif\u001b[39;00m expected_size \u001b[39m!=\u001b[39m \u001b[39m-\u001b[39m\u001b[39m1\u001b[39m \u001b[39mand\u001b[39;00m expected_size \u001b[39m!=\u001b[39m actual_size:\n\u001b[0;32m--> 437\u001b[0m         \u001b[39mraise\u001b[39;00m \u001b[39mValueError\u001b[39;00m(\n\u001b[1;32m    438\u001b[0m             \u001b[39m\"\u001b[39m\u001b[39m\\n\u001b[39;00m\u001b[39m  \u001b[39m\u001b[39m\"\u001b[39m\u001b[39m.\u001b[39mjoin(\n\u001b[1;32m    439\u001b[0m                 [\n\u001b[1;32m    440\u001b[0m                     \u001b[39m'\u001b[39m\u001b[39mat site \u001b[39m\u001b[39m\"\u001b[39m\u001b[39m{}\u001b[39;00m\u001b[39m\"\u001b[39m\u001b[39m, invalid log_prob shape\u001b[39m\u001b[39m'\u001b[39m\u001b[39m.\u001b[39mformat(site[\u001b[39m\"\u001b[39m\u001b[39mname\u001b[39m\u001b[39m\"\u001b[39m]),\n\u001b[1;32m    441\u001b[0m                     \u001b[39m\"\u001b[39m\u001b[39mExpected \u001b[39m\u001b[39m{}\u001b[39;00m\u001b[39m, actual \u001b[39m\u001b[39m{}\u001b[39;00m\u001b[39m\"\u001b[39m\u001b[39m.\u001b[39mformat(expected_shape, actual_shape),\n\u001b[1;32m    442\u001b[0m                     \u001b[39m\"\u001b[39m\u001b[39mTry one of the following fixes:\u001b[39m\u001b[39m\"\u001b[39m,\n\u001b[1;32m    443\u001b[0m                     \u001b[39m\"\u001b[39m\u001b[39m- enclose the batched tensor in a with pyro.plate(...): context\u001b[39m\u001b[39m\"\u001b[39m,\n\u001b[1;32m    444\u001b[0m                     \u001b[39m\"\u001b[39m\u001b[39m- .to_event(...) the distribution being sampled\u001b[39m\u001b[39m\"\u001b[39m,\n\u001b[1;32m    445\u001b[0m                     \u001b[39m\"\u001b[39m\u001b[39m- .permute() data dimensions\u001b[39m\u001b[39m\"\u001b[39m,\n\u001b[1;32m    446\u001b[0m                 ]\n\u001b[1;32m    447\u001b[0m             )\n\u001b[1;32m    448\u001b[0m         )\n\u001b[1;32m    450\u001b[0m \u001b[39m# Check parallel dimensions on the left of max_plate_nesting.\u001b[39;00m\n\u001b[1;32m    451\u001b[0m enum_dim \u001b[39m=\u001b[39m site[\u001b[39m\"\u001b[39m\u001b[39minfer\u001b[39m\u001b[39m\"\u001b[39m]\u001b[39m.\u001b[39mget(\u001b[39m\"\u001b[39m\u001b[39m_enumerate_dim\u001b[39m\u001b[39m\"\u001b[39m)\n",
      "\u001b[0;31mValueError\u001b[0m: at site \"data\", invalid log_prob shape\n  Expected [200, -1, -1], actual [0, 200, 1, 9627]\n  Try one of the following fixes:\n  - enclose the batched tensor in a with pyro.plate(...): context\n  - .to_event(...) the distribution being sampled\n  - .permute() data dimensions"
     ]
    }
   ],
   "source": [
    "model.fit(likelihood=\"Normal\",  epochs=1000, verbose_epochs=50)"
   ]
  },
  {
   "cell_type": "code",
   "execution_count": null,
   "metadata": {},
   "outputs": [],
   "source": [
    "import seaborn as sns\n",
    "import matplotlib.pyplot as plt\n",
    "fig, ax = plt.subplots(1, 1, figsize=(30, 10))\n",
    "sns.heatmap(model._guide.locs.w.detach().numpy().squeeze(), center=0, cmap='RdBu_r')"
   ]
  },
  {
   "cell_type": "code",
   "execution_count": null,
   "metadata": {},
   "outputs": [],
   "source": [
    "w = model._guide.locs.w.detach().numpy().squeeze()\n",
    "z = model._guide.locs.z.detach().numpy().squeeze()\n",
    "\n",
    "print(w.shape, z.shape)\n",
    "\n",
    "xhat = np.matmul(z, w)\n",
    "\n",
    "fig, ax = plt.subplots(1, 2, figsize=(30, 10))\n",
    "sns.heatmap(xhat, center=0, cmap='RdBu_r', ax=ax[0])\n",
    "sns.heatmap(mdata[\"mrna\"].X, center=0, cmap='RdBu_r', ax=ax[1])"
   ]
  },
  {
   "cell_type": "code",
   "execution_count": null,
   "metadata": {},
   "outputs": [],
   "source": [
    "fig, ax = plt.subplots(1, 1, figsize=(30, 10))\n",
    "sns.heatmap(mdata.X.nu, center=0, cmap='RdBu_r')"
   ]
  },
  {
   "cell_type": "code",
   "execution_count": null,
   "metadata": {},
   "outputs": [],
   "source": []
  }
 ],
 "metadata": {
  "kernelspec": {
   "display_name": "cellij",
   "language": "python",
   "name": "python3"
  },
  "language_info": {
   "codemirror_mode": {
    "name": "ipython",
    "version": 3
   },
   "file_extension": ".py",
   "mimetype": "text/x-python",
   "name": "python",
   "nbconvert_exporter": "python",
   "pygments_lexer": "ipython3",
   "version": "3.9.7"
  },
  "orig_nbformat": 4,
  "vscode": {
   "interpreter": {
    "hash": "274c2137ae10d64059d3c1f64686a799efc57415fad2ba2d522bc89475aeae04"
   }
  }
 },
 "nbformat": 4,
 "nbformat_minor": 2
}
