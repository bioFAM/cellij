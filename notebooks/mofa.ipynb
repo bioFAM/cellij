{
 "cells": [
  {
   "cell_type": "code",
   "execution_count": null,
   "metadata": {},
   "outputs": [],
   "source": [
    "%load_ext autoreload\n",
    "%autoreload 2"
   ]
  },
  {
   "cell_type": "code",
   "execution_count": null,
   "metadata": {},
   "outputs": [],
   "source": [
    "import pyro\n",
    "import pyro.distributions as dist\n",
    "import torch\n",
    "from pyro.nn import PyroModule\n",
    "from cellij.core.models import MOFA\n"
   ]
  },
  {
   "cell_type": "code",
   "execution_count": null,
   "metadata": {},
   "outputs": [],
   "source": [
    "# Create data\n",
    "import os\n",
    "import anndata\n",
    "import muon as mu\n",
    "import numpy as np\n",
    "import pandas as pd\n",
    "\n",
    "from importlib import resources\n",
    "from collections import UserDict\n",
    "\n",
    "\n",
    "obs = pd.read_csv(\n",
    "    filepath_or_buffer=os.fspath(\"../data/cll_metadata.csv\"),\n",
    "    sep=\",\",\n",
    "    index_col=\"Sample\",\n",
    "    encoding=\"utf-8\",\n",
    ")\n",
    "\n",
    "\n",
    "modalities = {}\n",
    "\n",
    "for ome in [\"mrna\"]:  # \"drugs\", \"methylation\", \"mrna\", \"mutations\"\n",
    "\n",
    "    modalities[ome] = anndata.AnnData(\n",
    "        pd.read_csv(\n",
    "            filepath_or_buffer=os.fspath(f\"../data/cll_{ome}.csv\"),\n",
    "            sep=\",\",\n",
    "            index_col=0,\n",
    "            encoding=\"utf-8\",\n",
    "        ).T\n",
    "    )\n",
    "\n",
    "mdata = mu.MuData(modalities)\n",
    "mdata.obs = mdata.obs.join(obs)"
   ]
  },
  {
   "cell_type": "code",
   "execution_count": null,
   "metadata": {},
   "outputs": [],
   "source": [
    "mdata[\"mrna\"]"
   ]
  },
  {
   "cell_type": "code",
   "execution_count": null,
   "metadata": {},
   "outputs": [],
   "source": [
    "model = MOFA(n_factors=50)"
   ]
  },
  {
   "cell_type": "code",
   "execution_count": null,
   "metadata": {},
   "outputs": [],
   "source": [
    "model.add_data(data=mdata)"
   ]
  },
  {
   "cell_type": "code",
   "execution_count": null,
   "metadata": {},
   "outputs": [],
   "source": [
    "model.fit(likelihood=\"Normal\",  epochs=1000, verbose_epochs=50)"
   ]
  },
  {
   "cell_type": "code",
   "execution_count": null,
   "metadata": {},
   "outputs": [],
   "source": [
    "import seaborn as sns\n",
    "import matplotlib.pyplot as plt\n",
    "fig, ax = plt.subplots(1, 1, figsize=(30, 10))\n",
    "sns.heatmap(model._guide.locs.w.detach().numpy().squeeze(), center=0, cmap='RdBu_r')"
   ]
  },
  {
   "cell_type": "code",
   "execution_count": null,
   "metadata": {},
   "outputs": [],
   "source": [
    "w = model._guide.locs.w.detach().numpy().squeeze()\n",
    "z = model._guide.locs.z.detach().numpy().squeeze()\n",
    "\n",
    "print(w.shape, z.shape)\n",
    "\n",
    "xhat = np.matmul(z, w)\n",
    "\n",
    "fig, ax = plt.subplots(1, 2, figsize=(30, 10))\n",
    "sns.heatmap(xhat, center=0, cmap='RdBu_r', ax=ax[0])\n",
    "sns.heatmap(mdata[\"mrna\"].X, center=0, cmap='RdBu_r', ax=ax[1])"
   ]
  },
  {
   "cell_type": "code",
   "execution_count": null,
   "metadata": {},
   "outputs": [],
   "source": [
    "fig, ax = plt.subplots(1, 1, figsize=(30, 10))\n",
    "sns.heatmap(mdata.X.nu, center=0, cmap='RdBu_r')"
   ]
  },
  {
   "cell_type": "code",
   "execution_count": null,
   "metadata": {},
   "outputs": [],
   "source": []
  }
 ],
 "metadata": {
  "kernelspec": {
   "display_name": "cellij",
   "language": "python",
   "name": "python3"
  },
  "language_info": {
   "codemirror_mode": {
    "name": "ipython",
    "version": 3
   },
   "file_extension": ".py",
   "mimetype": "text/x-python",
   "name": "python",
   "nbconvert_exporter": "python",
   "pygments_lexer": "ipython3",
   "version": "3.8.16"
  },
  "orig_nbformat": 4,
  "vscode": {
   "interpreter": {
    "hash": "3c5d6aacb90b7c4b7bed5bf6a9d31898fe7c8f5cf29edd2f018ea8d56f6712ae"
   }
  }
 },
 "nbformat": 4,
 "nbformat_minor": 2
}
