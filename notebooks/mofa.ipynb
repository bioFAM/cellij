{
 "cells": [
  {
   "cell_type": "code",
   "execution_count": 1,
   "metadata": {},
   "outputs": [
    {
     "data": {
      "application/javascript": "\n            setTimeout(function() {\n                var nbb_cell_id = 1;\n                var nbb_unformatted_code = \"%load_ext nb_black\";\n                var nbb_formatted_code = \"%load_ext nb_black\";\n                var nbb_cells = Jupyter.notebook.get_cells();\n                for (var i = 0; i < nbb_cells.length; ++i) {\n                    if (nbb_cells[i].input_prompt_number == nbb_cell_id) {\n                        if (nbb_cells[i].get_text() == nbb_unformatted_code) {\n                             nbb_cells[i].set_text(nbb_formatted_code);\n                        }\n                        break;\n                    }\n                }\n            }, 500);\n            ",
      "text/plain": [
       "<IPython.core.display.Javascript object>"
      ]
     },
     "metadata": {},
     "output_type": "display_data"
    }
   ],
   "source": [
    "%load_ext nb_black"
   ]
  },
  {
   "cell_type": "code",
   "execution_count": 2,
   "metadata": {},
   "outputs": [
    {
     "name": "stderr",
     "output_type": "stream",
     "text": [
      "/Users/chigurh/miniconda3/envs/cellij/lib/python3.9/site-packages/tqdm/auto.py:22: TqdmWarning: IProgress not found. Please update jupyter and ipywidgets. See https://ipywidgets.readthedocs.io/en/stable/user_install.html\n",
      "  from .autonotebook import tqdm as notebook_tqdm\n"
     ]
    },
    {
     "data": {
      "text/plain": [
       "'\\nTODO: Every model class must inherit from Abstract Meta Model Class, e.g.\\n\\nclass GenerativeModel(PyroModule):\\n    def __init__(self, device: Optional[Union[torch.device, int]] = None):\\n        \"\"\"Generative model base class.\\n\\n        The class uses a fixed number of tensor dimensions, associated with\\n        - -3: samples\\n        - -2: factors\\n        - -1: features\\n        Parameters\\n        ----------\\n        device : Optional[Union[torch.device, int]], optional\\n            Device to run the model on, by default None\\n        \"\"\"\\n        super().__init__(name=\"GenerativeModel\")\\n        self.device = device\\n\\n    def get_plates(self, *args, **kwargs) -> Dict[str, pyro.plate]:\\n        raise NotImplementedError()\\n    def forward(self, *args, **kwargs) -> None:\\n        raise NotImplementedError()\\n'"
      ]
     },
     "execution_count": 2,
     "metadata": {},
     "output_type": "execute_result"
    },
    {
     "data": {
      "application/javascript": "\n            setTimeout(function() {\n                var nbb_cell_id = 2;\n                var nbb_unformatted_code = \"import pyro\\nimport pyro.distributions as dist\\nimport torch\\nfrom pyro.nn import PyroModule\\n\\n'''\\nTODO: Every model class must inherit from Abstract Meta Model Class, e.g.\\n\\nclass GenerativeModel(PyroModule):\\n    def __init__(self, device: Optional[Union[torch.device, int]] = None):\\n        \\\"\\\"\\\"Generative model base class.\\n\\n        The class uses a fixed number of tensor dimensions, associated with\\n        - -3: samples\\n        - -2: factors\\n        - -1: features\\n        Parameters\\n        ----------\\n        device : Optional[Union[torch.device, int]], optional\\n            Device to run the model on, by default None\\n        \\\"\\\"\\\"\\n        super().__init__(name=\\\"GenerativeModel\\\")\\n        self.device = device\\n\\n    def get_plates(self, *args, **kwargs) -> Dict[str, pyro.plate]:\\n        raise NotImplementedError()\\n    def forward(self, *args, **kwargs) -> None:\\n        raise NotImplementedError()\\n'''\";\n                var nbb_formatted_code = \"import pyro\\nimport pyro.distributions as dist\\nimport torch\\nfrom pyro.nn import PyroModule\\n\\n'''\\nTODO: Every model class must inherit from Abstract Meta Model Class, e.g.\\n\\nclass GenerativeModel(PyroModule):\\n    def __init__(self, device: Optional[Union[torch.device, int]] = None):\\n        \\\"\\\"\\\"Generative model base class.\\n\\n        The class uses a fixed number of tensor dimensions, associated with\\n        - -3: samples\\n        - -2: factors\\n        - -1: features\\n        Parameters\\n        ----------\\n        device : Optional[Union[torch.device, int]], optional\\n            Device to run the model on, by default None\\n        \\\"\\\"\\\"\\n        super().__init__(name=\\\"GenerativeModel\\\")\\n        self.device = device\\n\\n    def get_plates(self, *args, **kwargs) -> Dict[str, pyro.plate]:\\n        raise NotImplementedError()\\n    def forward(self, *args, **kwargs) -> None:\\n        raise NotImplementedError()\\n'''\";\n                var nbb_cells = Jupyter.notebook.get_cells();\n                for (var i = 0; i < nbb_cells.length; ++i) {\n                    if (nbb_cells[i].input_prompt_number == nbb_cell_id) {\n                        if (nbb_cells[i].get_text() == nbb_unformatted_code) {\n                             nbb_cells[i].set_text(nbb_formatted_code);\n                        }\n                        break;\n                    }\n                }\n            }, 500);\n            ",
      "text/plain": [
       "<IPython.core.display.Javascript object>"
      ]
     },
     "metadata": {},
     "output_type": "display_data"
    }
   ],
   "source": [
    "import pyro\n",
    "import pyro.distributions as dist\n",
    "import torch\n",
    "from pyro.nn import PyroModule\n",
    "\n",
    "'''\n",
    "TODO: Every model class must inherit from Abstract Meta Model Class, e.g.\n",
    "\n",
    "class GenerativeModel(PyroModule):\n",
    "    def __init__(self, device: Optional[Union[torch.device, int]] = None):\n",
    "        \"\"\"Generative model base class.\n",
    "\n",
    "        The class uses a fixed number of tensor dimensions, associated with\n",
    "        - -3: samples\n",
    "        - -2: factors\n",
    "        - -1: features\n",
    "        Parameters\n",
    "        ----------\n",
    "        device : Optional[Union[torch.device, int]], optional\n",
    "            Device to run the model on, by default None\n",
    "        \"\"\"\n",
    "        super().__init__(name=\"GenerativeModel\")\n",
    "        self.device = device\n",
    "\n",
    "    def get_plates(self, *args, **kwargs) -> Dict[str, pyro.plate]:\n",
    "        raise NotImplementedError()\n",
    "    def forward(self, *args, **kwargs) -> None:\n",
    "        raise NotImplementedError()\n",
    "'''\n"
   ]
  },
  {
   "cell_type": "code",
   "execution_count": 3,
   "metadata": {},
   "outputs": [
    {
     "data": {
      "application/javascript": "\n            setTimeout(function() {\n                var nbb_cell_id = 3;\n                var nbb_unformatted_code = \"class MOFA_Model(PyroModule):\\n    def __init__(self, n_factors: int):\\n        super().__init__(name=\\\"MOFA_Model\\\")\\n        self.n_factors = n_factors\\n\\n    def _setup(self, n_obs, feature_offsets):\\n        # TODO: at some point replace n_obs with obs_offsets\\n        self.n_obs = n_obs\\n        self.n_features = feature_offsets[-1]\\n        self.n_feature_groups = len(feature_offsets) - 1\\n        self.feature_offsets = feature_offsets\\n\\n    def forward(self, X):\\n        \\\"\\\"\\\"Generative model for MOFA.\\\"\\\"\\\"\\n        plates = self.get_plates()\\n\\n        feature_group_scale = pyro.sample(\\n            \\\"feature_group_scale\\\", dist.HalfCauchy(torch.ones(self.n_feature_groups))\\n        ).view(-1, self.n_feature_groups)\\n\\n        with plates[\\\"obs\\\"], plates[\\\"factors\\\"]:\\n            z = pyro.sample(\\\"z\\\", dist.Normal(torch.zeros(1), torch.ones(1))).view(-1, self.n_obs, self.n_factors, 1)\\n\\n        # print(z.shape)\\n\\n        with plates[\\\"features\\\"], plates[\\\"factors\\\"]:\\n            # implement the horseshoe prior\\n            w_shape = (-1, 1, self.n_factors, self.n_features)\\n            w_scale = pyro.sample(\\\"w_scale\\\", dist.HalfCauchy(torch.ones(1))).view(w_shape)\\n            w_scale = torch.cat(\\n                [\\n                    w_scale[..., self.feature_offsets[m] : self.feature_offsets[m + 1]]\\n                    * feature_group_scale[..., m : m + 1]\\n                    for m in range(self.n_feature_groups)\\n                ],\\n                dim=-1,\\n            )\\n            w = pyro.sample(\\\"w\\\", dist.Normal(torch.zeros(1), w_scale)).view(w_shape)\\n\\n        # print(w.shape)\\n        with plates[\\\"features\\\"]:\\n            sigma = pyro.sample(\\\"sigma\\\", dist.InverseGamma(torch.tensor(3.0), torch.tensor(1.0))).view(\\n                -1, 1, 1, self.n_features\\n            )\\n\\n        # print(sigma.shape)\\n        with plates[\\\"obs\\\"]:\\n            prod = torch.einsum(\\\"...ikj,...ikj->...ij\\\", z, w).view(-1, self.n_obs, 1, self.n_features)\\n            # print(prod.shape)\\n            y = pyro.sample(\\\"data\\\", dist.Normal(prod, torch.sqrt(sigma)), obs=X.view(1, self.n_obs, 1, self.n_features))\\n\\n        return {\\\"z\\\": z, \\\"w\\\": w, \\\"sigma\\\": sigma, \\\"y\\\": y}\\n\\n    def get_plates(self):\\n        return {\\n            \\\"obs\\\": pyro.plate(\\\"obs\\\", self.n_obs, dim=-3),\\n            \\\"factors\\\": pyro.plate(\\\"factors\\\", self.n_factors, dim=-2),\\n            \\\"features\\\": pyro.plate(\\\"features\\\", self.n_features, dim=-1),\\n        }\";\n                var nbb_formatted_code = \"class MOFA_Model(PyroModule):\\n    def __init__(self, n_factors: int):\\n        super().__init__(name=\\\"MOFA_Model\\\")\\n        self.n_factors = n_factors\\n\\n    def _setup(self, n_obs, feature_offsets):\\n        # TODO: at some point replace n_obs with obs_offsets\\n        self.n_obs = n_obs\\n        self.n_features = feature_offsets[-1]\\n        self.n_feature_groups = len(feature_offsets) - 1\\n        self.feature_offsets = feature_offsets\\n\\n    def forward(self, X):\\n        \\\"\\\"\\\"Generative model for MOFA.\\\"\\\"\\\"\\n        plates = self.get_plates()\\n\\n        feature_group_scale = pyro.sample(\\n            \\\"feature_group_scale\\\", dist.HalfCauchy(torch.ones(self.n_feature_groups))\\n        ).view(-1, self.n_feature_groups)\\n\\n        with plates[\\\"obs\\\"], plates[\\\"factors\\\"]:\\n            z = pyro.sample(\\\"z\\\", dist.Normal(torch.zeros(1), torch.ones(1))).view(\\n                -1, self.n_obs, self.n_factors, 1\\n            )\\n\\n        # print(z.shape)\\n\\n        with plates[\\\"features\\\"], plates[\\\"factors\\\"]:\\n            # implement the horseshoe prior\\n            w_shape = (-1, 1, self.n_factors, self.n_features)\\n            w_scale = pyro.sample(\\\"w_scale\\\", dist.HalfCauchy(torch.ones(1))).view(\\n                w_shape\\n            )\\n            w_scale = torch.cat(\\n                [\\n                    w_scale[..., self.feature_offsets[m] : self.feature_offsets[m + 1]]\\n                    * feature_group_scale[..., m : m + 1]\\n                    for m in range(self.n_feature_groups)\\n                ],\\n                dim=-1,\\n            )\\n            w = pyro.sample(\\\"w\\\", dist.Normal(torch.zeros(1), w_scale)).view(w_shape)\\n\\n        # print(w.shape)\\n        with plates[\\\"features\\\"]:\\n            sigma = pyro.sample(\\n                \\\"sigma\\\", dist.InverseGamma(torch.tensor(3.0), torch.tensor(1.0))\\n            ).view(-1, 1, 1, self.n_features)\\n\\n        # print(sigma.shape)\\n        with plates[\\\"obs\\\"]:\\n            prod = torch.einsum(\\\"...ikj,...ikj->...ij\\\", z, w).view(\\n                -1, self.n_obs, 1, self.n_features\\n            )\\n            # print(prod.shape)\\n            y = pyro.sample(\\n                \\\"data\\\",\\n                dist.Normal(prod, torch.sqrt(sigma)),\\n                obs=X.view(1, self.n_obs, 1, self.n_features),\\n            )\\n\\n        return {\\\"z\\\": z, \\\"w\\\": w, \\\"sigma\\\": sigma, \\\"y\\\": y}\\n\\n    def get_plates(self):\\n        return {\\n            \\\"obs\\\": pyro.plate(\\\"obs\\\", self.n_obs, dim=-3),\\n            \\\"factors\\\": pyro.plate(\\\"factors\\\", self.n_factors, dim=-2),\\n            \\\"features\\\": pyro.plate(\\\"features\\\", self.n_features, dim=-1),\\n        }\";\n                var nbb_cells = Jupyter.notebook.get_cells();\n                for (var i = 0; i < nbb_cells.length; ++i) {\n                    if (nbb_cells[i].input_prompt_number == nbb_cell_id) {\n                        if (nbb_cells[i].get_text() == nbb_unformatted_code) {\n                             nbb_cells[i].set_text(nbb_formatted_code);\n                        }\n                        break;\n                    }\n                }\n            }, 500);\n            ",
      "text/plain": [
       "<IPython.core.display.Javascript object>"
      ]
     },
     "metadata": {},
     "output_type": "display_data"
    }
   ],
   "source": [
    "class MOFA_Model(PyroModule):\n",
    "    def __init__(self, n_factors: int):\n",
    "        super().__init__(name=\"MOFA_Model\")\n",
    "        self.n_factors = n_factors\n",
    "\n",
    "    def _setup(self, n_obs, feature_offsets):\n",
    "        # TODO: at some point replace n_obs with obs_offsets\n",
    "        self.n_obs = n_obs\n",
    "        self.n_features = feature_offsets[-1]\n",
    "        self.n_feature_groups = len(feature_offsets) - 1\n",
    "        self.feature_offsets = feature_offsets\n",
    "\n",
    "    def forward(self, X):\n",
    "        \"\"\"Generative model for MOFA.\"\"\"\n",
    "        plates = self.get_plates()\n",
    "\n",
    "        feature_group_scale = pyro.sample(\n",
    "            \"feature_group_scale\", dist.HalfCauchy(torch.ones(self.n_feature_groups))\n",
    "        ).view(-1, self.n_feature_groups)\n",
    "\n",
    "        with plates[\"obs\"], plates[\"factors\"]:\n",
    "            z = pyro.sample(\"z\", dist.Normal(torch.zeros(1), torch.ones(1))).view(-1, self.n_obs, self.n_factors, 1)\n",
    "\n",
    "        # print(z.shape)\n",
    "\n",
    "        with plates[\"features\"], plates[\"factors\"]:\n",
    "            # implement the horseshoe prior\n",
    "            w_shape = (-1, 1, self.n_factors, self.n_features)\n",
    "            w_scale = pyro.sample(\"w_scale\", dist.HalfCauchy(torch.ones(1))).view(w_shape)\n",
    "            w_scale = torch.cat(\n",
    "                [\n",
    "                    w_scale[..., self.feature_offsets[m] : self.feature_offsets[m + 1]]\n",
    "                    * feature_group_scale[..., m : m + 1]\n",
    "                    for m in range(self.n_feature_groups)\n",
    "                ],\n",
    "                dim=-1,\n",
    "            )\n",
    "            w = pyro.sample(\"w\", dist.Normal(torch.zeros(1), w_scale)).view(w_shape)\n",
    "\n",
    "        # print(w.shape)\n",
    "        with plates[\"features\"]:\n",
    "            sigma = pyro.sample(\"sigma\", dist.InverseGamma(torch.tensor(3.0), torch.tensor(1.0))).view(\n",
    "                -1, 1, 1, self.n_features\n",
    "            )\n",
    "\n",
    "        # print(sigma.shape)\n",
    "        with plates[\"obs\"]:\n",
    "            prod = torch.einsum(\"...ikj,...ikj->...ij\", z, w).view(-1, self.n_obs, 1, self.n_features)\n",
    "            # print(prod.shape)\n",
    "            y = pyro.sample(\"data\", dist.Normal(prod, torch.sqrt(sigma)), obs=X.view(1, self.n_obs, 1, self.n_features))\n",
    "\n",
    "        return {\"z\": z, \"w\": w, \"sigma\": sigma, \"y\": y}\n",
    "\n",
    "    def get_plates(self):\n",
    "        return {\n",
    "            \"obs\": pyro.plate(\"obs\", self.n_obs, dim=-3),\n",
    "            \"factors\": pyro.plate(\"factors\", self.n_factors, dim=-2),\n",
    "            \"features\": pyro.plate(\"features\", self.n_features, dim=-1),\n",
    "        }\n"
   ]
  },
  {
   "cell_type": "code",
   "execution_count": 4,
   "metadata": {},
   "outputs": [
    {
     "data": {
      "application/javascript": "\n            setTimeout(function() {\n                var nbb_cell_id = 4;\n                var nbb_unformatted_code = \"import numpy as np\";\n                var nbb_formatted_code = \"import numpy as np\";\n                var nbb_cells = Jupyter.notebook.get_cells();\n                for (var i = 0; i < nbb_cells.length; ++i) {\n                    if (nbb_cells[i].input_prompt_number == nbb_cell_id) {\n                        if (nbb_cells[i].get_text() == nbb_unformatted_code) {\n                             nbb_cells[i].set_text(nbb_formatted_code);\n                        }\n                        break;\n                    }\n                }\n            }, 500);\n            ",
      "text/plain": [
       "<IPython.core.display.Javascript object>"
      ]
     },
     "metadata": {},
     "output_type": "display_data"
    }
   ],
   "source": [
    "import numpy as np\n"
   ]
  },
  {
   "cell_type": "code",
   "execution_count": 5,
   "metadata": {},
   "outputs": [
    {
     "data": {
      "application/javascript": "\n            setTimeout(function() {\n                var nbb_cell_id = 5;\n                var nbb_unformatted_code = \"n_obs = 100\\nfeature_offsets = [0, 10, 50]\\nn_factors = 5\\n\\nX = np.random.normal(size=(n_obs, feature_offsets[-1]))\\nmodel = MOFA_Model(n_factors)\\nmodel._setup(n_obs, feature_offsets)\";\n                var nbb_formatted_code = \"n_obs = 100\\nfeature_offsets = [0, 10, 50]\\nn_factors = 5\\n\\nX = np.random.normal(size=(n_obs, feature_offsets[-1]))\\nmodel = MOFA_Model(n_factors)\\nmodel._setup(n_obs, feature_offsets)\";\n                var nbb_cells = Jupyter.notebook.get_cells();\n                for (var i = 0; i < nbb_cells.length; ++i) {\n                    if (nbb_cells[i].input_prompt_number == nbb_cell_id) {\n                        if (nbb_cells[i].get_text() == nbb_unformatted_code) {\n                             nbb_cells[i].set_text(nbb_formatted_code);\n                        }\n                        break;\n                    }\n                }\n            }, 500);\n            ",
      "text/plain": [
       "<IPython.core.display.Javascript object>"
      ]
     },
     "metadata": {},
     "output_type": "display_data"
    }
   ],
   "source": [
    "n_obs = 100\n",
    "feature_offsets = [0, 10, 50]\n",
    "n_factors = 5\n",
    "\n",
    "X = np.random.normal(size=(n_obs, feature_offsets[-1]))\n",
    "model = MOFA_Model(n_factors)\n",
    "model._setup(n_obs, feature_offsets)\n"
   ]
  },
  {
   "cell_type": "code",
   "execution_count": 6,
   "metadata": {},
   "outputs": [
    {
     "data": {
      "text/plain": [
       "torch.Size([1, 1, 5, 50])"
      ]
     },
     "execution_count": 6,
     "metadata": {},
     "output_type": "execute_result"
    },
    {
     "data": {
      "application/javascript": "\n            setTimeout(function() {\n                var nbb_cell_id = 6;\n                var nbb_unformatted_code = \"model(torch.Tensor(X))['w'].shape\";\n                var nbb_formatted_code = \"model(torch.Tensor(X))[\\\"w\\\"].shape\";\n                var nbb_cells = Jupyter.notebook.get_cells();\n                for (var i = 0; i < nbb_cells.length; ++i) {\n                    if (nbb_cells[i].input_prompt_number == nbb_cell_id) {\n                        if (nbb_cells[i].get_text() == nbb_unformatted_code) {\n                             nbb_cells[i].set_text(nbb_formatted_code);\n                        }\n                        break;\n                    }\n                }\n            }, 500);\n            ",
      "text/plain": [
       "<IPython.core.display.Javascript object>"
      ]
     },
     "metadata": {},
     "output_type": "display_data"
    }
   ],
   "source": [
    "model(torch.Tensor(X))['w'].shape\n"
   ]
  },
  {
   "cell_type": "code",
   "execution_count": 7,
   "metadata": {},
   "outputs": [
    {
     "name": "stderr",
     "output_type": "stream",
     "text": [
      "/Users/chigurh/miniconda3/envs/cellij/lib/python3.9/site-packages/anndata/core/anndata.py:17: FutureWarning: pandas.core.index is deprecated and will be removed in a future version. The public classes are available in the top-level namespace.\n",
      "  from pandas.core.index import RangeIndex\n"
     ]
    },
    {
     "ename": "ImportError",
     "evalue": "cannot import name 'PathLike' from 'anndata.compat' (/Users/chigurh/miniconda3/envs/cellij/lib/python3.9/site-packages/anndata/compat/__init__.py)",
     "output_type": "error",
     "traceback": [
      "\u001b[0;31m---------------------------------------------------------------------------\u001b[0m",
      "\u001b[0;31mImportError\u001b[0m                               Traceback (most recent call last)",
      "Cell \u001b[0;32mIn[7], line 2\u001b[0m\n\u001b[1;32m      1\u001b[0m \u001b[39m# from cellij.core.models import MOFA\u001b[39;00m\n\u001b[0;32m----> 2\u001b[0m \u001b[39mfrom\u001b[39;00m \u001b[39mcellij\u001b[39;00m\u001b[39m.\u001b[39;00m\u001b[39mcore\u001b[39;00m\u001b[39m.\u001b[39;00m\u001b[39m_data\u001b[39;00m \u001b[39mimport\u001b[39;00m Importer\n",
      "File \u001b[0;32m~/Projects/mlo/cellij/cellij/core/__init__.py:1\u001b[0m\n\u001b[0;32m----> 1\u001b[0m \u001b[39mfrom\u001b[39;00m \u001b[39m.\u001b[39;00m\u001b[39m_data\u001b[39;00m \u001b[39mimport\u001b[39;00m DataContainer, Importer\n\u001b[1;32m      2\u001b[0m \u001b[39mfrom\u001b[39;00m \u001b[39m.\u001b[39;00m\u001b[39m_factormodel\u001b[39;00m \u001b[39mimport\u001b[39;00m FactorModel\n\u001b[1;32m      3\u001b[0m \u001b[39mfrom\u001b[39;00m \u001b[39m.\u001b[39;00m\u001b[39m_group\u001b[39;00m \u001b[39mimport\u001b[39;00m Group\n",
      "File \u001b[0;32m~/Projects/mlo/cellij/cellij/core/_data.py:4\u001b[0m\n\u001b[1;32m      1\u001b[0m \u001b[39mfrom\u001b[39;00m \u001b[39m__future__\u001b[39;00m \u001b[39mimport\u001b[39;00m annotations\n\u001b[1;32m      3\u001b[0m \u001b[39mimport\u001b[39;00m \u001b[39mos\u001b[39;00m\n\u001b[0;32m----> 4\u001b[0m \u001b[39mimport\u001b[39;00m \u001b[39manndata\u001b[39;00m\n\u001b[1;32m      5\u001b[0m \u001b[39mimport\u001b[39;00m \u001b[39mmuon\u001b[39;00m \u001b[39mas\u001b[39;00m \u001b[39mmu\u001b[39;00m\n\u001b[1;32m      6\u001b[0m \u001b[39mimport\u001b[39;00m \u001b[39mnumpy\u001b[39;00m \u001b[39mas\u001b[39;00m \u001b[39mnp\u001b[39;00m\n",
      "File \u001b[0;32m~/miniconda3/envs/cellij/lib/python3.9/site-packages/anndata/__init__.py:1\u001b[0m\n\u001b[0;32m----> 1\u001b[0m \u001b[39mfrom\u001b[39;00m \u001b[39m.\u001b[39;00m\u001b[39mcore\u001b[39;00m\u001b[39m.\u001b[39;00m\u001b[39manndata\u001b[39;00m \u001b[39mimport\u001b[39;00m AnnData, Raw\n\u001b[1;32m      2\u001b[0m \u001b[39mfrom\u001b[39;00m \u001b[39m.\u001b[39;00m\u001b[39mreadwrite\u001b[39;00m \u001b[39mimport\u001b[39;00m (\n\u001b[1;32m      3\u001b[0m     read_h5ad, read_loom, read_hdf,\n\u001b[1;32m      4\u001b[0m     read_excel, read_umi_tools,\n\u001b[1;32m      5\u001b[0m     read_csv, read_text, read_mtx,\n\u001b[1;32m      6\u001b[0m     read_zarr,\n\u001b[1;32m      7\u001b[0m )\n\u001b[1;32m      8\u001b[0m \u001b[39mfrom\u001b[39;00m \u001b[39m.\u001b[39;00m\u001b[39mreadwrite\u001b[39;00m \u001b[39mimport\u001b[39;00m read_h5ad \u001b[39mas\u001b[39;00m read  \u001b[39m# backwards compat / shortcut for default format\u001b[39;00m\n",
      "File \u001b[0;32m~/miniconda3/envs/cellij/lib/python3.9/site-packages/anndata/core/anndata.py:48\u001b[0m\n\u001b[1;32m     40\u001b[0m             \u001b[39mreturn\u001b[39;00m \u001b[39m'\u001b[39m\u001b[39mmock zappy.base.ZappyArray\u001b[39m\u001b[39m'\u001b[39m\n\u001b[1;32m     43\u001b[0m \u001b[39mfrom\u001b[39;00m \u001b[39m.\u001b[39;00m\u001b[39malignedmapping\u001b[39;00m \u001b[39mimport\u001b[39;00m (\n\u001b[1;32m     44\u001b[0m     AxisArraysBase, AxisArrays,\n\u001b[1;32m     45\u001b[0m     \u001b[39m# PairwiseArraysBase, PairwiseArrays,\u001b[39;00m\n\u001b[1;32m     46\u001b[0m     LayersBase, Layers\n\u001b[1;32m     47\u001b[0m )\n\u001b[0;32m---> 48\u001b[0m \u001b[39mfrom\u001b[39;00m \u001b[39m.\u001b[39;00m\u001b[39m.\u001b[39;00m \u001b[39mimport\u001b[39;00m h5py\n\u001b[1;32m     49\u001b[0m \u001b[39mfrom\u001b[39;00m \u001b[39m.\u001b[39;00m\u001b[39mviews\u001b[39;00m \u001b[39mimport\u001b[39;00m ArrayView, SparseCSRView, SparseCSCView, DictView, DataFrameView\n\u001b[1;32m     51\u001b[0m \u001b[39mfrom\u001b[39;00m \u001b[39m.\u001b[39;00m\u001b[39m.\u001b[39;00m \u001b[39mimport\u001b[39;00m utils\n",
      "File \u001b[0;32m~/miniconda3/envs/cellij/lib/python3.9/site-packages/anndata/h5py/__init__.py:24\u001b[0m\n\u001b[1;32m      1\u001b[0m \u001b[39m\"\"\"Wraps `h5py <http://www.h5py.org/>`_ to handle sparse matrices.\u001b[39;00m\n\u001b[1;32m      2\u001b[0m \n\u001b[1;32m      3\u001b[0m \u001b[39m:mod:`anndata.h5py` is based on and uses the conventions of\u001b[39;00m\n\u001b[0;32m   (...)\u001b[0m\n\u001b[1;32m     22\u001b[0m \u001b[39m   SparseDataset\u001b[39;00m\n\u001b[1;32m     23\u001b[0m \u001b[39m\"\"\"\u001b[39;00m\n\u001b[0;32m---> 24\u001b[0m \u001b[39mfrom\u001b[39;00m \u001b[39m.\u001b[39;00m\u001b[39mh5sparse\u001b[39;00m \u001b[39mimport\u001b[39;00m File, Group, SparseDataset, _load_h5_dataset_as_sparse\n\u001b[1;32m     25\u001b[0m \u001b[39mfrom\u001b[39;00m \u001b[39mh5py\u001b[39;00m \u001b[39mimport\u001b[39;00m Dataset, special_dtype\n\u001b[1;32m     27\u001b[0m \u001b[39m# Problem: the H5py intersphinx is broken, and only contains e.g. `Dataset` directly.\u001b[39;00m\n\u001b[1;32m     28\u001b[0m \u001b[39m# So we can’t possibly link to it using :class:`Dataset`, since that will always find our version.\u001b[39;00m\n",
      "File \u001b[0;32m~/miniconda3/envs/cellij/lib/python3.9/site-packages/anndata/h5py/h5sparse.py:12\u001b[0m\n\u001b[1;32m      9\u001b[0m \u001b[39mfrom\u001b[39;00m \u001b[39mscipy\u001b[39;00m\u001b[39m.\u001b[39;00m\u001b[39msparse\u001b[39;00m \u001b[39mimport\u001b[39;00m _sparsetools\n\u001b[1;32m     11\u001b[0m \u001b[39mfrom\u001b[39;00m \u001b[39m.\u001b[39;00m\u001b[39m.\u001b[39;00m\u001b[39mutils\u001b[39;00m \u001b[39mimport\u001b[39;00m unpack_index\n\u001b[0;32m---> 12\u001b[0m \u001b[39mfrom\u001b[39;00m \u001b[39m.\u001b[39;00m\u001b[39m.\u001b[39;00m\u001b[39mcompat\u001b[39;00m \u001b[39mimport\u001b[39;00m PathLike\n\u001b[1;32m     14\u001b[0m \u001b[39mfrom\u001b[39;00m \u001b[39m.\u001b[39;00m\u001b[39mutils\u001b[39;00m \u001b[39mimport\u001b[39;00m _chunked_rows\n\u001b[1;32m     17\u001b[0m \u001b[39mclass\u001b[39;00m \u001b[39mBackedFormat\u001b[39;00m(NamedTuple):\n",
      "\u001b[0;31mImportError\u001b[0m: cannot import name 'PathLike' from 'anndata.compat' (/Users/chigurh/miniconda3/envs/cellij/lib/python3.9/site-packages/anndata/compat/__init__.py)"
     ]
    },
    {
     "data": {
      "application/javascript": "\n            setTimeout(function() {\n                var nbb_cell_id = 7;\n                var nbb_unformatted_code = \"# from cellij.core.models import MOFA\\nfrom cellij.core._data import Importer\";\n                var nbb_formatted_code = \"# from cellij.core.models import MOFA\\nfrom cellij.core._data import Importer\";\n                var nbb_cells = Jupyter.notebook.get_cells();\n                for (var i = 0; i < nbb_cells.length; ++i) {\n                    if (nbb_cells[i].input_prompt_number == nbb_cell_id) {\n                        if (nbb_cells[i].get_text() == nbb_unformatted_code) {\n                             nbb_cells[i].set_text(nbb_formatted_code);\n                        }\n                        break;\n                    }\n                }\n            }, 500);\n            ",
      "text/plain": [
       "<IPython.core.display.Javascript object>"
      ]
     },
     "metadata": {},
     "output_type": "display_data"
    }
   ],
   "source": [
    "# from cellij.core.models import MOFA\n",
    "# from cellij.core._data import Importer"
   ]
  },
  {
   "cell_type": "code",
   "execution_count": null,
   "metadata": {},
   "outputs": [],
   "source": []
  }
 ],
 "metadata": {
  "kernelspec": {
   "display_name": "cellij",
   "language": "python",
   "name": "python3"
  },
  "language_info": {
   "codemirror_mode": {
    "name": "ipython",
    "version": 3
   },
   "file_extension": ".py",
   "mimetype": "text/x-python",
   "name": "python",
   "nbconvert_exporter": "python",
   "pygments_lexer": "ipython3",
   "version": "3.9.16"
  },
  "orig_nbformat": 4,
  "vscode": {
   "interpreter": {
    "hash": "274c2137ae10d64059d3c1f64686a799efc57415fad2ba2d522bc89475aeae04"
   }
  }
 },
 "nbformat": 4,
 "nbformat_minor": 2
}
