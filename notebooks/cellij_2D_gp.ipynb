{
 "cells": [
  {
   "cell_type": "code",
   "execution_count": 1,
   "metadata": {},
   "outputs": [],
   "source": [
    "# %load_ext nb_black\n",
    "%load_ext autoreload\n",
    "%autoreload 2"
   ]
  },
  {
   "cell_type": "markdown",
   "metadata": {},
   "source": [
    "# GP on 2D data\n",
    "Dataset \"visium\" from https://spatialdata.scverse.org/en/latest/tutorials/notebooks/datasets/README.html\n"
   ]
  },
  {
   "cell_type": "code",
   "execution_count": 38,
   "metadata": {},
   "outputs": [],
   "source": [
    "import numpy as np\n",
    "import anndata as ad\n",
    "import scanpy as sc\n",
    "import torch\n",
    "import anndata\n",
    "import pandas as pd\n",
    "import matplotlib.pyplot as plt\n",
    "import numpy as np\n",
    "from sklearn.decomposition import PCA\n",
    "import umap.umap_ as umap # umap-learn\n",
    "import spatialdata as sd\n",
    "import pyro\n",
    "import seaborn as sns\n",
    "\n",
    "import cellij\n",
    "\n",
    "if torch.cuda.is_available():\n",
    "    torch.set_default_tensor_type(\"torch.cuda.FloatTensor\")\n",
    "\n",
    "# random seed to use throughout the notebook\n",
    "SEED = 123\n",
    "\n",
    "torch.manual_seed(SEED)\n",
    "np.random.seed(SEED)\n"
   ]
  },
  {
   "cell_type": "code",
   "execution_count": 3,
   "metadata": {},
   "outputs": [
    {
     "name": "stderr",
     "output_type": "stream",
     "text": [
      "/Users/tim.treis/anaconda3/envs/spatialdata/envs/cellij/lib/python3.10/site-packages/anndata/_core/anndata.py:1838: UserWarning: Observation names are not unique. To make them unique, call `.obs_names_make_unique`.\n",
      "  utils.warn_names_duplicates(\"obs\")\n"
     ]
    }
   ],
   "source": [
    "visium_sdata = sd.read_zarr(\"/Users/tim.treis/Documents/GitHub/spatialdata-notebooks/notebooks/examples/visium.zarr\")"
   ]
  },
  {
   "cell_type": "code",
   "execution_count": 4,
   "metadata": {},
   "outputs": [],
   "source": [
    "sdata = visium_sdata.filter_by_coordinate_system(\"ST8059048\")"
   ]
  },
  {
   "cell_type": "code",
   "execution_count": 5,
   "metadata": {},
   "outputs": [
    {
     "data": {
      "text/html": [
       "<div>\n",
       "<style scoped>\n",
       "    .dataframe tbody tr th:only-of-type {\n",
       "        vertical-align: middle;\n",
       "    }\n",
       "\n",
       "    .dataframe tbody tr th {\n",
       "        vertical-align: top;\n",
       "    }\n",
       "\n",
       "    .dataframe thead th {\n",
       "        text-align: right;\n",
       "    }\n",
       "</style>\n",
       "<table border=\"1\" class=\"dataframe\">\n",
       "  <thead>\n",
       "    <tr style=\"text-align: right;\">\n",
       "      <th></th>\n",
       "      <th>y</th>\n",
       "      <th>x</th>\n",
       "    </tr>\n",
       "  </thead>\n",
       "  <tbody>\n",
       "    <tr>\n",
       "      <th>AAACAAGTATCTCCCA-1</th>\n",
       "      <td>50</td>\n",
       "      <td>102</td>\n",
       "    </tr>\n",
       "    <tr>\n",
       "      <th>AAACACCAATAACTGC-1</th>\n",
       "      <td>59</td>\n",
       "      <td>19</td>\n",
       "    </tr>\n",
       "    <tr>\n",
       "      <th>AAACAGAGCGACTCCT-1</th>\n",
       "      <td>14</td>\n",
       "      <td>94</td>\n",
       "    </tr>\n",
       "  </tbody>\n",
       "</table>\n",
       "</div>"
      ],
      "text/plain": [
       "                     y    x\n",
       "AAACAAGTATCTCCCA-1  50  102\n",
       "AAACACCAATAACTGC-1  59   19\n",
       "AAACAGAGCGACTCCT-1  14   94"
      ]
     },
     "execution_count": 5,
     "metadata": {},
     "output_type": "execute_result"
    }
   ],
   "source": [
    "obs = sdata.table.obs\n",
    "obs = obs[[\"array_row\", \"array_col\", \"spot_id\"]]\n",
    "# obs.index = [f\"spot_{i:04}\" for i in obs.spot_id.values.tolist()]\n",
    "del obs[\"spot_id\"]\n",
    "obs.columns = [\"y\", \"x\"]\n",
    "obs.head(3)"
   ]
  },
  {
   "cell_type": "code",
   "execution_count": 6,
   "metadata": {},
   "outputs": [
    {
     "data": {
      "text/html": [
       "<div>\n",
       "<style scoped>\n",
       "    .dataframe tbody tr th:only-of-type {\n",
       "        vertical-align: middle;\n",
       "    }\n",
       "\n",
       "    .dataframe tbody tr th {\n",
       "        vertical-align: top;\n",
       "    }\n",
       "\n",
       "    .dataframe thead th {\n",
       "        text-align: right;\n",
       "    }\n",
       "</style>\n",
       "<table border=\"1\" class=\"dataframe\">\n",
       "  <thead>\n",
       "    <tr style=\"text-align: right;\">\n",
       "      <th></th>\n",
       "      <th>Xkr4</th>\n",
       "      <th>Gm1992</th>\n",
       "      <th>Gm37381</th>\n",
       "      <th>Rp1</th>\n",
       "      <th>Sox17</th>\n",
       "      <th>Gm37323</th>\n",
       "      <th>Mrpl15</th>\n",
       "      <th>Lypla1</th>\n",
       "      <th>Gm37988</th>\n",
       "      <th>Tcea1</th>\n",
       "      <th>...</th>\n",
       "      <th>AC125149.1</th>\n",
       "      <th>AC125149.2</th>\n",
       "      <th>AC125149.4</th>\n",
       "      <th>AC234645.1</th>\n",
       "      <th>AC168977.2</th>\n",
       "      <th>AC168977.1</th>\n",
       "      <th>AC149090.1</th>\n",
       "      <th>CAAA01118383.1</th>\n",
       "      <th>Vmn2r122</th>\n",
       "      <th>CAAA01147332.1</th>\n",
       "    </tr>\n",
       "  </thead>\n",
       "  <tbody>\n",
       "    <tr>\n",
       "      <th>AAACAAGTATCTCCCA-1</th>\n",
       "      <td>2.0</td>\n",
       "      <td>0.0</td>\n",
       "      <td>0.0</td>\n",
       "      <td>0.0</td>\n",
       "      <td>0.0</td>\n",
       "      <td>0.0</td>\n",
       "      <td>0.0</td>\n",
       "      <td>0.0</td>\n",
       "      <td>0.0</td>\n",
       "      <td>0.0</td>\n",
       "      <td>...</td>\n",
       "      <td>0.0</td>\n",
       "      <td>0.0</td>\n",
       "      <td>0.0</td>\n",
       "      <td>0.0</td>\n",
       "      <td>0.0</td>\n",
       "      <td>0.0</td>\n",
       "      <td>2.0</td>\n",
       "      <td>0.0</td>\n",
       "      <td>0.0</td>\n",
       "      <td>0.0</td>\n",
       "    </tr>\n",
       "    <tr>\n",
       "      <th>AAACACCAATAACTGC-1</th>\n",
       "      <td>0.0</td>\n",
       "      <td>0.0</td>\n",
       "      <td>0.0</td>\n",
       "      <td>0.0</td>\n",
       "      <td>0.0</td>\n",
       "      <td>0.0</td>\n",
       "      <td>0.0</td>\n",
       "      <td>0.0</td>\n",
       "      <td>0.0</td>\n",
       "      <td>0.0</td>\n",
       "      <td>...</td>\n",
       "      <td>0.0</td>\n",
       "      <td>0.0</td>\n",
       "      <td>0.0</td>\n",
       "      <td>0.0</td>\n",
       "      <td>0.0</td>\n",
       "      <td>0.0</td>\n",
       "      <td>0.0</td>\n",
       "      <td>2.0</td>\n",
       "      <td>0.0</td>\n",
       "      <td>0.0</td>\n",
       "    </tr>\n",
       "    <tr>\n",
       "      <th>AAACAGAGCGACTCCT-1</th>\n",
       "      <td>0.0</td>\n",
       "      <td>0.0</td>\n",
       "      <td>0.0</td>\n",
       "      <td>0.0</td>\n",
       "      <td>0.0</td>\n",
       "      <td>0.0</td>\n",
       "      <td>2.0</td>\n",
       "      <td>0.0</td>\n",
       "      <td>0.0</td>\n",
       "      <td>3.0</td>\n",
       "      <td>...</td>\n",
       "      <td>0.0</td>\n",
       "      <td>0.0</td>\n",
       "      <td>0.0</td>\n",
       "      <td>0.0</td>\n",
       "      <td>0.0</td>\n",
       "      <td>0.0</td>\n",
       "      <td>1.0</td>\n",
       "      <td>1.0</td>\n",
       "      <td>0.0</td>\n",
       "      <td>0.0</td>\n",
       "    </tr>\n",
       "  </tbody>\n",
       "</table>\n",
       "<p>3 rows × 31053 columns</p>\n",
       "</div>"
      ],
      "text/plain": [
       "                    Xkr4  Gm1992  Gm37381  Rp1  Sox17  Gm37323  Mrpl15  \\\n",
       "AAACAAGTATCTCCCA-1   2.0     0.0      0.0  0.0    0.0      0.0     0.0   \n",
       "AAACACCAATAACTGC-1   0.0     0.0      0.0  0.0    0.0      0.0     0.0   \n",
       "AAACAGAGCGACTCCT-1   0.0     0.0      0.0  0.0    0.0      0.0     2.0   \n",
       "\n",
       "                    Lypla1  Gm37988  Tcea1  ...  AC125149.1  AC125149.2  \\\n",
       "AAACAAGTATCTCCCA-1     0.0      0.0    0.0  ...         0.0         0.0   \n",
       "AAACACCAATAACTGC-1     0.0      0.0    0.0  ...         0.0         0.0   \n",
       "AAACAGAGCGACTCCT-1     0.0      0.0    3.0  ...         0.0         0.0   \n",
       "\n",
       "                    AC125149.4  AC234645.1  AC168977.2  AC168977.1  \\\n",
       "AAACAAGTATCTCCCA-1         0.0         0.0         0.0         0.0   \n",
       "AAACACCAATAACTGC-1         0.0         0.0         0.0         0.0   \n",
       "AAACAGAGCGACTCCT-1         0.0         0.0         0.0         0.0   \n",
       "\n",
       "                    AC149090.1  CAAA01118383.1  Vmn2r122  CAAA01147332.1  \n",
       "AAACAAGTATCTCCCA-1         2.0             0.0       0.0             0.0  \n",
       "AAACACCAATAACTGC-1         0.0             2.0       0.0             0.0  \n",
       "AAACAGAGCGACTCCT-1         1.0             1.0       0.0             0.0  \n",
       "\n",
       "[3 rows x 31053 columns]"
      ]
     },
     "execution_count": 6,
     "metadata": {},
     "output_type": "execute_result"
    }
   ],
   "source": [
    "dense_data = sdata.table.X.toarray().astype(float)\n",
    "data = pd.DataFrame(\n",
    "    dense_data,\n",
    "    columns=sdata.table.var.index,\n",
    "    index=sdata.table.obs.index,\n",
    ")\n",
    "data.head(3)"
   ]
  },
  {
   "cell_type": "code",
   "execution_count": 27,
   "metadata": {},
   "outputs": [
    {
     "name": "stdout",
     "output_type": "stream",
     "text": [
      "(2987, 31053)\n",
      "Training Model...\n",
      "- Epoch      0/2 | Train Loss:           0.00 \t\n",
      "- Epoch      1/2 | Train Loss:           0.01 \t| Decrease: -1266.67%\t| Time:  35.94s\n",
      "- Epoch      2/2 | Train Loss:           0.26 \t| Decrease: -5031.71%\t| Time:  37.14s\n",
      "Training finished.\n",
      "- Final loss: 0.26\n",
      "- Training took 125.12s\n"
     ]
    }
   ],
   "source": [
    "model = cellij.core.models.SimpleGP(\n",
    "    n_factors=10\n",
    ")\n",
    "\n",
    "model.add_data(name=\"visium\", data=data)\n",
    "model.add_covariate(obs)\n",
    "model.fit(\n",
    "    likelihoods=\"Normal\",\n",
    "    epochs=2,\n",
    "    verbose_epochs=1,\n",
    "    learning_rate=0.01,\n",
    ")\n"
   ]
  },
  {
   "cell_type": "code",
   "execution_count": 22,
   "metadata": {},
   "outputs": [
    {
     "data": {
      "text/plain": [
       "(2987, 31053)"
      ]
     },
     "execution_count": 22,
     "metadata": {},
     "output_type": "execute_result"
    }
   ],
   "source": [
    "model.data.shape"
   ]
  },
  {
   "cell_type": "code",
   "execution_count": 41,
   "metadata": {},
   "outputs": [
    {
     "data": {
      "text/plain": [
       "<Axes: >"
      ]
     },
     "execution_count": 41,
     "metadata": {},
     "output_type": "execute_result"
    },
    {
     "data": {
      "image/png": "[encoded data removed]",
      "text/plain": [
       "<Figure size 640x480 with 2 Axes>"
      ]
     },
     "metadata": {},
     "output_type": "display_data"
    }
   ],
   "source": [
    "a = pyro.get_param_store()[\"FactorModel._guide.gp$$$variational_strategy._variational_distribution.variational_mean\"]\n",
    "sns.heatmap(a.detach().numpy())"
   ]
  },
  {
   "cell_type": "code",
   "execution_count": 28,
   "metadata": {},
   "outputs": [
    {
     "name": "stdout",
     "output_type": "stream",
     "text": [
      "0.0039\n"
     ]
    },
    {
     "ename": "NameError",
     "evalue": "name 'mdata' is not defined",
     "output_type": "error",
     "traceback": [
      "\u001b[0;31m---------------------------------------------------------------------------\u001b[0m",
      "\u001b[0;31mNameError\u001b[0m                                 Traceback (most recent call last)",
      "Cell \u001b[0;32mIn[28], line 26\u001b[0m\n\u001b[1;32m     23\u001b[0m result \u001b[39m=\u001b[39m pca\u001b[39m.\u001b[39mfit_transform(factor_means\u001b[39m.\u001b[39msqueeze()\u001b[39m.\u001b[39mT)\n\u001b[1;32m     25\u001b[0m result \u001b[39m=\u001b[39m pd\u001b[39m.\u001b[39mDataFrame(result)\n\u001b[0;32m---> 26\u001b[0m result[\u001b[39m\"\u001b[39m\u001b[39mtime\u001b[39m\u001b[39m\"\u001b[39m] \u001b[39m=\u001b[39m mdata\u001b[39m.\u001b[39mobs[\u001b[39m\"\u001b[39m\u001b[39mdivision_scaled\u001b[39m\u001b[39m\"\u001b[39m]\u001b[39m.\u001b[39mvalues\n\u001b[1;32m     27\u001b[0m fig, axs \u001b[39m=\u001b[39m plt\u001b[39m.\u001b[39msubplots(ncols\u001b[39m=\u001b[39m\u001b[39m1\u001b[39m, nrows\u001b[39m=\u001b[39m\u001b[39m1\u001b[39m, figsize\u001b[39m=\u001b[39m(\u001b[39m8\u001b[39m, \u001b[39m3.5\u001b[39m))\n\u001b[1;32m     28\u001b[0m s \u001b[39m=\u001b[39m axs\u001b[39m.\u001b[39mscatter(result[\u001b[39m0\u001b[39m], result[\u001b[39m1\u001b[39m], c \u001b[39m=\u001b[39m result[\u001b[39m\"\u001b[39m\u001b[39mtime\u001b[39m\u001b[39m\"\u001b[39m])\n",
      "\u001b[0;31mNameError\u001b[0m: name 'mdata' is not defined"
     ]
    },
    {
     "data": {
      "image/png": "[encoded data removed]",
      "text/plain": [
       "<Figure size 640x480 with 1 Axes>"
      ]
     },
     "metadata": {},
     "output_type": "display_data"
    }
   ],
   "source": [
    "factor_means = []\n",
    "with torch.no_grad():\n",
    "    dist = model.gp(model.covariate)\n",
    "    samples = dist(torch.Size([100])).cpu()\n",
    "    mean = samples.mean(dim=0)\n",
    "    mean = torch.transpose(mean, -1, -2)\n",
    "    factor_means.append(torch.transpose(mean, -1, -2))\n",
    "\n",
    "factor_means = torch.stack(factor_means, dim=0)\n",
    "\n",
    "print(round(float(factor_means.squeeze()[0][0]), 4))\n",
    "\n",
    "for i in range(10):\n",
    "    try:\n",
    "        plt.scatter(model.covariate.cpu().detach().numpy(), factor_means.squeeze()[i], )\n",
    "    except:\n",
    "        pass\n",
    "    \n",
    "# umap_obj = umap.UMAP()\n",
    "# result = umap_obj.fit_transform(factor_means.squeeze().T)\n",
    "\n",
    "pca = PCA(n_components=2)\n",
    "result = pca.fit_transform(factor_means.squeeze().T)\n",
    "\n",
    "result = pd.DataFrame(result)\n",
    "result[\"time\"] = mdata.obs[\"division_scaled\"].values\n",
    "fig, axs = plt.subplots(ncols=1, nrows=1, figsize=(8, 3.5))\n",
    "s = axs.scatter(result[0], result[1], c = result[\"time\"])\n",
    "fig.colorbar(s, ax=axs)"
   ]
  }
 ],
 "metadata": {
  "kernelspec": {
   "display_name": "cellij",
   "language": "python",
   "name": "cellij"
  },
  "language_info": {
   "codemirror_mode": {
    "name": "ipython",
    "version": 3
   },
   "file_extension": ".py",
   "mimetype": "text/x-python",
   "name": "python",
   "nbconvert_exporter": "python",
   "pygments_lexer": "ipython3",
   "version": "3.10.12"
  },
  "orig_nbformat": 4,
  "vscode": {
   "interpreter": {
    "hash": "fb4f5121f983b79e8c72a11ace195841a97f195351fa26695e1ce451212bc1d6"
   }
  }
 },
 "nbformat": 4,
 "nbformat_minor": 2
}
