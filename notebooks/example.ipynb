{
 "cells": [
  {
   "cell_type": "code",
   "execution_count": 1,
   "metadata": {},
   "outputs": [
    {
     "name": "stderr",
     "output_type": "stream",
     "text": [
      "/Users/tim.treis/anaconda3/envs/spatialdata/envs/cellij/lib/python3.9/site-packages/tqdm/auto.py:22: TqdmWarning: IProgress not found. Please update jupyter and ipywidgets. See https://ipywidgets.readthedocs.io/en/stable/user_install.html\n",
      "  from .autonotebook import tqdm as notebook_tqdm\n"
     ]
    }
   ],
   "source": [
    "from cellij.core.models import MOFA\n",
    "from cellij.core._data import Importer\n",
    "import muon as mu\n",
    "import scanpy as sc\n",
    "import pandas as pd\n",
    "import numpy as np\n"
   ]
  },
  {
   "cell_type": "code",
   "execution_count": 2,
   "metadata": {},
   "outputs": [],
   "source": [
    "# When using a MOFA model, the only argument that is required is the number of factors.\n",
    "mofa = MOFA(n_factors=10)\n"
   ]
  },
  {
   "cell_type": "code",
   "execution_count": 3,
   "metadata": {},
   "outputs": [
    {
     "name": "stderr",
     "output_type": "stream",
     "text": [
      "/Users/tim.treis/Documents/GitHub/cellij/cellij/core/_data.py:82: FutureWarning: X.dtype being converted to np.float32 from float64. In the next version of anndata (0.9) conversion will not be automatic. Pass dtype explicitly to avoid this warning. Pass `AnnData(X, dtype=X.dtype, ...)` to get the future behavour.\n",
      "  modalities[ome] = anndata.AnnData(\n",
      "/Users/tim.treis/Documents/GitHub/cellij/cellij/core/_data.py:82: FutureWarning: X.dtype being converted to np.float32 from float64. In the next version of anndata (0.9) conversion will not be automatic. Pass dtype explicitly to avoid this warning. Pass `AnnData(X, dtype=X.dtype, ...)` to get the future behavour.\n",
      "  modalities[ome] = anndata.AnnData(\n",
      "/Users/tim.treis/Documents/GitHub/cellij/cellij/core/_data.py:82: FutureWarning: X.dtype being converted to np.float32 from float64. In the next version of anndata (0.9) conversion will not be automatic. Pass dtype explicitly to avoid this warning. Pass `AnnData(X, dtype=X.dtype, ...)` to get the future behavour.\n",
      "  modalities[ome] = anndata.AnnData(\n",
      "/Users/tim.treis/Documents/GitHub/cellij/cellij/core/_data.py:82: FutureWarning: X.dtype being converted to np.float32 from float64. In the next version of anndata (0.9) conversion will not be automatic. Pass dtype explicitly to avoid this warning. Pass `AnnData(X, dtype=X.dtype, ...)` to get the future behavour.\n",
      "  modalities[ome] = anndata.AnnData(\n"
     ]
    }
   ],
   "source": [
    "cll_data = Importer().load_CLL()\n",
    "mdata = cll_data[\"mrna\"]\n"
   ]
  },
  {
   "cell_type": "code",
   "execution_count": 4,
   "metadata": {},
   "outputs": [],
   "source": [
    "# Add data to the model\n",
    "mofa.add_data(data=mdata, name=\"cll\")\n"
   ]
  },
  {
   "cell_type": "code",
   "execution_count": 5,
   "metadata": {},
   "outputs": [
    {
     "ename": "KeyError",
     "evalue": "'mrna'",
     "output_type": "error",
     "traceback": [
      "\u001b[0;31m---------------------------------------------------------------------------\u001b[0m",
      "\u001b[0;31mKeyError\u001b[0m                                  Traceback (most recent call last)",
      "File \u001b[0;32m~/anaconda3/envs/spatialdata/envs/cellij/lib/python3.9/site-packages/pandas/core/indexes/base.py:3802\u001b[0m, in \u001b[0;36mIndex.get_loc\u001b[0;34m(self, key, method, tolerance)\u001b[0m\n\u001b[1;32m   3801\u001b[0m \u001b[39mtry\u001b[39;00m:\n\u001b[0;32m-> 3802\u001b[0m     \u001b[39mreturn\u001b[39;00m \u001b[39mself\u001b[39;49m\u001b[39m.\u001b[39;49m_engine\u001b[39m.\u001b[39;49mget_loc(casted_key)\n\u001b[1;32m   3803\u001b[0m \u001b[39mexcept\u001b[39;00m \u001b[39mKeyError\u001b[39;00m \u001b[39mas\u001b[39;00m err:\n",
      "File \u001b[0;32m~/anaconda3/envs/spatialdata/envs/cellij/lib/python3.9/site-packages/pandas/_libs/index.pyx:138\u001b[0m, in \u001b[0;36mpandas._libs.index.IndexEngine.get_loc\u001b[0;34m()\u001b[0m\n",
      "File \u001b[0;32m~/anaconda3/envs/spatialdata/envs/cellij/lib/python3.9/site-packages/pandas/_libs/index.pyx:165\u001b[0m, in \u001b[0;36mpandas._libs.index.IndexEngine.get_loc\u001b[0;34m()\u001b[0m\n",
      "File \u001b[0;32mpandas/_libs/hashtable_class_helper.pxi:5745\u001b[0m, in \u001b[0;36mpandas._libs.hashtable.PyObjectHashTable.get_item\u001b[0;34m()\u001b[0m\n",
      "File \u001b[0;32mpandas/_libs/hashtable_class_helper.pxi:5753\u001b[0m, in \u001b[0;36mpandas._libs.hashtable.PyObjectHashTable.get_item\u001b[0;34m()\u001b[0m\n",
      "\u001b[0;31mKeyError\u001b[0m: 'mrna'",
      "\nThe above exception was the direct cause of the following exception:\n",
      "\u001b[0;31mKeyError\u001b[0m                                  Traceback (most recent call last)",
      "\u001b[1;32m/Users/tim.treis/Documents/GitHub/cellij/notebooks/example.ipynb Cell 5\u001b[0m in \u001b[0;36m<cell line: 3>\u001b[0;34m()\u001b[0m\n\u001b[1;32m      <a href='vscode-notebook-cell:/Users/tim.treis/Documents/GitHub/cellij/notebooks/example.ipynb#W4sZmlsZQ%3D%3D?line=0'>1</a>\u001b[0m \u001b[39m# We fit a model that only factorizes the mrna data into a product\u001b[39;00m\n\u001b[1;32m      <a href='vscode-notebook-cell:/Users/tim.treis/Documents/GitHub/cellij/notebooks/example.ipynb#W4sZmlsZQ%3D%3D?line=1'>2</a>\u001b[0m \u001b[39m# of two low-rank matrices. The other modalities are not factorized.\u001b[39;00m\n\u001b[0;32m----> <a href='vscode-notebook-cell:/Users/tim.treis/Documents/GitHub/cellij/notebooks/example.ipynb#W4sZmlsZQ%3D%3D?line=2'>3</a>\u001b[0m mofa\u001b[39m.\u001b[39;49mfit(\n\u001b[1;32m      <a href='vscode-notebook-cell:/Users/tim.treis/Documents/GitHub/cellij/notebooks/example.ipynb#W4sZmlsZQ%3D%3D?line=3'>4</a>\u001b[0m     likelihood\u001b[39m=\u001b[39;49m\u001b[39m\"\u001b[39;49m\u001b[39mNormal\u001b[39;49m\u001b[39m\"\u001b[39;49m,\n\u001b[1;32m      <a href='vscode-notebook-cell:/Users/tim.treis/Documents/GitHub/cellij/notebooks/example.ipynb#W4sZmlsZQ%3D%3D?line=4'>5</a>\u001b[0m )\n",
      "File \u001b[0;32m~/Documents/GitHub/cellij/cellij/core/_factormodel.py:249\u001b[0m, in \u001b[0;36mFactorModel.fit\u001b[0;34m(self, likelihood, dry_run, epochs, **kwargs)\u001b[0m\n\u001b[1;32m    241\u001b[0m svi \u001b[39m=\u001b[39m SVI(\n\u001b[1;32m    242\u001b[0m     model\u001b[39m=\u001b[39m\u001b[39mself\u001b[39m\u001b[39m.\u001b[39m_model,\n\u001b[1;32m    243\u001b[0m     guide\u001b[39m=\u001b[39m\u001b[39mself\u001b[39m\u001b[39m.\u001b[39m_guide,\n\u001b[1;32m    244\u001b[0m     optim\u001b[39m=\u001b[39mpyro\u001b[39m.\u001b[39moptim\u001b[39m.\u001b[39mAdam({\u001b[39m\"\u001b[39m\u001b[39mlr\u001b[39m\u001b[39m\"\u001b[39m: \u001b[39m0.05\u001b[39m, \u001b[39m\"\u001b[39m\u001b[39mbetas\u001b[39m\u001b[39m\"\u001b[39m: (\u001b[39m0.90\u001b[39m, \u001b[39m0.999\u001b[39m)}),\n\u001b[1;32m    245\u001b[0m     loss\u001b[39m=\u001b[39mpyro\u001b[39m.\u001b[39minfer\u001b[39m.\u001b[39mTrace_ELBO(),\n\u001b[1;32m    246\u001b[0m )\n\u001b[1;32m    248\u001b[0m \u001b[39mfor\u001b[39;00m i \u001b[39min\u001b[39;00m \u001b[39mrange\u001b[39m(epochs \u001b[39m+\u001b[39m \u001b[39m1\u001b[39m):\n\u001b[0;32m--> 249\u001b[0m     loss \u001b[39m=\u001b[39m svi\u001b[39m.\u001b[39mstep(X\u001b[39m=\u001b[39mtorch\u001b[39m.\u001b[39mtensor(\u001b[39mself\u001b[39;49m\u001b[39m.\u001b[39;49m_data[\u001b[39m\"\u001b[39;49m\u001b[39mmrna\u001b[39;49m\u001b[39m\"\u001b[39;49m]\u001b[39m.\u001b[39mX))\n\u001b[1;32m    251\u001b[0m     \u001b[39mif\u001b[39;00m i \u001b[39m%\u001b[39m \u001b[39m100\u001b[39m \u001b[39m==\u001b[39m \u001b[39m0\u001b[39m:\n\u001b[1;32m    252\u001b[0m         \u001b[39mprint\u001b[39m(\u001b[39mf\u001b[39m\u001b[39m\"\u001b[39m\u001b[39mEpoch \u001b[39m\u001b[39m{\u001b[39;00mi\u001b[39m:\u001b[39;00m\u001b[39m>6\u001b[39m\u001b[39m}\u001b[39;00m\u001b[39m: \u001b[39m\u001b[39m{\u001b[39;00mloss\u001b[39m:\u001b[39;00m\u001b[39m>14.2f\u001b[39m\u001b[39m}\u001b[39;00m\u001b[39m\"\u001b[39m)\n",
      "File \u001b[0;32m~/anaconda3/envs/spatialdata/envs/cellij/lib/python3.9/site-packages/anndata/_core/anndata.py:1113\u001b[0m, in \u001b[0;36mAnnData.__getitem__\u001b[0;34m(self, index)\u001b[0m\n\u001b[1;32m   1111\u001b[0m \u001b[39mdef\u001b[39;00m \u001b[39m__getitem__\u001b[39m(\u001b[39mself\u001b[39m, index: Index) \u001b[39m-\u001b[39m\u001b[39m>\u001b[39m \u001b[39m\"\u001b[39m\u001b[39mAnnData\u001b[39m\u001b[39m\"\u001b[39m:\n\u001b[1;32m   1112\u001b[0m     \u001b[39m\"\"\"Returns a sliced view of the object.\"\"\"\u001b[39;00m\n\u001b[0;32m-> 1113\u001b[0m     oidx, vidx \u001b[39m=\u001b[39m \u001b[39mself\u001b[39;49m\u001b[39m.\u001b[39;49m_normalize_indices(index)\n\u001b[1;32m   1114\u001b[0m     \u001b[39mreturn\u001b[39;00m AnnData(\u001b[39mself\u001b[39m, oidx\u001b[39m=\u001b[39moidx, vidx\u001b[39m=\u001b[39mvidx, asview\u001b[39m=\u001b[39m\u001b[39mTrue\u001b[39;00m)\n",
      "File \u001b[0;32m~/anaconda3/envs/spatialdata/envs/cellij/lib/python3.9/site-packages/anndata/_core/anndata.py:1094\u001b[0m, in \u001b[0;36mAnnData._normalize_indices\u001b[0;34m(self, index)\u001b[0m\n\u001b[1;32m   1093\u001b[0m \u001b[39mdef\u001b[39;00m \u001b[39m_normalize_indices\u001b[39m(\u001b[39mself\u001b[39m, index: Optional[Index]) \u001b[39m-\u001b[39m\u001b[39m>\u001b[39m Tuple[\u001b[39mslice\u001b[39m, \u001b[39mslice\u001b[39m]:\n\u001b[0;32m-> 1094\u001b[0m     \u001b[39mreturn\u001b[39;00m _normalize_indices(index, \u001b[39mself\u001b[39;49m\u001b[39m.\u001b[39;49mobs_names, \u001b[39mself\u001b[39;49m\u001b[39m.\u001b[39;49mvar_names)\n",
      "File \u001b[0;32m~/anaconda3/envs/spatialdata/envs/cellij/lib/python3.9/site-packages/anndata/_core/index.py:35\u001b[0m, in \u001b[0;36m_normalize_indices\u001b[0;34m(index, names0, names1)\u001b[0m\n\u001b[1;32m     33\u001b[0m         index \u001b[39m=\u001b[39m index[\u001b[39m0\u001b[39m]\u001b[39m.\u001b[39mvalues, index[\u001b[39m1\u001b[39m]\n\u001b[1;32m     34\u001b[0m ax0, ax1 \u001b[39m=\u001b[39m unpack_index(index)\n\u001b[0;32m---> 35\u001b[0m ax0 \u001b[39m=\u001b[39m _normalize_index(ax0, names0)\n\u001b[1;32m     36\u001b[0m ax1 \u001b[39m=\u001b[39m _normalize_index(ax1, names1)\n\u001b[1;32m     37\u001b[0m \u001b[39mreturn\u001b[39;00m ax0, ax1\n",
      "File \u001b[0;32m~/anaconda3/envs/spatialdata/envs/cellij/lib/python3.9/site-packages/anndata/_core/index.py:75\u001b[0m, in \u001b[0;36m_normalize_index\u001b[0;34m(indexer, index)\u001b[0m\n\u001b[1;32m     73\u001b[0m     \u001b[39mreturn\u001b[39;00m indexer\n\u001b[1;32m     74\u001b[0m \u001b[39melif\u001b[39;00m \u001b[39misinstance\u001b[39m(indexer, \u001b[39mstr\u001b[39m):\n\u001b[0;32m---> 75\u001b[0m     \u001b[39mreturn\u001b[39;00m index\u001b[39m.\u001b[39;49mget_loc(indexer)  \u001b[39m# int\u001b[39;00m\n\u001b[1;32m     76\u001b[0m \u001b[39melif\u001b[39;00m \u001b[39misinstance\u001b[39m(indexer, (Sequence, np\u001b[39m.\u001b[39mndarray, pd\u001b[39m.\u001b[39mIndex, spmatrix, np\u001b[39m.\u001b[39mmatrix)):\n\u001b[1;32m     77\u001b[0m     \u001b[39mif\u001b[39;00m \u001b[39mhasattr\u001b[39m(indexer, \u001b[39m\"\u001b[39m\u001b[39mshape\u001b[39m\u001b[39m\"\u001b[39m) \u001b[39mand\u001b[39;00m (\n\u001b[1;32m     78\u001b[0m         (indexer\u001b[39m.\u001b[39mshape \u001b[39m==\u001b[39m (index\u001b[39m.\u001b[39mshape[\u001b[39m0\u001b[39m], \u001b[39m1\u001b[39m))\n\u001b[1;32m     79\u001b[0m         \u001b[39mor\u001b[39;00m (indexer\u001b[39m.\u001b[39mshape \u001b[39m==\u001b[39m (\u001b[39m1\u001b[39m, index\u001b[39m.\u001b[39mshape[\u001b[39m0\u001b[39m]))\n\u001b[1;32m     80\u001b[0m     ):\n",
      "File \u001b[0;32m~/anaconda3/envs/spatialdata/envs/cellij/lib/python3.9/site-packages/pandas/core/indexes/base.py:3804\u001b[0m, in \u001b[0;36mIndex.get_loc\u001b[0;34m(self, key, method, tolerance)\u001b[0m\n\u001b[1;32m   3802\u001b[0m     \u001b[39mreturn\u001b[39;00m \u001b[39mself\u001b[39m\u001b[39m.\u001b[39m_engine\u001b[39m.\u001b[39mget_loc(casted_key)\n\u001b[1;32m   3803\u001b[0m \u001b[39mexcept\u001b[39;00m \u001b[39mKeyError\u001b[39;00m \u001b[39mas\u001b[39;00m err:\n\u001b[0;32m-> 3804\u001b[0m     \u001b[39mraise\u001b[39;00m \u001b[39mKeyError\u001b[39;00m(key) \u001b[39mfrom\u001b[39;00m \u001b[39merr\u001b[39;00m\n\u001b[1;32m   3805\u001b[0m \u001b[39mexcept\u001b[39;00m \u001b[39mTypeError\u001b[39;00m:\n\u001b[1;32m   3806\u001b[0m     \u001b[39m# If we have a listlike key, _check_indexing_error will raise\u001b[39;00m\n\u001b[1;32m   3807\u001b[0m     \u001b[39m#  InvalidIndexError. Otherwise we fall through and re-raise\u001b[39;00m\n\u001b[1;32m   3808\u001b[0m     \u001b[39m#  the TypeError.\u001b[39;00m\n\u001b[1;32m   3809\u001b[0m     \u001b[39mself\u001b[39m\u001b[39m.\u001b[39m_check_indexing_error(key)\n",
      "\u001b[0;31mKeyError\u001b[0m: 'mrna'"
     ]
    }
   ],
   "source": [
    "# We fit a model that only factorizes the mrna data into a product\n",
    "# of two low-rank matrices. The other modalities are not factorized.\n",
    "mofa.fit(\n",
    "    likelihood=\"Normal\",\n",
    ")\n"
   ]
  }
 ],
 "metadata": {
  "kernelspec": {
   "display_name": "cellij",
   "language": "python",
   "name": "python3"
  },
  "language_info": {
   "codemirror_mode": {
    "name": "ipython",
    "version": 3
   },
   "file_extension": ".py",
   "mimetype": "text/x-python",
   "name": "python",
   "nbconvert_exporter": "python",
   "pygments_lexer": "ipython3",
   "version": "3.9.7"
  },
  "orig_nbformat": 4,
  "vscode": {
   "interpreter": {
    "hash": "274c2137ae10d64059d3c1f64686a799efc57415fad2ba2d522bc89475aeae04"
   }
  }
 },
 "nbformat": 4,
 "nbformat_minor": 2
}
