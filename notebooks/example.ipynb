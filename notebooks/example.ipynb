{
 "cells": [
  {
   "cell_type": "code",
   "execution_count": 1,
   "metadata": {},
   "outputs": [
    {
     "name": "stderr",
     "output_type": "stream",
     "text": [
      "/Users/martin/miniconda3/envs/cellij/lib/python3.8/site-packages/tqdm/auto.py:22: TqdmWarning: IProgress not found. Please update jupyter and ipywidgets. See https://ipywidgets.readthedocs.io/en/stable/user_install.html\n",
      "  from .autonotebook import tqdm as notebook_tqdm\n"
     ]
    }
   ],
   "source": [
    "from cellij.core.models import MOFA\n",
    "import muon as mu\n",
    "import scanpy as sc\n",
    "import pandas as pd\n",
    "import numpy as np\n"
   ]
  },
  {
   "cell_type": "code",
   "execution_count": 2,
   "metadata": {},
   "outputs": [],
   "source": [
    "# When using a MOFA model, the only argument that is required is the number of factors.\n",
    "mofa = MOFA(n_factors=10)\n"
   ]
  },
  {
   "cell_type": "code",
   "execution_count": 3,
   "metadata": {},
   "outputs": [
    {
     "name": "stderr",
     "output_type": "stream",
     "text": [
      "/Users/martin/miniconda3/envs/cellij/lib/python3.8/site-packages/anndata/utils.py:143: UserWarning: X converted to numpy array with dtype float64\n",
      "  warnings.warn(f\"{name} converted to numpy array with dtype {arr.dtype}\")\n",
      "/Users/martin/miniconda3/envs/cellij/lib/python3.8/site-packages/mudata/_core/mudata.py:458: UserWarning: Cannot join columns with the same name because var_names are intersecting.\n",
      "  warnings.warn(\n"
     ]
    }
   ],
   "source": [
    "# Load CLL data\n",
    "modalities = {}\n",
    "for ome in [\"drugs\", \"methylation\", \"mrna\", \"mutations\"]:\n",
    "    modalities[ome] = sc.AnnData(\n",
    "        pd.read_csv(\n",
    "            filepath_or_buffer=f\"../data/cll/cll_{ome}.csv\",\n",
    "            sep=\",\",\n",
    "            index_col=0,\n",
    "            encoding=\"utf_8\",\n",
    "        ),\n",
    "        dtype=np.float32,\n",
    "    )\n",
    "\n",
    "obs = pd.read_csv(\n",
    "    filepath_or_buffer=\"../data/cll/cll_metadata.csv\",\n",
    "    sep=\",\",\n",
    "    index_col=\"Sample\",\n",
    "    encoding=\"utf_8\",\n",
    ")\n",
    "\n",
    "mdata = mu.MuData(modalities)\n",
    "mdata.obs = mdata.obs.join(obs)\n"
   ]
  },
  {
   "cell_type": "code",
   "execution_count": 4,
   "metadata": {},
   "outputs": [],
   "source": [
    "# Add data to the model\n",
    "mofa.add_data(data=mdata, name=\"cll\")\n"
   ]
  },
  {
   "cell_type": "code",
   "execution_count": 5,
   "metadata": {},
   "outputs": [
    {
     "name": "stdout",
     "output_type": "stream",
     "text": [
      "Epoch      0:    17651130.95\n",
      "Epoch    100:     1282976.94\n",
      "Epoch    200:     1219672.84\n",
      "Epoch    300:     1164368.24\n",
      "Epoch    400:     1113559.58\n",
      "Epoch    500:     1081006.19\n",
      "Epoch    600:     1066368.58\n",
      "Epoch    700:     1055290.83\n",
      "Epoch    800:     1049780.88\n",
      "Epoch    900:     1046879.43\n",
      "Epoch   1000:     1042745.73\n"
     ]
    }
   ],
   "source": [
    "# We fit a model that only factorizes the mrna data into a product\n",
    "# of two low-rank matrices. The other modalities are not factorized.\n",
    "mofa.fit(\n",
    "    likelihood=\"Normal\",\n",
    ")\n"
   ]
  }
 ],
 "metadata": {
  "kernelspec": {
   "display_name": "cellij",
   "language": "python",
   "name": "python3"
  },
  "language_info": {
   "codemirror_mode": {
    "name": "ipython",
    "version": 3
   },
   "file_extension": ".py",
   "mimetype": "text/x-python",
   "name": "python",
   "nbconvert_exporter": "python",
   "pygments_lexer": "ipython3",
   "version": "3.8.16"
  },
  "orig_nbformat": 4,
  "vscode": {
   "interpreter": {
    "hash": "3c5d6aacb90b7c4b7bed5bf6a9d31898fe7c8f5cf29edd2f018ea8d56f6712ae"
   }
  }
 },
 "nbformat": 4,
 "nbformat_minor": 2
}
